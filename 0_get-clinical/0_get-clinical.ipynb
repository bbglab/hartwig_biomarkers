{
 "cells": [
  {
   "cell_type": "markdown",
   "id": "0",
   "metadata": {},
   "source": [
    "## Clinical Data - Join, Organize, Clean\n",
    "- Most important notebook for Hartwig analysis"
   ]
  },
  {
   "cell_type": "code",
   "execution_count": null,
   "id": "1",
   "metadata": {},
   "outputs": [],
   "source": [
    "import sys\n",
    "import os\n",
    "\n",
    "sys.path.insert(0, f'{os.path.dirname(os.getcwd())}/')\n",
    "\n",
    "from mission_control.treasure_map import I_DIR, TMP_DIR\n",
    "from mission_control.clinical_help import *"
   ]
  },
  {
   "cell_type": "code",
   "execution_count": null,
   "id": "2",
   "metadata": {},
   "outputs": [],
   "source": [
    "meta = pd.read_csv( I_DIR + \"metadata.tsv\", sep='\\t')\n",
    "pre = pd.read_csv( I_DIR + \"pre_biopsy_drugs.tsv\", sep='\\t')\n",
    "post = pd.read_csv( I_DIR + \"post_biopsy_drugs.tsv\", sep='\\t')\n",
    "response = pd.read_csv( I_DIR + \"treatment_responses.tsv\", sep='\\t')"
   ]
  },
  {
   "cell_type": "markdown",
   "id": "3",
   "metadata": {},
   "source": [
    "### 0 - Flatten data + Merge Data"
   ]
  },
  {
   "cell_type": "code",
   "execution_count": null,
   "id": "4",
   "metadata": {},
   "outputs": [],
   "source": [
    "pre_flat = flatten_data(pre, ['patientIdentifier'], \"/\")\n",
    "post_flat = flatten_data(post, ['patientIdentifier', 'sampleId'], \"/\")\n",
    "\n",
    "pre_flat.columns = ['pre_' + i if i not in ['patientIdentifier', 'sampleId'] else i for i in pre_flat.columns]\n",
    "post_flat.columns = ['post_' + i if i not in ['patientIdentifier', 'sampleId'] else i for i in post_flat.columns]\n",
    "meta.columns = ['meta_' + i if i not in ['patientIdentifier', 'sampleId'] else i for i in meta.columns]\n",
    "response.columns = ['response_' + i if i not in ['patientIdentifier', 'sampleId', 'response', 'responseDate'] else i for i in response.columns]\n",
    "\n",
    "for j in ['Chemotherapy', 'Immunotherapy', 'Hormonal','Androgen', 'Targeted', 'estrogen']:\n",
    "    pre_flat[['pre_contains_' + j]] = [True if j in i else False for i in pre_flat['pre_type']]\n",
    "for j in ['Chemotherapy', 'Immunotherapy', 'Hormonal', 'Androgen', 'Targeted', 'estrogen']:\n",
    "    post_flat[['post_contains_' + j]] = [True if j in i else False for i in post_flat['post_type']]   \n",
    "    \n",
    "join1 = pd.merge( left = post_flat, right = meta, on = [\"sampleId\"], how = \"left\" )\n",
    "join2 = pd.merge( left = join1, right = response, on = [\"patientIdentifier\", \"sampleId\"], how = \"left\" )\n",
    "clinical = pd.merge( left = join2, right = pre_flat, on = [\"patientIdentifier\"], how = \"left\" )    "
   ]
  },
  {
   "cell_type": "markdown",
   "id": "5",
   "metadata": {},
   "source": [
    "### 1 - Add fields"
   ]
  },
  {
   "cell_type": "code",
   "execution_count": null,
   "id": "6",
   "metadata": {},
   "outputs": [],
   "source": [
    "def days_between(d1: str, d2: str) -> Optional[int]:\n",
    "    if all([type(d1)==str, type(d2)==str]) and d1 != 'NaN' and d2 != 'NaN' and d1 != \"\" and d2 != \"\":\n",
    "        d1 = datetime.strptime(d1, \"%Y-%m-%d\")\n",
    "        d2 = datetime.strptime(d2, \"%Y-%m-%d\")\n",
    "        return abs((d2 - d1).days)\n",
    "    else:\n",
    "        return None"
   ]
  },
  {
   "cell_type": "code",
   "execution_count": null,
   "id": "7",
   "metadata": {},
   "outputs": [],
   "source": [
    "### Time Fields ###\n",
    "clinical[['last_measured_date']] = [last_date(clinical['meta_treatmentEndDate'].tolist()[i], clinical['responseDate'].tolist()[i]) for i in range(clinical.shape[0])]\n",
    "clinical[['pre_treatment_duration']] = [days_between(clinical['pre_startDate'].tolist()[i], clinical['pre_endDate'].tolist()[i]) for i in range(clinical.shape[0])]\n",
    "clinical[['pre_to_post_treatment_time']] = [days_between(clinical['pre_endDate'].tolist()[i], clinical['meta_treatmentStartDate'].tolist()[i]) for i in range(clinical.shape[0])]\n",
    "clinical[['treatment_duration']] = [days_between(clinical['meta_treatmentStartDate'].tolist()[i], clinical['meta_treatmentEndDate'].tolist()[i]) for i in range(clinical.shape[0])]\n",
    "clinical[['time_from_biopsy_to_treatment']] = [days_between(clinical['meta_biopsyDate'].tolist()[i], clinical['meta_treatmentStartDate'].tolist()[i]) for i in range(clinical.shape[0])]\n",
    "clinical[['time_to_response_in_days']] = [days_between(clinical['meta_treatmentStartDate'].tolist()[i], clinical['responseDate'].tolist()[i]) for i in range(clinical.shape[0])]\n",
    "clinical[['time_to_death_in_days']] = [days_between(clinical['meta_treatmentStartDate'].tolist()[i], clinical['meta_deathDate'].tolist()[i]) for i in range(clinical.shape[0])]\n",
    "clinical[['time_to_last_measurement_in_days']] = [days_between(clinical['meta_treatmentStartDate'].tolist()[i], clinical['last_measured_date'].tolist()[i]) for i in range(clinical.shape[0])]\n",
    "clinical[[\"age_at_treatment_start\"]] = [ float(str(clinical[\"meta_treatmentStartDate\"].tolist()[i]).split(\"-\")[0]) - float(clinical[\"meta_birthYear\"].tolist()[i]) for i in range(clinical.shape[0])]\n",
    "\n",
    "### Indicators ### \n",
    "clinical[['os_event']] = [ int(not math.isnan(i)) for i in clinical['time_to_death_in_days']]\n",
    "clinical[[\"response_mechanism\"]] = [ get_full_response_mechanism(clinical['post_name'].tolist()[i], clinical['response_mechanism'].tolist()[i]) for i in range(clinical.shape[0])]\n",
    "clinical[['progression']] = [int(clinical['response'].tolist()[i] == \"PD\") for i in range(clinical.shape[0])]\n",
    "clinical = add_tumor_location_group(clinical, 'meta_primaryTumorLocation')\n",
    "clinical[['biopsy_site']] = [clean_biopsy_field(i) for i in clinical['meta_biopsySite']]\n",
    "clinical[['biopsy_distal_proximal']] = [distal_proximal_biopsy(i,dict_met) for i in list(zip(clinical.meta_primaryTumorLocation, clinical.meta_biopsySite))]\n",
    "\n",
    "### Responses ###\n",
    "clinical = add_recist_group( clinical, 'response' )\n",
    "clinical = add_recist_group_binary( clinical, 'response' )\n",
    "clinical['response'] = pd.Categorical(clinical['response'], [\"CR\", \"PR\", \"SD\", \"Non-CR/Non-PD\", \"ND\", \"Clinical progression\", \"PD\"])\n",
    "clinical = clinical.drop(labels = [\"meta_firstResponse\",\"meta_responseDate\",\"response_startDate\",\"response_endDate\",\"post_startDate\", \"post_endDate\"], axis = 1)"
   ]
  },
  {
   "cell_type": "markdown",
   "id": "8",
   "metadata": {},
   "source": [
    "### 2 - Get 'Short'\n",
    "- Flatten dataframe"
   ]
  },
  {
   "cell_type": "code",
   "execution_count": null,
   "id": "9",
   "metadata": {},
   "outputs": [],
   "source": [
    "clinical_last = ( \n",
    "    clinical.sort_values([\"responseDate\"], ascending = True)\n",
    "        .groupby(['patientIdentifier','sampleId'])\n",
    "        .tail(1)\n",
    "        .rename( columns = {\n",
    "            'response': 'last_response', \n",
    "            'response_group': 'last_response_group', \n",
    "            'responseDate': 'last_response_date', \n",
    "            'time_to_response_in_days': 'last_response_time_in_days', \n",
    "            'response_binary': 'last_response_binary'\n",
    "        })\n",
    ")\n",
    "clinical_best = (\n",
    "    clinical.sort_values([\"response\",\"responseDate\"], ascending = True)\n",
    "        .groupby(['patientIdentifier','sampleId'])\n",
    "        .head(1)\n",
    "        .rename( columns = {\n",
    "            'response': 'best_response', \n",
    "            'response_group': 'best_response_group', \n",
    "            'responseDate': 'best_response_date', \n",
    "            'time_to_response_in_days': 'best_response_time_in_days', \n",
    "            'response_binary': 'best_response_binary'\n",
    "        })\n",
    "     [['patientIdentifier','sampleId','best_response', 'best_response_group', 'best_response_binary', 'best_response_date', 'best_response_time_in_days']]\n",
    ")\n",
    "clinical_progression = (\n",
    "    clinical.sort_values([\"progression\",\"responseDate\"], ascending = [False,True])\n",
    "        .groupby(['patientIdentifier','sampleId'])\n",
    "        .head(1)\n",
    "        .rename( columns = {\n",
    "            'responseDate': 'progression_date', \n",
    "            'time_to_response_in_days': 'progression_time'\n",
    "        })\n",
    "    [['patientIdentifier','sampleId','progression_date', 'progression_time']]\n",
    ")     \n",
    "clinical_short = (clinical_last.merge(clinical_best, on=['patientIdentifier','sampleId'])\n",
    "                               .merge(clinical_progression, on=['patientIdentifier','sampleId']))"
   ]
  },
  {
   "cell_type": "markdown",
   "id": "10",
   "metadata": {},
   "source": [
    "#### Derive more clinical endpoints"
   ]
  },
  {
   "cell_type": "code",
   "execution_count": null,
   "id": "11",
   "metadata": {},
   "outputs": [],
   "source": [
    "clinical_short[['pfs_event']] = [ pfs_event( clinical_short['os_event'][i], clinical_short['progression'][i])\n",
    "                                for i in range(clinical_short.shape[0])]\n",
    "\n",
    "clinical_short['time_to_os_event'] = [time_to_last_response( \n",
    "                                                clinical_short['os_event'][i],\n",
    "                                                clinical_short['time_to_death_in_days'][i],\n",
    "                                                clinical_short['time_to_last_measurement_in_days'][i])\n",
    "                                           for i in range(clinical_short.shape[0])]\n",
    "\n",
    "clinical_short['time_to_pfs_event'] = [time_to_progression(  clinical_short['progression'][i],\n",
    "                                                             clinical_short['progression_time'][i],\n",
    "                                                             clinical_short['os_event'][i],\n",
    "                                                             clinical_short['time_to_death_in_days'][i],\n",
    "                                                             clinical_short['time_to_last_measurement_in_days'][i])\n",
    "                                           for i in range(clinical_short.shape[0])]\n",
    "\n",
    "clinical_short[['relapse']] = [relapse_or_delayed_response(i) for i in zip(clinical_short['pfs_event'], clinical_short['best_response_group'] == 'R', clinical_short['time_to_pfs_event'] > clinical_short['best_response_time_in_days'])]\n",
    "clinical_short[['delayed_response']] = [relapse_or_delayed_response(i) for i in zip(clinical_short['pfs_event'], clinical_short['best_response_group'] == 'R', clinical_short['time_to_pfs_event'] < clinical_short['best_response_time_in_days'])]\n",
    "\n",
    "clinical_short[['Survival_at_6_months']] = [survival_at_t( \n",
    "     clinical_short['meta_treatmentStartDate'][i], \n",
    "     clinical_short['time_to_last_measurement_in_days'][i], \n",
    "     clinical_short['time_to_death_in_days'][i], 183) for i in range(clinical_short.shape[0])]\n",
    "\n",
    "clinical_short[['Survival_at_12_months']] = [survival_at_t( \n",
    "     clinical_short['meta_treatmentStartDate'][i], \n",
    "     clinical_short['time_to_last_measurement_in_days'][i], \n",
    "     clinical_short['time_to_death_in_days'][i], 365) for i in range(clinical_short.shape[0])]\n",
    "\n",
    "clinical_short[['Survival_at_18_months']] = [survival_at_t( \n",
    "     clinical_short['meta_treatmentStartDate'][i], \n",
    "     clinical_short['time_to_last_measurement_in_days'][i], \n",
    "     clinical_short['time_to_death_in_days'][i], 551) for i in range(clinical_short.shape[0])]"
   ]
  },
  {
   "cell_type": "markdown",
   "id": "12",
   "metadata": {},
   "source": [
    "#### 3 - Tidy up and output"
   ]
  },
  {
   "cell_type": "code",
   "execution_count": null,
   "id": "13",
   "metadata": {},
   "outputs": [],
   "source": [
    "clinical_short.columns =  [column_namer(i) for i in clinical_short.columns.tolist()]\n",
    "clinical_short = sort_col_names(clinical_short)\n",
    "clinical_short = clinical_short.fillna(value=np.nan)"
   ]
  },
  {
   "cell_type": "code",
   "execution_count": null,
   "id": "14",
   "metadata": {},
   "outputs": [],
   "source": [
    "clinical_short.to_csv( TMP_DIR + \"clinical_short.csv\", index=False)\n",
    "clinical.to_csv( TMP_DIR + \"clinical_long.csv\", index=False)"
   ]
  }
 ],
 "metadata": {
  "kernelspec": {
   "display_name": "Python 3",
   "language": "python",
   "name": "python3"
  },
  "language_info": {
   "codemirror_mode": {
    "name": "ipython",
    "version": 3
   },
   "file_extension": ".py",
   "mimetype": "text/x-python",
   "name": "python",
   "nbconvert_exporter": "python",
   "pygments_lexer": "ipython3",
   "version": "3.8.8"
  }
 },
 "nbformat": 4,
 "nbformat_minor": 5
}
