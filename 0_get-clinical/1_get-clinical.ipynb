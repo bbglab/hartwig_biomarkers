{
 "cells": [
  {
   "cell_type": "code",
   "execution_count": null,
   "id": "0",
   "metadata": {},
   "outputs": [],
   "source": [
    "options(repr.matrix.max.cols=100, repr.matrix.max.rows=100)"
   ]
  },
  {
   "cell_type": "code",
   "execution_count": null,
   "id": "1",
   "metadata": {},
   "outputs": [],
   "source": [
    "wd <- dirname(getwd())\n",
    "source(paste0(wd,\"/mission_control/treasure_map.R\"))\n",
    "source(paste0(wd,\"/mission_control/clinical_help.R\"))\n",
    "\n",
    "library(dplyr)\n",
    "library(tidyr)"
   ]
  },
  {
   "cell_type": "markdown",
   "id": "2",
   "metadata": {},
   "source": [
    "### 0 - read in clinical data with dups "
   ]
  },
  {
   "cell_type": "code",
   "execution_count": null,
   "id": "3",
   "metadata": {},
   "outputs": [],
   "source": [
    "clinical <- read.csv(paste0( TMP_DIR, 'clinical_short.csv'), header=TRUE, sep = \",\", stringsAsFactors=FALSE)"
   ]
  },
  {
   "cell_type": "markdown",
   "id": "4",
   "metadata": {},
   "source": [
    "### 1 - De-dup patient data \n",
    "- Keep samples with higher purity"
   ]
  },
  {
   "cell_type": "code",
   "execution_count": null,
   "id": "5",
   "metadata": {},
   "outputs": [],
   "source": [
    "clinical <- \n",
    "clinical %>% \n",
    "  group_by(patientIdentifier, clinical_post_contains_Immunotherapy) %>% \n",
    "  mutate(rk = row_number(desc(clinical_meta_tumorPurity)) ) %>% \n",
    "  filter(rk == 1) %>%  \n",
    "  select(-rk)"
   ]
  },
  {
   "cell_type": "markdown",
   "id": "6",
   "metadata": {},
   "source": [
    "### 2 - Derive more features"
   ]
  },
  {
   "cell_type": "code",
   "execution_count": null,
   "id": "7",
   "metadata": {},
   "outputs": [],
   "source": [
    "clinical$clinical_number_pretreatment <- \n",
    "  unlist(lapply(clinical$ID_pre_name, function(i) length(strsplit(i, \"/\")[[1]])))"
   ]
  },
  {
   "cell_type": "markdown",
   "id": "8",
   "metadata": {},
   "source": [
    "####  Treatment mechanism indicators\n",
    "- Only indicators for mechanisms with atleast 20 samples\n",
    "- New addition after immune biomarkers project"
   ]
  },
  {
   "cell_type": "code",
   "execution_count": null,
   "id": "9",
   "metadata": {},
   "outputs": [],
   "source": [
    "trt_mechanisms <- unique(unlist(lapply(clinical$ID_post_mechanism, function(i) strsplit(i, \"/\")[[1]])))\n",
    "                                       \n",
    "sizes <- data.frame()\n",
    "for (i in c(trt_mechanisms, \"Pyrimidine\", \"GnRH\")){\n",
    "    size <- data.frame( \"trt_mechanism\" = i, ct = nrow(clinical %>% filter(grepl(i, ID_post_mechanism))))\n",
    "    sizes <- rbind(sizes, size) \n",
    "}\n",
    "sizes <- sizes %>% arrange(desc(ct)) %>% filter(trt_mechanism != \"inhibitor\") %>% filter(ct > 20)\n",
    "                                       \n",
    "for( i in sizes$trt_mechanism ){\n",
    "    clean_mech <- gsub(\"[^[:alnum:] ]\",\"\",i)\n",
    "    field_name <- paste0(\"clinical_trt_mechanism_contains_\", clean_mech )\n",
    "    clinical[,field_name] <- ifelse( grepl(i, clinical$ID_post_mechanism), 1, 0)\n",
    "}                                        "
   ]
  },
  {
   "cell_type": "markdown",
   "id": "10",
   "metadata": {},
   "source": [
    "#### Add subtype indicators\n",
    "- Only noteworthy subtypes with sufficient sample size are in breast and lung"
   ]
  },
  {
   "cell_type": "code",
   "execution_count": null,
   "id": "11",
   "metadata": {},
   "outputs": [],
   "source": [
    "subtypes <-\n",
    "clinical %>% \n",
    "  filter(clinical_meta_primaryTumorLocation %in% c(\"Breast\", \"Lung\")) %>% \n",
    "  group_by(ID_meta_primaryTumorSubType) %>% \n",
    "  summarise(ct = n()) %>% \n",
    "  arrange(desc(ct)) %>% \n",
    "  filter(ct > 20) %>% \n",
    "  pull(ID_meta_primaryTumorSubType)"
   ]
  },
  {
   "cell_type": "code",
   "execution_count": null,
   "id": "12",
   "metadata": {},
   "outputs": [],
   "source": [
    "for( i in subtypes ){\n",
    "    clean_subtype <- gsub(\" \", \"_\", gsub(\"[^[:alnum:] ]\",\"_\",i))\n",
    "    print(clean_subtype)\n",
    "    field_name <- paste0(\"clinical_subtype_\", clean_subtype )\n",
    "    clinical[,field_name] <- ifelse( grepl(i, clinical$ID_meta_primaryTumorSubType), 1, 0)\n",
    "}        "
   ]
  },
  {
   "cell_type": "markdown",
   "id": "13",
   "metadata": {},
   "source": [
    "#### More features added \n",
    "- Initially all from immunebiomarkers project "
   ]
  },
  {
   "cell_type": "code",
   "execution_count": null,
   "id": "14",
   "metadata": {},
   "outputs": [],
   "source": [
    "clinical$clinical_tumor_location_group <- unlist(lapply(clinical$clinical_tumor_location_group, tissue))\n",
    "clinical$clinical_meta_primaryTumorLocation <- unlist(lapply(clinical$clinical_meta_primaryTumorLocation, tissue))\n",
    "clinical$clinical_meta_consolidatedTreatmentType <- unlist(lapply(clinical$clinical_meta_consolidatedTreatmentType, therapy))\n",
    "clinical$clinical_meta_hasRadiotherapyPreTreatment <- ifelse(clinical$clinical_meta_hasRadiotherapyPreTreatment == \"Yes\", 1, 0)\n",
    "clinical$clinical_meta_hasSystemicPreTreatment2 <- ifelse(clinical$clinical_meta_hasSystemicPreTreatment == \"Yes\", 1, 0)\n",
    "clinical$clinical_meta_gender <- ifelse(clinical$clinical_meta_gender == \"female\", 1, 0)\n",
    "clinical$clinical_pre_contains_Chemotherapy <- ifelse(clinical$clinical_pre_contains_Chemotherapy == \"True\", 1, 0)\n",
    "clinical$clinical_post_contains_Chemotherapy <- ifelse(clinical$clinical_post_contains_Chemotherapy == \"True\", 1, 0)\n",
    "clinical$clinical_pre_contains_Hormonal <- ifelse(clinical$clinical_pre_contains_Hormonal == \"True\", 1, 0)\n",
    "clinical$clinical_post_contains_Hormonal <- ifelse(clinical$clinical_post_contains_Hormonal == \"True\", 1, 0)\n",
    "clinical$clinical_pre_contains_Immunotherapy <- ifelse(clinical$clinical_pre_contains_Immunotherapy == \"True\", 1, 0)\n",
    "clinical$clinical_pre_contains_Targeted <- ifelse(clinical$clinical_pre_contains_Targeted == \"True\", 1, 0)\n",
    "clinical$clinical_post_contains_Targeted <- ifelse(clinical$clinical_post_contains_Targeted == \"True\", 1, 0)\n",
    "clinical$clinical_pre_treated <- as.numeric(clinical$clinical_meta_hasRadiotherapyPreTreatment + clinical$clinical_meta_hasSystemicPreTreatment2 > 0)\n",
    "clinical$clinical_cpi_mechanism <- get_cpi_mechanism(clinical$clinical_meta_treatment)\n",
    "clinical$clinical_cpi_mechanism2 <- ifelse( clinical$clinical_cpi_mechanism %in% c(\"PD1\", \"PDL1\"), \"PD\", clinical$clinical_cpi_mechanism)\n",
    "clinical$clinical_cpi_mechanism3 <- ifelse( clinical$clinical_cpi_mechanism == \"multiple\", 1, 0)\n",
    "clinical$clinical_systemic_composite <- (\n",
    "        ifelse(clinical$clinical_meta_hasSystemicPreTreatment2 == 0, \n",
    "               365*10, \n",
    "               clinical$clinical_pre_to_post_treatment_time\n",
    "              )\n",
    ")\n",
    "clinical$clinical_multiple_treatment = ifelse( clinical$clinical_meta_consolidatedTreatmentType == \"multiple\", 1,0) "
   ]
  },
  {
   "cell_type": "markdown",
   "id": "15",
   "metadata": {},
   "source": [
    "### 3 - Select only outcome and clinical fields"
   ]
  },
  {
   "cell_type": "code",
   "execution_count": null,
   "id": "16",
   "metadata": {},
   "outputs": [],
   "source": [
    "clinical <- clinical %>% select(sampleId, \n",
    "                                patientIdentifier,\n",
    "                                ID_meta_hmfSampleId, \n",
    "                                Filter_meta_responseMeasured, \n",
    "                                Y_best_response_binary,\n",
    "                                Y_best_response, \n",
    "                                Y_best_response_time_in_days, \n",
    "                                Y_relapse, \n",
    "                                Survival_pfs_event, \n",
    "                                Survival_time_to_pfs_event,\n",
    "                                Survival_os_event,\n",
    "                                Survival_time_to_os_event,\n",
    "                                Survival_at_6_months,\n",
    "                                Survival_at_12_months,\n",
    "                                Survival_at_18_months, \n",
    "                                contains(\"clinical\"))"
   ]
  },
  {
   "cell_type": "markdown",
   "id": "17",
   "metadata": {},
   "source": [
    "### 4 - Output the Data "
   ]
  },
  {
   "cell_type": "code",
   "execution_count": null,
   "id": "18",
   "metadata": {},
   "outputs": [],
   "source": [
    "write.csv( clinical, paste0( TMP_DIR, 'clinical_ready.csv'), row.names = FALSE)"
   ]
  }
 ],
 "metadata": {
  "kernelspec": {
   "display_name": "R",
   "language": "R",
   "name": "ir"
  },
  "language_info": {
   "codemirror_mode": "r",
   "file_extension": ".r",
   "mimetype": "text/x-r-source",
   "name": "R",
   "pygments_lexer": "r",
   "version": "3.6.1"
  }
 },
 "nbformat": 4,
 "nbformat_minor": 5
}
