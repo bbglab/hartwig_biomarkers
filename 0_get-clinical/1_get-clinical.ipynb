{
 "cells": [
  {
   "cell_type": "code",
   "execution_count": 1,
   "id": "71df1f61",
   "metadata": {},
   "outputs": [
    {
     "name": "stderr",
     "output_type": "stream",
     "text": [
      "Warning message:\n",
      "“package ‘dplyr’ was built under R version 3.6.3”\n",
      "Attaching package: ‘dplyr’\n",
      "\n",
      "The following objects are masked from ‘package:stats’:\n",
      "\n",
      "    filter, lag\n",
      "\n",
      "The following objects are masked from ‘package:base’:\n",
      "\n",
      "    intersect, setdiff, setequal, union\n",
      "\n",
      "Warning message:\n",
      "“package ‘tidyr’ was built under R version 3.6.3”"
     ]
    }
   ],
   "source": [
    "wd <- dirname(getwd())\n",
    "source(paste0(wd,\"/mission_control/treasure_map.R\"))\n",
    "source(paste0(wd,\"/mission_control/clinical_help.R\"))\n",
    "\n",
    "library(dplyr)\n",
    "library(tidyr)"
   ]
  },
  {
   "cell_type": "markdown",
   "id": "be5ce9f0",
   "metadata": {},
   "source": [
    "#### 0 - read in clinical data with dups "
   ]
  },
  {
   "cell_type": "code",
   "execution_count": 2,
   "id": "2279f931",
   "metadata": {},
   "outputs": [],
   "source": [
    "clinical <- read.csv(paste0( TMP_DIR,'clinical_short.csv'), header=TRUE, sep = \",\", stringsAsFactors=FALSE)"
   ]
  },
  {
   "cell_type": "markdown",
   "id": "23423e67",
   "metadata": {},
   "source": [
    "#### 1 - De-dup CPI patient data "
   ]
  },
  {
   "cell_type": "code",
   "execution_count": 3,
   "id": "631af2da",
   "metadata": {},
   "outputs": [],
   "source": [
    "cpi <- (\n",
    "    clinical \n",
    "        %>% filter(clinical_post_contains_Immunotherapy == \"True\")\n",
    "        %>% group_by(patientIdentifier) \n",
    "        %>% mutate(ct = n(), sample_order = rank(sampleId)) \n",
    "        %>% ungroup()\n",
    "        %>% arrange(patientIdentifier)\n",
    ")  \n",
    "non_dup <- cpi %>% filter( ct == 1) %>% select(-ct, -sample_order)\n",
    "keep_samples <- c(\"CPCT02010503TII\", \"CPCT02020670T\", \"CPCT02020958TII\", \"CPCT02050073TII\", \"CPCT02050276TII\", \"CPCT02080266T\")\n",
    "dup <- cpi %>% filter(sampleId %in% keep_samples) %>% select(-ct, -sample_order)\n",
    "cpis <- rbind(non_dup, dup)"
   ]
  },
  {
   "cell_type": "markdown",
   "id": "4e80316d",
   "metadata": {},
   "source": [
    "#### 2 - De-dup non-CPI patients"
   ]
  },
  {
   "cell_type": "code",
   "execution_count": 4,
   "id": "4b6f3e16",
   "metadata": {},
   "outputs": [],
   "source": [
    "non_cpis <- (\n",
    "    clinical \n",
    "        %>% filter(clinical_post_contains_Immunotherapy != \"True\", \n",
    "                   !(patientIdentifier %in% cpi$patientIdentifier))\n",
    "        %>% group_by(patientIdentifier) \n",
    "        %>% mutate(sample_order = rank(desc(sampleId)) )\n",
    "        %>% ungroup()\n",
    "        %>% filter(sample_order == 1)\n",
    "        %>% select(-sample_order))"
   ]
  },
  {
   "cell_type": "code",
   "execution_count": 5,
   "id": "d047835d",
   "metadata": {},
   "outputs": [],
   "source": [
    "clinical <- rbind(cpis,non_cpis)"
   ]
  },
  {
   "cell_type": "markdown",
   "id": "08982542",
   "metadata": {},
   "source": [
    "#### 3 - Clean and derive more features"
   ]
  },
  {
   "cell_type": "code",
   "execution_count": 6,
   "id": "7bc0919b",
   "metadata": {},
   "outputs": [],
   "source": [
    "clinical$clinical_number_pretreatment <- unlist(lapply(clinical$ID_pre_name, function(i) length(strsplit(i, \"/\")[[1]])))"
   ]
  },
  {
   "cell_type": "markdown",
   "id": "f01bcd28",
   "metadata": {},
   "source": [
    "####  Treatment mechanism indicators\n",
    "- Only indicators for mechanisms with atleast 20 samples\n",
    "- New addition after immune biomarkers project"
   ]
  },
  {
   "cell_type": "code",
   "execution_count": 7,
   "id": "286b8328",
   "metadata": {},
   "outputs": [],
   "source": [
    "trt_mechanisms <- unique(unlist(lapply(clinical$ID_post_mechanism, function(i) strsplit(i, \"/\")[[1]])))\n",
    "                                       \n",
    "sizes <- data.frame()\n",
    "for (i in c(trt_mechanisms, \"Pyrimidine\", \"GnRH\")){\n",
    "    size <- data.frame( \"trt_mechanism\" = i, ct = nrow(clinical %>% filter(grepl(i, ID_post_mechanism))))\n",
    "    sizes <- rbind(sizes, size) \n",
    "}\n",
    "sizes <- sizes %>% arrange(desc(ct)) %>% filter(trt_mechanism != \"inhibitor\") %>% filter(ct > 20)\n",
    "                                       \n",
    "for( i in sizes$trt_mechanism ){\n",
    "    clean_mech <- gsub(\"[^[:alnum:] ]\",\"\",i)\n",
    "    field_name <- paste0(\"clinical_trt_mechanism_contains_\", clean_mech )\n",
    "    clinical[,field_name] <- ifelse( grepl(i, clinical$ID_post_mechanism), 1, 0)\n",
    "}                                        "
   ]
  },
  {
   "cell_type": "markdown",
   "id": "a2295380",
   "metadata": {},
   "source": [
    "#### Add subtype indicators\n",
    "- Only noteworthy subtypes with sufficient sample size are in breast and lung"
   ]
  },
  {
   "cell_type": "code",
   "execution_count": 8,
   "id": "4618fe6c",
   "metadata": {},
   "outputs": [],
   "source": [
    "subtypes <- (\n",
    "    clinical \n",
    "        %>% filter(clinical_meta_primaryTumorLocation %in% c(\"Breast\", \"Lung\")) \n",
    "        %>% group_by(ID_meta_primaryTumorSubType) \n",
    "        %>% summarise(ct = n()) \n",
    "        %>% arrange(desc(ct)) \n",
    "        %>% filter(ct > 20)\n",
    "        %>% pull(ID_meta_primaryTumorSubType)\n",
    ")"
   ]
  },
  {
   "cell_type": "code",
   "execution_count": 9,
   "id": "6ee8f6df",
   "metadata": {},
   "outputs": [
    {
     "name": "stdout",
     "output_type": "stream",
     "text": [
      "[1] \"ER_positive_HER2_negative\"\n",
      "[1] \"Non_small_cell_carcinoma\"\n",
      "[1] \"ER_positive_HER2_positive\"\n",
      "[1] \"Triple_negative\"\n",
      "[1] \"Small_cell_carcinoma\"\n",
      "[1] \"ER_negative_HER2_positive\"\n"
     ]
    }
   ],
   "source": [
    "for( i in subtypes ){\n",
    "    clean_subtype <- gsub(\" \", \"_\", gsub(\"[^[:alnum:] ]\",\"_\",i))\n",
    "    print(clean_subtype)\n",
    "    field_name <- paste0(\"clinical_subtype_\", clean_subtype )\n",
    "    clinical[,field_name] <- ifelse( grepl(i, clinical$ID_meta_primaryTumorSubType), 1, 0)\n",
    "}        "
   ]
  },
  {
   "cell_type": "markdown",
   "id": "54b289c0",
   "metadata": {},
   "source": [
    "#### Tumor location grouping"
   ]
  },
  {
   "cell_type": "code",
   "execution_count": 10,
   "id": "12f7f320",
   "metadata": {},
   "outputs": [],
   "source": [
    "#clinical %>% filter(clinical_trt_mechanism_contains_Platinum == 1) %>% group_by( clinical_meta_primaryTumorLocation ) %>% summarise(ct = n()) %>% arrange(desc(ct))"
   ]
  },
  {
   "cell_type": "markdown",
   "id": "4d7f5704",
   "metadata": {},
   "source": [
    "#### More features added \n",
    "- Initially all from immunebiomarkers project "
   ]
  },
  {
   "cell_type": "code",
   "execution_count": 11,
   "id": "c8298228",
   "metadata": {},
   "outputs": [],
   "source": [
    "clinical$clinical_tumor_location_group <- unlist(lapply(clinical$clinical_tumor_location_group, tissue))\n",
    "clinical$clinical_meta_primaryTumorLocation <- unlist(lapply(clinical$clinical_meta_primaryTumorLocation, tissue))\n",
    "clinical$clinical_meta_consolidatedTreatmentType <- unlist(lapply(clinical$clinical_meta_consolidatedTreatmentType, therapy))\n",
    "clinical$clinical_meta_hasRadiotherapyPreTreatment <- ifelse(clinical$clinical_meta_hasRadiotherapyPreTreatment == \"Yes\", 1, 0)\n",
    "clinical$clinical_meta_hasSystemicPreTreatment2 <- ifelse(clinical$clinical_meta_hasSystemicPreTreatment == \"Yes\", 1, 0)\n",
    "clinical$clinical_meta_gender <- ifelse(clinical$clinical_meta_gender == \"female\", 1, 0)\n",
    "clinical$clinical_pre_contains_Chemotherapy <- ifelse(clinical$clinical_pre_contains_Chemotherapy == \"True\", 1, 0)\n",
    "clinical$clinical_post_contains_Chemotherapy <- ifelse(clinical$clinical_post_contains_Chemotherapy == \"True\", 1, 0)\n",
    "clinical$clinical_pre_contains_Hormonal <- ifelse(clinical$clinical_pre_contains_Hormonal == \"True\", 1, 0)\n",
    "clinical$clinical_post_contains_Hormonal <- ifelse(clinical$clinical_post_contains_Hormonal == \"True\", 1, 0)\n",
    "clinical$clinical_pre_contains_Immunotherapy <- ifelse(clinical$clinical_pre_contains_Immunotherapy == \"True\", 1, 0)\n",
    "clinical$clinical_pre_contains_Targeted <- ifelse(clinical$clinical_pre_contains_Targeted == \"True\", 1, 0)\n",
    "clinical$clinical_post_contains_Targeted <- ifelse(clinical$clinical_post_contains_Targeted == \"True\", 1, 0)\n",
    "clinical$clinical_pre_treated <- as.numeric(clinical$clinical_meta_hasRadiotherapyPreTreatment + clinical$clinical_meta_hasSystemicPreTreatment2 > 0)\n",
    "clinical$clinical_cpi_mechanism <- get_cpi_mechanism(clinical$clinical_meta_treatment)\n",
    "clinical$clinical_cpi_mechanism2 <- ifelse( clinical$clinical_cpi_mechanism %in% c(\"PD1\", \"PDL1\"), \"PD\", clinical$clinical_cpi_mechanism)\n",
    "clinical$clinical_cpi_mechanism3 <- ifelse( clinical$clinical_cpi_mechanism == \"multiple\", 1, 0)\n",
    "clinical$clinical_systemic_composite <- (\n",
    "        ifelse(clinical$clinical_meta_hasSystemicPreTreatment2 == 0, \n",
    "               365*10, \n",
    "               clinical$clinical_pre_to_post_treatment_time\n",
    "              )\n",
    ")\n",
    "clinical$clinical_multiple_treatment = ifelse( clinical$clinical_meta_consolidatedTreatmentType == \"multiple\", 1,0) "
   ]
  },
  {
   "cell_type": "markdown",
   "id": "840eb0f0",
   "metadata": {},
   "source": [
    "#### Filter to only response and clinical fields"
   ]
  },
  {
   "cell_type": "code",
   "execution_count": 12,
   "id": "341ab85b",
   "metadata": {},
   "outputs": [],
   "source": [
    "clinical <- clinical %>% select(sampleId, \n",
    "                                patientIdentifier,\n",
    "                                ID_meta_hmfSampleId, \n",
    "                                Filter_meta_responseMeasured, \n",
    "                                Y_best_response_binary,\n",
    "                                Y_best_response, \n",
    "                                Y_best_response_time_in_days, \n",
    "                                Y_relapse, \n",
    "                                Survival_pfs_event, \n",
    "                                Survival_time_to_pfs_event,\n",
    "                                Survival_os_event,\n",
    "                                Survival_time_to_os_event,\n",
    "                                Survival_at_6_months,\n",
    "                                Survival_at_12_months,\n",
    "                                Survival_at_18_months, \n",
    "                                contains(\"clinical\"))"
   ]
  },
  {
   "cell_type": "markdown",
   "id": "63bac693",
   "metadata": {},
   "source": [
    "#### 3 - Output the Data "
   ]
  },
  {
   "cell_type": "code",
   "execution_count": 13,
   "id": "8803f6a1",
   "metadata": {},
   "outputs": [],
   "source": [
    "write.csv( clinical, paste0( TMP_DIR, 'clinical_ready.csv'), row.names = FALSE)"
   ]
  }
 ],
 "metadata": {
  "kernelspec": {
   "display_name": "R",
   "language": "R",
   "name": "ir"
  },
  "language_info": {
   "codemirror_mode": "r",
   "file_extension": ".r",
   "mimetype": "text/x-r-source",
   "name": "R",
   "pygments_lexer": "r",
   "version": "3.6.1"
  }
 },
 "nbformat": 4,
 "nbformat_minor": 5
}
