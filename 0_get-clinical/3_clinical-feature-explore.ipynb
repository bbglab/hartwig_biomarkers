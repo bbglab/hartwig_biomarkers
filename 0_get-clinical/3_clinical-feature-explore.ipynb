{
 "cells": [
  {
   "cell_type": "code",
   "execution_count": 19,
   "id": "71df1f61",
   "metadata": {},
   "outputs": [],
   "source": [
    "wd <- dirname(getwd())\n",
    "source(paste0(wd,\"/mission_control/treasure_map.R\"))\n",
    "source(paste0(wd,\"/mission_control/clinical_help.R\"))\n",
    "\n",
    "library(dplyr)\n",
    "library(tidyr)"
   ]
  },
  {
   "cell_type": "markdown",
   "id": "be5ce9f0",
   "metadata": {},
   "source": [
    "#### 0 - read in clinical data with dups "
   ]
  },
  {
   "cell_type": "code",
   "execution_count": 20,
   "id": "2279f931",
   "metadata": {},
   "outputs": [],
   "source": [
    "clinical <- read.csv(paste0( TMP_DIR,'clinical_short.csv'), header=TRUE, sep = \",\", stringsAsFactors=FALSE)"
   ]
  },
  {
   "cell_type": "code",
   "execution_count": 68,
   "id": "9304a6f7",
   "metadata": {},
   "outputs": [],
   "source": [
    "cpi$chemo_treatments <- unname(sapply(cpi$ID_pre_type, function(i) length(strsplit(i, \"Chemotherapy\")[[1]])))"
   ]
  },
  {
   "cell_type": "code",
   "execution_count": 98,
   "id": "4457d5af",
   "metadata": {},
   "outputs": [
    {
     "data": {
      "text/plain": [
       "\n",
       "  0   1   2   3   4   5   6   7   8  18 \n",
       "239  79 110  39  24   6   2   2   5   1 "
      ]
     },
     "metadata": {},
     "output_type": "display_data"
    }
   ],
   "source": [
    "table(cpi$chemo_treatments)"
   ]
  },
  {
   "cell_type": "code",
   "execution_count": 170,
   "id": "cf8b9ba2",
   "metadata": {},
   "outputs": [],
   "source": [
    "cpi$a <- ifelse( is.na(cpi$ID_pre_to_post_treatment_time), 10000, cpi$ID_pre_to_post_treatment_time)\n",
    "cpi$b <- ifelse( cpi$a > 183, 1, 2)\n",
    "cpi$c <- ifelse( cpi$clinical_meta_hasSystemicPreTreatment == \"Yes\", 10, cpi$b)"
   ]
  },
  {
   "cell_type": "code",
   "execution_count": 171,
   "id": "9c8df2e6",
   "metadata": {},
   "outputs": [],
   "source": [
    "cpi$tmp <- apply( cpi \n",
    "          %>% select(ID_pre_to_post_treatment_time,\n",
    "                     clinical_meta_hasSystemicPreTreatment ),1,\n",
    "      list)"
   ]
  },
  {
   "cell_type": "code",
   "execution_count": 172,
   "id": "56a9397e",
   "metadata": {},
   "outputs": [
    {
     "data": {
      "text/html": [
       "'Yes'"
      ],
      "text/latex": [
       "'Yes'"
      ],
      "text/markdown": [
       "'Yes'"
      ],
      "text/plain": [
       "[1] \"Yes\""
      ]
     },
     "metadata": {},
     "output_type": "display_data"
    }
   ],
   "source": [
    "unname(cpi$tmp[[1]][[1]][2])"
   ]
  },
  {
   "cell_type": "code",
   "execution_count": 173,
   "id": "d0c5fbcd",
   "metadata": {},
   "outputs": [
    {
     "data": {
      "text/plain": [
       "\n",
       "  0   1   2 \n",
       "239 102 166 "
      ]
     },
     "metadata": {},
     "output_type": "display_data"
    }
   ],
   "source": [
    "cpi$test <- unlist(lapply(cpi$tmp, pre_treater)); table(cpi$test)"
   ]
  },
  {
   "cell_type": "code",
   "execution_count": 180,
   "id": "a5ecaf77",
   "metadata": {},
   "outputs": [
    {
     "data": {
      "text/plain": [
       "\n",
       " No Yes \n",
       "239 268 "
      ]
     },
     "metadata": {},
     "output_type": "display_data"
    }
   ],
   "source": [
    "table(cpi$clinical_meta_hasSystemicPreTreatment)"
   ]
  },
  {
   "cell_type": "code",
   "execution_count": 197,
   "id": "20d53599",
   "metadata": {},
   "outputs": [],
   "source": [
    "pre_treater <- function(a){\n",
    "    \n",
    "    pre_to_post_treatment_time <- as.numeric(a[[1]][1])\n",
    "    pre_treated <- unname(a[[1]][2])\n",
    "    \n",
    "    #print(pre_to_post_treatment_time)\n",
    "    #print(is.na(pre_to_post_treatment_time))\n",
    "    if(pre_treated == \"No\"){\n",
    "        0\n",
    "    } else if ( is.na(pre_to_post_treatment_time) ){\n",
    "        2\n",
    "    } else if (pre_to_post_treatment_time > 365){\n",
    "        1\n",
    "    } else if (pre_to_post_treatment_time > 183){\n",
    "        2\n",
    "    } else {\n",
    "        3\n",
    "    }\n",
    "    \n",
    "}"
   ]
  },
  {
   "cell_type": "code",
   "execution_count": 198,
   "id": "2eda0126",
   "metadata": {},
   "outputs": [
    {
     "data": {
      "text/plain": [
       "\n",
       "  0   1   2   3 \n",
       "239  52  53 163 "
      ]
     },
     "metadata": {},
     "output_type": "display_data"
    }
   ],
   "source": [
    "cpi$test <- unlist(lapply(cpi$tmp, pre_treater)); table(cpi$test)"
   ]
  },
  {
   "cell_type": "code",
   "execution_count": 199,
   "id": "369e6739",
   "metadata": {},
   "outputs": [
    {
     "data": {
      "text/plain": [
       "\n",
       "Call:\n",
       "glm(formula = Y_best_response_binary ~ test + clinical_tumor_location_group, \n",
       "    family = \"binomial\", data = cpi)\n",
       "\n",
       "Deviance Residuals: \n",
       "    Min       1Q   Median       3Q      Max  \n",
       "-1.2479  -1.0050  -0.5979   1.3171   2.3025  \n",
       "\n",
       "Coefficients:\n",
       "                                              Estimate Std. Error z value\n",
       "(Intercept)                                     0.1643     0.2713   0.606\n",
       "test                                           -0.5443     0.1017  -5.354\n",
       "clinical_tumor_location_groupOther             -1.1089     0.3807  -2.913\n",
       "clinical_tumor_location_groupSkin              -0.4868     0.2969  -1.640\n",
       "clinical_tumor_location_groupUrothelial tract  -0.1625     0.3310  -0.491\n",
       "                                              Pr(>|z|)    \n",
       "(Intercept)                                    0.54481    \n",
       "test                                          8.59e-08 ***\n",
       "clinical_tumor_location_groupOther             0.00358 ** \n",
       "clinical_tumor_location_groupSkin              0.10108    \n",
       "clinical_tumor_location_groupUrothelial tract  0.62354    \n",
       "---\n",
       "Signif. codes:  0 ‘***’ 0.001 ‘**’ 0.01 ‘*’ 0.05 ‘.’ 0.1 ‘ ’ 1\n",
       "\n",
       "(Dispersion parameter for binomial family taken to be 1)\n",
       "\n",
       "    Null deviance: 598.65  on 489  degrees of freedom\n",
       "Residual deviance: 548.77  on 485  degrees of freedom\n",
       "  (17 observations deleted due to missingness)\n",
       "AIC: 558.77\n",
       "\n",
       "Number of Fisher Scoring iterations: 4\n"
      ]
     },
     "metadata": {},
     "output_type": "display_data"
    },
    {
     "data": {
      "text/plain": [
       "\n",
       "Call:\n",
       "glm(formula = Y_best_response_binary ~ clinical_meta_hasSystemicPreTreatment + \n",
       "    clinical_tumor_location_group, family = \"binomial\", data = cpi)\n",
       "\n",
       "Deviance Residuals: \n",
       "    Min       1Q   Median       3Q      Max  \n",
       "-1.2619  -0.8314  -0.7103   1.3104   2.1618  \n",
       "\n",
       "Coefficients:\n",
       "                                              Estimate Std. Error z value\n",
       "(Intercept)                                    0.19638    0.28266   0.695\n",
       "clinical_meta_hasSystemicPreTreatmentYes      -1.35052    0.26443  -5.107\n",
       "clinical_tumor_location_groupOther            -1.08103    0.37866  -2.855\n",
       "clinical_tumor_location_groupSkin             -0.50379    0.30334  -1.661\n",
       "clinical_tumor_location_groupUrothelial tract -0.09431    0.32912  -0.287\n",
       "                                              Pr(>|z|)    \n",
       "(Intercept)                                    0.48720    \n",
       "clinical_meta_hasSystemicPreTreatmentYes      3.27e-07 ***\n",
       "clinical_tumor_location_groupOther             0.00431 ** \n",
       "clinical_tumor_location_groupSkin              0.09676 .  \n",
       "clinical_tumor_location_groupUrothelial tract  0.77445    \n",
       "---\n",
       "Signif. codes:  0 ‘***’ 0.001 ‘**’ 0.01 ‘*’ 0.05 ‘.’ 0.1 ‘ ’ 1\n",
       "\n",
       "(Dispersion parameter for binomial family taken to be 1)\n",
       "\n",
       "    Null deviance: 598.65  on 489  degrees of freedom\n",
       "Residual deviance: 553.09  on 485  degrees of freedom\n",
       "  (17 observations deleted due to missingness)\n",
       "AIC: 563.09\n",
       "\n",
       "Number of Fisher Scoring iterations: 4\n"
      ]
     },
     "metadata": {},
     "output_type": "display_data"
    }
   ],
   "source": [
    "#summary(glm( Y_best_response_binary ~ test + clinical_tumor_location_group, data = cpi, family = \"binomial\"))\n",
    "summary(glm( Y_best_response_binary ~ test + clinical_tumor_location_group, data = cpi, family = \"binomial\"))\n",
    "summary(glm( Y_best_response_binary ~ clinical_meta_hasSystemicPreTreatment + clinical_tumor_location_group, data = cpi, family = \"binomial\"))\n",
    "\n",
    "#summary(lm( ID_pre_to_post_treatment_time ~ as.factor(Y_best_response_binary), data = cpi))\n",
    "#summary(lm( log(ID_pre_treatment_duration+1) ~ as.factor(Y_best_response_binary), data = cpi))\n",
    "#summary(lm( number_treatments ~ as.factor(Y_best_response_binary) + clinical_meta_hasSystemicPreTreatment, data = cpi))\n",
    "#summary(lm( chemo_treatments ~ as.factor(Y_best_response_binary), data = cpi))"
   ]
  },
  {
   "cell_type": "code",
   "execution_count": 79,
   "id": "d2eaf61b",
   "metadata": {},
   "outputs": [],
   "source": [
    "cpi$test <- ifelse(is.na(cpi$ID_pre_to_post_treatment_time), 365*5, cpi$ID_pre_to_post_treatment_time)"
   ]
  },
  {
   "cell_type": "code",
   "execution_count": 159,
   "id": "144b40a9",
   "metadata": {},
   "outputs": [
    {
     "data": {
      "text/html": [
       "<table>\n",
       "<thead><tr><th scope=col>Y_best_response_binary</th><th scope=col>mean(ID_pre_to_post_treatment_time, na.rm = TRUE)</th><th scope=col>sd(ID_pre_to_post_treatment_time, na.rm = TRUE)</th><th scope=col>median(ID_pre_to_post_treatment_time, na.rm = TRUE)</th></tr></thead>\n",
       "<tbody>\n",
       "\t<tr><td> 0      </td><td>198.7630</td><td>215.0141</td><td>139     </td></tr>\n",
       "\t<tr><td> 1      </td><td>398.9592</td><td>604.7637</td><td>196     </td></tr>\n",
       "\t<tr><td>NA      </td><td>150.0000</td><td>186.4832</td><td>102     </td></tr>\n",
       "</tbody>\n",
       "</table>\n"
      ],
      "text/latex": [
       "\\begin{tabular}{r|llll}\n",
       " Y\\_best\\_response\\_binary & mean(ID\\_pre\\_to\\_post\\_treatment\\_time, na.rm = TRUE) & sd(ID\\_pre\\_to\\_post\\_treatment\\_time, na.rm = TRUE) & median(ID\\_pre\\_to\\_post\\_treatment\\_time, na.rm = TRUE)\\\\\n",
       "\\hline\n",
       "\t  0       & 198.7630 & 215.0141 & 139     \\\\\n",
       "\t  1       & 398.9592 & 604.7637 & 196     \\\\\n",
       "\t NA       & 150.0000 & 186.4832 & 102     \\\\\n",
       "\\end{tabular}\n"
      ],
      "text/markdown": [
       "\n",
       "| Y_best_response_binary | mean(ID_pre_to_post_treatment_time, na.rm = TRUE) | sd(ID_pre_to_post_treatment_time, na.rm = TRUE) | median(ID_pre_to_post_treatment_time, na.rm = TRUE) |\n",
       "|---|---|---|---|\n",
       "|  0       | 198.7630 | 215.0141 | 139      |\n",
       "|  1       | 398.9592 | 604.7637 | 196      |\n",
       "| NA       | 150.0000 | 186.4832 | 102      |\n",
       "\n"
      ],
      "text/plain": [
       "  Y_best_response_binary mean(ID_pre_to_post_treatment_time, na.rm = TRUE)\n",
       "1  0                     198.7630                                         \n",
       "2  1                     398.9592                                         \n",
       "3 NA                     150.0000                                         \n",
       "  sd(ID_pre_to_post_treatment_time, na.rm = TRUE)\n",
       "1 215.0141                                       \n",
       "2 604.7637                                       \n",
       "3 186.4832                                       \n",
       "  median(ID_pre_to_post_treatment_time, na.rm = TRUE)\n",
       "1 139                                                \n",
       "2 196                                                \n",
       "3 102                                                "
      ]
     },
     "metadata": {},
     "output_type": "display_data"
    }
   ],
   "source": [
    "(cpi \n",
    "    %>% group_by(Y_best_response_binary)\n",
    "    %>% summarise( mean(ID_pre_to_post_treatment_time, na.rm = TRUE), \n",
    "                   sd(ID_pre_to_post_treatment_time, na.rm = TRUE), \n",
    "                   median(ID_pre_to_post_treatment_time, na.rm = TRUE)\n",
    "                  )\n",
    ")"
   ]
  },
  {
   "cell_type": "code",
   "execution_count": 111,
   "id": "eb3f7fb1",
   "metadata": {},
   "outputs": [
    {
     "data": {
      "image/png": "[encoded data removed]",
      "text/plain": [
       "plot without title"
      ]
     },
     "metadata": {},
     "output_type": "display_data"
    }
   ],
   "source": [
    "boxplot( ID_pre_to_post_treatment_time ~ as.factor(Y_best_response_binary), data = cpi)"
   ]
  },
  {
   "cell_type": "code",
   "execution_count": 80,
   "id": "8e8c7798",
   "metadata": {},
   "outputs": [
    {
     "data": {
      "image/png": "[encoded data removed]",
      "text/plain": [
       "plot without title"
      ]
     },
     "metadata": {},
     "output_type": "display_data"
    },
    {
     "data": {
      "image/png": "[encoded data removed]",
      "text/plain": [
       "plot without title"
      ]
     },
     "metadata": {},
     "output_type": "display_data"
    }
   ],
   "source": [
    "par(mfrow = c(2,2))\n",
    "boxplot( test ~ as.factor(Y_best_response_binary), data = cpi)\n",
    "boxplot( ID_pre_to_post_treatment_time ~ as.factor(Y_best_response_binary), data = cpi)\n",
    "boxplot( log(ID_pre_treatment_duration+1) ~ as.factor(Y_best_response_binary), data = cpi)\n",
    "boxplot( number_treatments ~ as.factor(Y_best_response_binary), data = cpi)\n",
    "boxplot( chemo_treatments ~ as.factor(Y_best_response_binary), data = cpi)"
   ]
  },
  {
   "cell_type": "markdown",
   "id": "23423e67",
   "metadata": {},
   "source": [
    "#### 1 - De-dup CPI patient data "
   ]
  },
  {
   "cell_type": "code",
   "execution_count": 23,
   "id": "631af2da",
   "metadata": {},
   "outputs": [],
   "source": [
    "cpi <- (\n",
    "    clinical \n",
    "        %>% filter(clinical_post_contains_Immunotherapy == \"True\")\n",
    "        %>% group_by(patientIdentifier) \n",
    "        %>% mutate(ct = n(), sample_order = rank(sampleId)) \n",
    "        %>% ungroup()\n",
    "        %>% arrange(patientIdentifier)\n",
    ")  \n",
    "non_dup <- cpi %>% filter( ct == 1) %>% select(-ct, -sample_order)\n",
    "keep_samples <- c(\"CPCT02010503TII\", \"CPCT02020670T\", \"CPCT02020958TII\", \"CPCT02050073TII\", \"CPCT02050276TII\", \"CPCT02080266T\")\n",
    "dup <- cpi %>% filter(sampleId %in% keep_samples) %>% select(-ct, -sample_order)\n",
    "cpis <- rbind(non_dup, dup)"
   ]
  },
  {
   "cell_type": "markdown",
   "id": "4e80316d",
   "metadata": {},
   "source": [
    "#### 2 - De-dup non-CPI patients"
   ]
  },
  {
   "cell_type": "code",
   "execution_count": 4,
   "id": "4b6f3e16",
   "metadata": {},
   "outputs": [],
   "source": [
    "non_cpis <- (\n",
    "    clinical \n",
    "        %>% filter(clinical_post_contains_Immunotherapy != \"True\", \n",
    "                   !(patientIdentifier %in% cpi$patientIdentifier))\n",
    "        %>% group_by(patientIdentifier) \n",
    "        %>% mutate(sample_order = rank(desc(sampleId)) )\n",
    "        %>% ungroup()\n",
    "        %>% filter(sample_order == 1)\n",
    "        %>% select(-sample_order))"
   ]
  },
  {
   "cell_type": "code",
   "execution_count": 5,
   "id": "d047835d",
   "metadata": {},
   "outputs": [],
   "source": [
    "clinical <- rbind(cpis,non_cpis)"
   ]
  },
  {
   "cell_type": "markdown",
   "id": "08982542",
   "metadata": {},
   "source": [
    "#### 3 - Clean and derive more features"
   ]
  },
  {
   "cell_type": "code",
   "execution_count": 6,
   "id": "341ab85b",
   "metadata": {},
   "outputs": [],
   "source": [
    "clinical <- clinical %>% select(sampleId, \n",
    "                                patientIdentifier,\n",
    "                                ID_meta_hmfSampleId, \n",
    "                                Filter_meta_responseMeasured, \n",
    "                                Y_best_response_binary,\n",
    "                                Y_best_response, \n",
    "                                Y_best_response_time_in_days, \n",
    "                                Y_relapse, \n",
    "                                Survival_pfs_event, \n",
    "                                Survival_time_to_pfs_event,\n",
    "                                Survival_os_event,\n",
    "                                Survival_time_to_os_event,\n",
    "                                Survival_at_6_months,\n",
    "                                Survival_at_12_months,\n",
    "                                Survival_at_18_months, \n",
    "                                contains(\"clinical\"))\n",
    "clinical$clinical_tumor_location_group <- unlist(lapply(clinical$clinical_tumor_location_group, tissue))\n",
    "clinical$clinical_meta_primaryTumorLocation <- unlist(lapply(clinical$clinical_meta_primaryTumorLocation, tissue))\n",
    "clinical$clinical_meta_consolidatedTreatmentType <- unlist(lapply(clinical$clinical_meta_consolidatedTreatmentType, therapy))\n",
    "clinical$clinical_meta_hasRadiotherapyPreTreatment <- ifelse(clinical$clinical_meta_hasRadiotherapyPreTreatment == \"Yes\", 1, 0)\n",
    "clinical$clinical_meta_hasSystemicPreTreatment <- ifelse(clinical$clinical_meta_hasSystemicPreTreatment == \"Yes\", 1, 0)\n",
    "clinical$clinical_meta_gender <- ifelse(clinical$clinical_meta_gender == \"female\", 1, 0)\n",
    "clinical$clinical_pre_contains_Chemotherapy <- ifelse(clinical$clinical_pre_contains_Chemotherapy == \"True\", 1, 0)\n",
    "clinical$clinical_post_contains_Chemotherapy <- ifelse(clinical$clinical_post_contains_Chemotherapy == \"True\", 1, 0)\n",
    "clinical$clinical_pre_contains_Hormonal <- ifelse(clinical$clinical_pre_contains_Hormonal == \"True\", 1, 0)\n",
    "clinical$clinical_post_contains_Hormonal <- ifelse(clinical$clinical_post_contains_Hormonal == \"True\", 1, 0)\n",
    "clinical$clinical_pre_contains_Immunotherapy <- ifelse(clinical$clinical_pre_contains_Immunotherapy == \"True\", 1, 0)\n",
    "clinical$clinical_pre_contains_Targeted <- ifelse(clinical$clinical_pre_contains_Targeted == \"True\", 1, 0)\n",
    "clinical$clinical_post_contains_Targeted <- ifelse(clinical$clinical_post_contains_Targeted == \"True\", 1, 0)\n",
    "clinical$clinical_pre_treated <- as.numeric(clinical$clinical_meta_hasRadiotherapyPreTreatment + clinical$clinical_meta_hasSystemicPreTreatment > 0)\n",
    "clinical$clinical_prior_therapies <- ( apply(\n",
    "    clinical \n",
    "        %>% select(contains(\"pre_contains\"), \n",
    "                   clinical_meta_hasRadiotherapyPreTreatment, \n",
    "                   clinical_pre_treated),\n",
    "                   1, \n",
    "                   group_prior_therapy)\n",
    ")\n",
    "clinical$clinical_cpi_mechanism <- get_cpi_mechanism(clinical$clinical_meta_treatment)\n",
    "clinical$clinical_cpi_mechanism2 <- ifelse( clinical$clinical_cpi_mechanism %in% c(\"PD1\", \"PDL1\"), \"PD\", clinical$clinical_cpi_mechanism)\n",
    "clinical$clinical_cpi_mechanism3 <- ifelse( clinical$clinical_cpi_mechanism == \"multiple\", 1, 0)"
   ]
  },
  {
   "cell_type": "markdown",
   "id": "63bac693",
   "metadata": {},
   "source": [
    "#### 3 - Output the Data "
   ]
  },
  {
   "cell_type": "code",
   "execution_count": 7,
   "id": "8803f6a1",
   "metadata": {},
   "outputs": [],
   "source": [
    "write.csv( clinical, paste0( TMP_DIR, 'clinical_ready.csv'), row.names = FALSE)"
   ]
  }
 ],
 "metadata": {
  "kernelspec": {
   "display_name": "R",
   "language": "R",
   "name": "ir"
  },
  "language_info": {
   "codemirror_mode": "r",
   "file_extension": ".r",
   "mimetype": "text/x-r-source",
   "name": "R",
   "pygments_lexer": "r",
   "version": "3.6.1"
  }
 },
 "nbformat": 4,
 "nbformat_minor": 5
}
