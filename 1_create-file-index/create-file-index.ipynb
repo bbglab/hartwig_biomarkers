{
 "cells": [
  {
   "cell_type": "code",
   "execution_count": 1,
   "id": "ce6dd177",
   "metadata": {},
   "outputs": [],
   "source": [
    "import sys\n",
    "import os\n",
    "\n",
    "sys.path.insert(0, f'{os.path.dirname(os.getcwd())}/')\n",
    "\n",
    "from mission_control.treasure_map import I_DIR, TMP_DIR, FPS_DIR, ISOFOX_DIR\n",
    "\n",
    "import pandas as pd\n",
    "import pickle"
   ]
  },
  {
   "cell_type": "markdown",
   "id": "10326a87",
   "metadata": {},
   "source": [
    "#### 0 - get samples"
   ]
  },
  {
   "cell_type": "code",
   "execution_count": 7,
   "id": "71fd19ce",
   "metadata": {},
   "outputs": [],
   "source": [
    "somatic_dir = I_DIR + \"somatic/\"\n",
    "isofox_dir = ISOFOX_DIR\n",
    "\n",
    "samples = pd.read_csv(TMP_DIR + \"clinical_short.csv\")['sampleId'].tolist()\n",
    "somatic_samples = [i for i in os.listdir(somatic_dir) if i in samples]\n",
    "isofox_samples = [i for i in os.listdir(ISOFOX_DIR) if i in samples]\n",
    "\n",
    "#isofox_dir =  I_DIR + \"data_isofox/\"\n",
    "#isofox_samples = [i for i in os.listdir(isofox_dir) if i in samples]"
   ]
  },
  {
   "cell_type": "markdown",
   "id": "a457885f",
   "metadata": {},
   "source": [
    "#### 1 - collect file paths"
   ]
  },
  {
   "cell_type": "code",
   "execution_count": 4,
   "id": "bc2a21b0",
   "metadata": {},
   "outputs": [],
   "source": [
    "somatic_files = []\n",
    "cnv_files = []\n",
    "cnv_gene_files = []\n",
    "purity_files = []\n",
    "neoepitope_files = []\n",
    "driver_files = []\n",
    "sv_files = []\n",
    "linx_files = []\n",
    "\n",
    "for sample in somatic_samples:\n",
    "    linx_files.append(somatic_dir + sample + \"/linx/\" + sample)\n",
    "    fp_start = somatic_dir + sample + \"/purple/\" + sample\n",
    "    if os.path.isfile( fp_start + '.purple.somatic.vcf.gz' ):\n",
    "        somatic_files.append( fp_start + '.purple.somatic.vcf.gz')\n",
    "        cnv_files.append( fp_start + '.purple.cnv.somatic.tsv')\n",
    "        cnv_gene_files.append( fp_start + '.purple.cnv.gene.tsv')\n",
    "        purity_files.append( fp_start + '.purple.purity.tsv')\n",
    "        driver_files.append( fp_start + '.driver.catalog.somatic.tsv')\n",
    "        sv_files.append( fp_start + '.purple.sv.vcf.gz')\n",
    "    else:\n",
    "        print('Missing path! ' + fp_start)      "
   ]
  },
  {
   "cell_type": "code",
   "execution_count": 6,
   "id": "103c683c",
   "metadata": {},
   "outputs": [],
   "source": [
    "#len(somatic_files)"
   ]
  },
  {
   "cell_type": "code",
   "execution_count": 8,
   "id": "889a7bec",
   "metadata": {},
   "outputs": [],
   "source": [
    "isofox_files = []\n",
    "for sample in isofox_samples:\n",
    "    if os.path.isfile( isofox_dir + sample  + \"/\" + sample + \".isf.gene_data.csv\" ):\n",
    "        isofox_files.append( isofox_dir + sample  + \"/\" + sample + \".isf.gene_data.csv\")\n",
    "        neoepitope_files.append( isofox_dir + sample  + \"/\" + sample + \".isf.neoepitope.csv\" )\n",
    "    else:\n",
    "        print('Missing path! ' + isofox_dir + sample  + \"/\" + sample + \".isf.gene_data.csv\") "
   ]
  },
  {
   "cell_type": "markdown",
   "id": "f32f866d",
   "metadata": {},
   "source": [
    "#### 2 - output files"
   ]
  },
  {
   "cell_type": "code",
   "execution_count": 10,
   "id": "32be6862",
   "metadata": {},
   "outputs": [],
   "source": [
    "file_types = ['somatic','cnv', 'cnv_gene', 'purity','neoepitope','driver','sv','linx','isofox']\n",
    "for i in file_types:\n",
    "    out = i + \"_files\"\n",
    "    with open(FPS_DIR + out + \".txt\", \"wb\") as fp:  \n",
    "        pickle.dump( globals()[out], fp)"
   ]
  }
 ],
 "metadata": {
  "kernelspec": {
   "display_name": "Python 3",
   "language": "python",
   "name": "python3"
  },
  "language_info": {
   "codemirror_mode": {
    "name": "ipython",
    "version": 3
   },
   "file_extension": ".py",
   "mimetype": "text/x-python",
   "name": "python",
   "nbconvert_exporter": "python",
   "pygments_lexer": "ipython3",
   "version": "3.8.8"
  }
 },
 "nbformat": 4,
 "nbformat_minor": 5
}
