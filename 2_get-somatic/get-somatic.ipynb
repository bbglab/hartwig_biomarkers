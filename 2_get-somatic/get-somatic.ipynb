{
 "cells": [
  {
   "cell_type": "code",
   "execution_count": 3,
   "id": "a5a36b52",
   "metadata": {},
   "outputs": [],
   "source": [
    "import sys\n",
    "import os\n",
    "\n",
    "sys.path.insert(0, f'{os.path.dirname(os.getcwd())}/')\n",
    "from mission_control.treasure_map import FPS_DIR, TMP_DIR, REFERENCE_GENES\n",
    "from mission_control.somatic_help import get_somatic_features\n",
    "\n",
    "import pandas as pd \n",
    "import pickle\n",
    "import warnings\n",
    "from multiprocessing import Pool\n",
    "warnings.filterwarnings('ignore')"
   ]
  },
  {
   "cell_type": "markdown",
   "id": "72ee0a7f",
   "metadata": {},
   "source": [
    "#### 0 - Get file paths "
   ]
  },
  {
   "cell_type": "code",
   "execution_count": 5,
   "id": "634bf8ad",
   "metadata": {},
   "outputs": [],
   "source": [
    "with open( FPS_DIR + \"somatic_files.txt\", \"rb\") as fp:\n",
    "    somatic_files = pickle.load(fp)  "
   ]
  },
  {
   "cell_type": "markdown",
   "id": "26938106",
   "metadata": {},
   "source": [
    "#### 1 - Run it"
   ]
  },
  {
   "cell_type": "code",
   "execution_count": 7,
   "id": "38b703fb",
   "metadata": {},
   "outputs": [],
   "source": [
    "def somatic_file_task(i_file: str):\n",
    "    if os.path.isfile(i_file):\n",
    "        print(i_file)\n",
    "        return get_somatic_features(i_file, genes=REFERENCE_GENES)\n",
    "    else:\n",
    "        print(\"Missing! \" + i_file)"
   ]
  },
  {
   "cell_type": "code",
   "execution_count": 8,
   "id": "f1435fdc",
   "metadata": {},
   "outputs": [
    {
     "name": "stdout",
     "output_type": "stream",
     "text": [
      "/workspace/datasets/hartwig/20220809/somatic/CPCT02120024T/purple/CPCT02120024T.purple.somatic.vcf.gz/workspace/datasets/hartwig/20220809/somatic/CPCT02100021T/purple/CPCT02100021T.purple.somatic.vcf.gz\n",
      "\n",
      "Get somatic features for: CPCT02100021T/workspace/datasets/hartwig/20220809/somatic/CPCT02020574T/purple/CPCT02020574T.purple.somatic.vcf.gz/workspace/datasets/hartwig/20220809/somatic/CPCT02010300T/purple/CPCT02010300T.purple.somatic.vcf.gz\n",
      "\n",
      "Get somatic features for: CPCT02120024TGet somatic features for: CPCT02020574T\n",
      "\n",
      "\n",
      "Get somatic features for: CPCT02010300T\n"
     ]
    }
   ],
   "source": [
    "p = Pool()\n",
    "features = p.map(somatic_file_task, somatic_files)\n",
    "p.close()\n",
    "p.join()"
   ]
  },
  {
   "cell_type": "markdown",
   "id": "1a39adee",
   "metadata": {},
   "source": [
    "#### 2 - Output"
   ]
  },
  {
   "cell_type": "code",
   "execution_count": null,
   "id": "a9b2f889",
   "metadata": {},
   "outputs": [],
   "source": [
    "pd.DataFrame(features).to_csv(TMP_DIR + 'somatic_ready.csv', index = False)"
   ]
  }
 ],
 "metadata": {
  "kernelspec": {
   "display_name": "Python 3",
   "language": "python",
   "name": "python3"
  },
  "language_info": {
   "codemirror_mode": {
    "name": "ipython",
    "version": 3
   },
   "file_extension": ".py",
   "mimetype": "text/x-python",
   "name": "python",
   "nbconvert_exporter": "python",
   "pygments_lexer": "ipython3",
   "version": "3.8.8"
  }
 },
 "nbformat": 4,
 "nbformat_minor": 5
}
