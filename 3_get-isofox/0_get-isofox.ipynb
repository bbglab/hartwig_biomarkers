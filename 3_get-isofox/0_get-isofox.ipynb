{
 "cells": [
  {
   "cell_type": "code",
   "execution_count": null,
   "id": "0",
   "metadata": {},
   "outputs": [],
   "source": [
    "import sys\n",
    "import os\n",
    "\n",
    "sys.path.insert(0, f'{os.path.dirname(os.getcwd())}/')\n",
    "\n",
    "from mission_control.treasure_map import FPS_DIR, TMP_DIR, REFERENCE_GENES\n",
    "from mission_control.isofox_help import get_clean_expression, filter_to_reference_genes, df_cleaner\n",
    "\n",
    "import pandas as pd\n",
    "import pickle\n",
    "from multiprocessing import Pool\n",
    "\n",
    "field = sys.argv[1] #\"AdjTPM or RawTPM\"\n",
    "#field = \"RawTPM\""
   ]
  },
  {
   "cell_type": "markdown",
   "id": "1",
   "metadata": {},
   "source": [
    "### 0 - Get file paths "
   ]
  },
  {
   "cell_type": "code",
   "execution_count": null,
   "id": "2",
   "metadata": {},
   "outputs": [],
   "source": [
    "with open( FPS_DIR + \"isofox_files.txt\", \"rb\") as fp:\n",
    "    isofox_files = pickle.load(fp)"
   ]
  },
  {
   "cell_type": "markdown",
   "id": "3",
   "metadata": {},
   "source": [
    "### 1 - Run it"
   ]
  },
  {
   "cell_type": "code",
   "execution_count": null,
   "id": "4",
   "metadata": {},
   "outputs": [],
   "source": [
    "def isofox_file_task( i_file: str):\n",
    "    if os.path.isfile(i_file):\n",
    "        print(i_file)\n",
    "        return get_clean_expression( i_file, col = field )\n",
    "    else:\n",
    "        print(\"Missing! \" + i_file)"
   ]
  },
  {
   "cell_type": "code",
   "execution_count": null,
   "id": "5",
   "metadata": {},
   "outputs": [],
   "source": [
    "p = Pool()\n",
    "features = p.map(isofox_file_task, isofox_files)\n",
    "p.close()\n",
    "p.join()"
   ]
  },
  {
   "cell_type": "code",
   "execution_count": null,
   "id": "6",
   "metadata": {},
   "outputs": [],
   "source": [
    "full_df = pd.concat( features ).transpose()\n",
    "reference_df = filter_to_reference_genes( full_df, REFERENCE_GENES ) "
   ]
  },
  {
   "cell_type": "markdown",
   "id": "7",
   "metadata": {},
   "source": [
    "### 2 - Output"
   ]
  },
  {
   "cell_type": "code",
   "execution_count": null,
   "id": "8",
   "metadata": {},
   "outputs": [],
   "source": [
    "reference_df.to_csv( TMP_DIR + 'cibersort_prep_' + field + '.csv', index = True)\n",
    "df_cleaner(full_df, REFERENCE_GENES).to_csv( TMP_DIR + 'isofox_' + field + '_features.csv', index = False)"
   ]
  }
 ],
 "metadata": {
  "kernelspec": {
   "display_name": "Python 3",
   "language": "python",
   "name": "python3"
  },
  "language_info": {
   "codemirror_mode": {
    "name": "ipython",
    "version": 3
   },
   "file_extension": ".py",
   "mimetype": "text/x-python",
   "name": "python",
   "nbconvert_exporter": "python",
   "pygments_lexer": "ipython3",
   "version": "3.8.8"
  }
 },
 "nbformat": 4,
 "nbformat_minor": 5
}
