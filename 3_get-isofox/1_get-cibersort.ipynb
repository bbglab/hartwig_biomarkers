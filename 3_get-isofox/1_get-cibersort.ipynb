{
 "cells": [
  {
   "cell_type": "code",
   "execution_count": 1,
   "id": "78895ed6",
   "metadata": {},
   "outputs": [
    {
     "name": "stderr",
     "output_type": "stream",
     "text": [
      "Warning message:\n",
      "“package ‘dplyr’ was built under R version 3.6.3”\n",
      "Attaching package: ‘dplyr’\n",
      "\n",
      "The following objects are masked from ‘package:stats’:\n",
      "\n",
      "    filter, lag\n",
      "\n",
      "The following objects are masked from ‘package:base’:\n",
      "\n",
      "    intersect, setdiff, setequal, union\n",
      "\n"
     ]
    }
   ],
   "source": [
    "wd <- dirname(getwd())\n",
    "source(paste0(wd,\"/mission_control/treasure_map.R\"))\n",
    "source(paste0(wd,\"/mission_control/cibersort_help.R\"))\n",
    "\n",
    "library(e1071)\n",
    "library(parallel)\n",
    "library(dplyr)"
   ]
  },
  {
   "cell_type": "code",
   "execution_count": 2,
   "id": "4005b591",
   "metadata": {},
   "outputs": [],
   "source": [
    "args <- commandArgs(trailing = TRUE) ## \"RawTPM\" or \"AdjTPM\" #\n",
    "#args <- list(\"AdjTPM\", \"LM22\")"
   ]
  },
  {
   "cell_type": "markdown",
   "id": "ffbca793",
   "metadata": {},
   "source": [
    "#### 0 - Read and pre-process the data "
   ]
  },
  {
   "cell_type": "code",
   "execution_count": 3,
   "id": "5ceff522",
   "metadata": {},
   "outputs": [],
   "source": [
    "mixture <- read.csv(paste0(TMP_DIR, \"cibersort_prep_\", args[1], \".csv\"))"
   ]
  },
  {
   "cell_type": "code",
   "execution_count": 4,
   "id": "3fbfb27a",
   "metadata": {},
   "outputs": [],
   "source": [
    "sig_ref <- read.csv(paste0(REF_DIR, args[2], \".txt\"), sep = \"\\t\")\n",
    "tag <- strsplit(unlist(args[2]), \".txt\")[[1]][1]"
   ]
  },
  {
   "cell_type": "code",
   "execution_count": 5,
   "id": "ac99bf3d",
   "metadata": {},
   "outputs": [],
   "source": [
    "if( tag == \"TR4\"){\n",
    "    sig_ref <- (\n",
    "        sig_ref \n",
    "            %>% rename( \n",
    "                Gene.symbol = NAME,  epithelial = EPCAM, fibroblasts = CD10, endothelial = CD31, immune = CD45)\n",
    "    )\n",
    "}"
   ]
  },
  {
   "cell_type": "code",
   "execution_count": 6,
   "id": "4c18a0c1",
   "metadata": {},
   "outputs": [],
   "source": [
    "mixture_ready <- mixture[which(mixture$GeneName %in% sig_ref$Gene.symbol),]\n",
    "sig_ref_ready <- sig_ref[which(sig_ref$Gene.symbol %in% mixture$GeneName),]\n",
    "X <- data.matrix(sig_ref_ready[,-1])\n",
    "Y <- data.matrix(mixture_ready[,-1])"
   ]
  },
  {
   "cell_type": "code",
   "execution_count": 7,
   "id": "44d8490d",
   "metadata": {},
   "outputs": [],
   "source": [
    "out <- CIBERSORT( X, Y )"
   ]
  },
  {
   "cell_type": "markdown",
   "id": "f0ce572a",
   "metadata": {},
   "source": [
    "#### 1 - Run it"
   ]
  },
  {
   "cell_type": "markdown",
   "id": "5be53c80",
   "metadata": {},
   "source": [
    "#### 2 - Output"
   ]
  },
  {
   "cell_type": "code",
   "execution_count": 8,
   "id": "3622864e",
   "metadata": {},
   "outputs": [],
   "source": [
    "cibersort_features <- \n",
    "    (out$wts \n",
    "        %>% left_join(out$stats, by = \"sampleId\") \n",
    "        %>% rename_at(vars(-sampleId), ~ paste0(\"cibersort_\", tag, \"_\", .x))\n",
    "        %>% relocate(sampleId))\n",
    "write.csv( cibersort_features, file = paste0(TMP_DIR, \"cibersort_\", args[1],\"_\", args[2], \"_ready.csv\"), row.names=FALSE)"
   ]
  }
 ],
 "metadata": {
  "kernelspec": {
   "display_name": "R",
   "language": "R",
   "name": "ir"
  },
  "language_info": {
   "codemirror_mode": "r",
   "file_extension": ".r",
   "mimetype": "text/x-r-source",
   "name": "R",
   "pygments_lexer": "r",
   "version": "3.6.1"
  }
 },
 "nbformat": 4,
 "nbformat_minor": 5
}
