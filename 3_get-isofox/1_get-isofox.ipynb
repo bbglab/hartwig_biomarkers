{
 "cells": [
  {
   "cell_type": "code",
   "execution_count": null,
   "id": "0",
   "metadata": {},
   "outputs": [],
   "source": [
    "wd <- dirname(getwd())\n",
    "source(paste0(wd,\"/mission_control/treasure_map.R\"))\n",
    "source(paste0(wd,\"/mission_control/isofox_help.R\"))\n",
    "\n",
    "library(dplyr)\n",
    "library(tidyverse)\n",
    "library(data.table)\n",
    "\n",
    "args <- list(\"AdjTPM\")"
   ]
  },
  {
   "cell_type": "markdown",
   "id": "1",
   "metadata": {},
   "source": [
    "### 0 - Read in Gene Sets"
   ]
  },
  {
   "cell_type": "markdown",
   "id": "2",
   "metadata": {},
   "source": [
    "- Sets included in first submission"
   ]
  },
  {
   "cell_type": "code",
   "execution_count": null,
   "id": "3",
   "metadata": {},
   "outputs": [],
   "source": [
    "REF_DIR"
   ]
  },
  {
   "cell_type": "code",
   "execution_count": null,
   "id": "4",
   "metadata": {},
   "outputs": [],
   "source": [
    "cpi1000_sets <- readRDS(paste0(REF_DIR,\"cpi1000_gene_sets.Rds\"))\n",
    "mariathan_sets <- readRDS(paste0(REF_DIR,\"human_gene_signatures.Rds\"))\n",
    "tgfb_sets <- readRDS(paste0(REF_DIR,\"battle_gene_sets.Rds\"))\n",
    "vhio_sets <- readRDS(paste0(REF_DIR,\"vhio_gene_sets.Rds\"))\n",
    "cluster_sets <- readRDS(paste0(REF_DIR,\"fig_2and3_clusters.Rds\"))"
   ]
  },
  {
   "cell_type": "markdown",
   "id": "5",
   "metadata": {},
   "source": [
    "- Add extra GSEA sets from Axel"
   ]
  },
  {
   "cell_type": "code",
   "execution_count": null,
   "id": "6",
   "metadata": {},
   "outputs": [],
   "source": [
    "gsea_sets <- readRDS(paste0(REF_DIR,\"GSEA_gene_sets.Rds\"))\n",
    "kegg_sets <- gsea_sets[which(unlist(lapply( names(gsea_sets), function(i) grepl(\"KEGG\",i))))]\n",
    "hallmark_sets <- gsea_sets[which(unlist(lapply( names(gsea_sets), function(i) grepl(\"HALLMARK\",i))))]\n",
    "go_sets <- gsea_sets[which(unlist(lapply( names(gsea_sets), function(i) grepl(\"_GO_\",i))))]                                               "
   ]
  },
  {
   "cell_type": "markdown",
   "id": "7",
   "metadata": {},
   "source": [
    "### 1 - Read in raw data"
   ]
  },
  {
   "cell_type": "code",
   "execution_count": null,
   "id": "8",
   "metadata": {},
   "outputs": [],
   "source": [
    "isofox <- fread(paste0( TMP_DIR,\"isofox_\",args[1],\"_features.csv\"))"
   ]
  },
  {
   "cell_type": "markdown",
   "id": "9",
   "metadata": {},
   "source": [
    "### 2 - Transform\n",
    "- log transform"
   ]
  },
  {
   "cell_type": "code",
   "execution_count": null,
   "id": "10",
   "metadata": {},
   "outputs": [],
   "source": [
    "isofox2 <- isofox %>% mutate_at(vars(-sampleId), ~(log(.+1) %>% as.vector))"
   ]
  },
  {
   "cell_type": "markdown",
   "id": "11",
   "metadata": {},
   "source": [
    "- Add gene sets "
   ]
  },
  {
   "cell_type": "code",
   "execution_count": null,
   "id": "12",
   "metadata": {},
   "outputs": [],
   "source": [
    "names(mariathan_sets) <- gsub(\" \", \"_\", names(mariathan_sets))\n",
    "names(mariathan_sets) <- unlist(lapply(names(mariathan_sets), function(i) paste0(\"gene_set_mariathan_\", i)))"
   ]
  },
  {
   "cell_type": "code",
   "execution_count": null,
   "id": "13",
   "metadata": {},
   "outputs": [],
   "source": [
    "names(cluster_sets) <- unlist(lapply(names(cluster_sets), function(i) paste0(\"gene_set_\", i)))\n",
    "names(tgfb_sets) <- unlist(lapply(names(tgfb_sets), function(i) paste0(\"gene_set_\", i)))\n",
    "names(vhio_sets) <- unlist(lapply(names(vhio_sets), function(i) paste0(\"gene_set_\", i)))\n",
    "names(kegg_sets) <- unlist(lapply(names(kegg_sets), function(i) paste0(\"gene_set_\", i)))\n",
    "names(hallmark_sets) <- unlist(lapply(names(hallmark_sets), function(i) paste0(\"gene_set_\", i))) \n",
    "names(go_sets) <- unlist(lapply(names(go_sets), function(i) paste0(\"gene_set_\", i)))                                                                             "
   ]
  },
  {
   "cell_type": "code",
   "execution_count": null,
   "id": "14",
   "metadata": {},
   "outputs": [],
   "source": [
    "gene_sets <- c(cpi1000_sets, mariathan_sets, tgfb_sets, vhio_sets, kegg_sets, hallmark_sets, go_sets, cluster_sets)"
   ]
  },
  {
   "cell_type": "code",
   "execution_count": null,
   "id": "15",
   "metadata": {},
   "outputs": [],
   "source": [
    "names(gene_sets) <- paste0(\"isofox_\", names(gene_sets))"
   ]
  },
  {
   "cell_type": "markdown",
   "id": "16",
   "metadata": {},
   "source": [
    "- Edit gene sets (update names, few genes missing)"
   ]
  },
  {
   "cell_type": "code",
   "execution_count": null,
   "id": "17",
   "metadata": {},
   "outputs": [],
   "source": [
    "appender <- function(ll) unlist(lapply( ll, function(i) gsub(\"-\",\".\",paste0(\"isofox_\", i))))\n",
    "for (i in names(gene_sets)) gene_sets[[i]] <- appender(gene_sets[[i]])"
   ]
  },
  {
   "cell_type": "markdown",
   "id": "18",
   "metadata": {},
   "source": [
    "#### 1 - Compute Gene Sets "
   ]
  },
  {
   "cell_type": "code",
   "execution_count": null,
   "id": "19",
   "metadata": {},
   "outputs": [],
   "source": [
    "gene_sets[['isofox_gene_set_mariathan_Histones']] <- NULL\n",
    "gene_sets[['isofox_CD_8_T_EFFECTOR']] <- NULL"
   ]
  },
  {
   "cell_type": "code",
   "execution_count": null,
   "id": "20",
   "metadata": {},
   "outputs": [],
   "source": [
    "gene_sets_ls <- list()\n",
    "for (i in names(gene_sets)){\n",
    "    print(i)\n",
    "    flush.console()\n",
    "    tmp <- isofox2 %>% select(any_of(gene_sets[[i]]))\n",
    "    gene_sets_ls[[i]] <- apply(tmp, 1, mean, na.rm = TRUE)\n",
    "}\n",
    "gene_sets_final <- data.frame(gene_sets_ls)\n",
    "gene_sets_final$sampleId <- isofox2 %>% pull(sampleId)"
   ]
  },
  {
   "cell_type": "markdown",
   "id": "21",
   "metadata": {},
   "source": [
    "#### 3 - Format for Univariate Scan"
   ]
  },
  {
   "cell_type": "code",
   "execution_count": null,
   "id": "22",
   "metadata": {},
   "outputs": [],
   "source": [
    "happy_isofox <- isofox2 %>% left_join(gene_sets_final, by = \"sampleId\")\n",
    "rownames(happy_isofox) <- NULL"
   ]
  },
  {
   "cell_type": "markdown",
   "id": "23",
   "metadata": {},
   "source": [
    "#### 4 - Save for scan analyses"
   ]
  },
  {
   "cell_type": "code",
   "execution_count": null,
   "id": "24",
   "metadata": {},
   "outputs": [],
   "source": [
    "fwrite( happy_isofox, file = paste0( TMP_DIR, \"isofox_\", args[1], \"_ready.csv\") )"
   ]
  }
 ],
 "metadata": {
  "kernelspec": {
   "display_name": "R",
   "language": "R",
   "name": "ir"
  },
  "language_info": {
   "codemirror_mode": "r",
   "file_extension": ".r",
   "mimetype": "text/x-r-source",
   "name": "R",
   "pygments_lexer": "r",
   "version": "3.6.1"
  }
 },
 "nbformat": 4,
 "nbformat_minor": 5
}
