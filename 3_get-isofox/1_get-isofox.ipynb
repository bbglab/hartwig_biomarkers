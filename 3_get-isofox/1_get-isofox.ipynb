{
 "cells": [
  {
   "cell_type": "code",
   "execution_count": 2,
   "id": "1f8353f8",
   "metadata": {},
   "outputs": [],
   "source": [
    "wd <- dirname(getwd())\n",
    "source(paste0(wd,\"/mission_control/treasure_map.R\"))\n",
    "source(paste0(wd,\"/mission_control/isofox_help.R\"))\n",
    "\n",
    "library(dplyr)\n",
    "library(tidyverse)\n",
    "library(data.table)\n",
    "\n",
    "args <- list(\"AdjTPM\")"
   ]
  },
  {
   "cell_type": "markdown",
   "id": "c4a7f48d",
   "metadata": {},
   "source": [
    "#### Read in Gene Sets"
   ]
  },
  {
   "cell_type": "markdown",
   "id": "9f2bece6",
   "metadata": {},
   "source": [
    "- Sets included in first submission"
   ]
  },
  {
   "cell_type": "code",
   "execution_count": 5,
   "id": "3ed88da6",
   "metadata": {},
   "outputs": [],
   "source": [
    "cpi1000_sets <- readRDS(paste0(REF_DIR,\"cpi1000_gene_sets.Rds\"))\n",
    "mariathan_sets <- readRDS(paste0(REF_DIR,\"human_gene_signatures.Rds\"))\n",
    "tgfb_sets <- readRDS(paste0(REF_DIR,\"battle_gene_sets.Rds\"))\n",
    "vhio_sets <- readRDS(paste0(REF_DIR,\"vhio_gene_sets.Rds\"))\n",
    "cluster_sets <- readRDS(paste0(REF_DIR,\"fig_2and3_clusters.Rds\"))"
   ]
  },
  {
   "cell_type": "markdown",
   "id": "2da2c7be",
   "metadata": {},
   "source": [
    "- Add extra GSEA sets from Axel"
   ]
  },
  {
   "cell_type": "code",
   "execution_count": 6,
   "id": "6d738d9c",
   "metadata": {},
   "outputs": [],
   "source": [
    "gsea_sets <- readRDS(paste0(REF_DIR,\"GSEA_gene_sets.Rds\"))\n",
    "kegg_sets <- gsea_sets[which(unlist(lapply( names(gsea_sets), function(i) grepl(\"KEGG\",i))))]\n",
    "hallmark_sets <- gsea_sets[which(unlist(lapply( names(gsea_sets), function(i) grepl(\"HALLMARK\",i))))]\n",
    "go_sets <- gsea_sets[which(unlist(lapply( names(gsea_sets), function(i) grepl(\"_GO_\",i))))]                                               "
   ]
  },
  {
   "cell_type": "code",
   "execution_count": 10,
   "id": "aa0da377",
   "metadata": {},
   "outputs": [],
   "source": [
    "#cpi1000_sets"
   ]
  },
  {
   "cell_type": "code",
   "execution_count": 11,
   "id": "76e0a6f6",
   "metadata": {},
   "outputs": [
    {
     "name": "stderr",
     "output_type": "stream",
     "text": [
      "\n",
      "Attaching package: ‘jsonlite’\n",
      "\n",
      "The following object is masked from ‘package:purrr’:\n",
      "\n",
      "    flatten\n",
      "\n"
     ]
    }
   ],
   "source": [
    "library(jsonlite)\n",
    "write_json(list(\"a\" = 1), \"test.json\")"
   ]
  },
  {
   "cell_type": "code",
   "execution_count": 12,
   "id": "2a925e28",
   "metadata": {},
   "outputs": [
    {
     "data": {
      "text/html": [
       "'/workspace/projects/hartwig/biomarkers/repo/hartwig_biomarkers/3_get-isofox'"
      ],
      "text/latex": [
       "'/workspace/projects/hartwig/biomarkers/repo/hartwig\\_biomarkers/3\\_get-isofox'"
      ],
      "text/markdown": [
       "'/workspace/projects/hartwig/biomarkers/repo/hartwig_biomarkers/3_get-isofox'"
      ],
      "text/plain": [
       "[1] \"/workspace/projects/hartwig/biomarkers/repo/hartwig_biomarkers/3_get-isofox\""
      ]
     },
     "metadata": {},
     "output_type": "display_data"
    }
   ],
   "source": [
    "getwd()"
   ]
  },
  {
   "cell_type": "code",
   "execution_count": 13,
   "id": "6139ad10",
   "metadata": {},
   "outputs": [],
   "source": [
    "write_json(\n",
    "    list(\"cpi1000_sets\" = cpi1000_sets, \n",
    "     \"kegg_sets\" = kegg_sets, \n",
    "     \"hallmark_sets\" = hallmark_sets,\n",
    "     \"go_sets\" = go_sets),\n",
    "     \"gene_sets.json\"\n",
    ")"
   ]
  },
  {
   "cell_type": "markdown",
   "id": "f1610a13",
   "metadata": {},
   "source": [
    "#### 0 - Read in raw data"
   ]
  },
  {
   "cell_type": "code",
   "execution_count": 4,
   "id": "27278c09",
   "metadata": {},
   "outputs": [],
   "source": [
    "isofox <- fread(paste0( TMP_DIR,\"isofox_\",args[1],\"_features.csv\"))"
   ]
  },
  {
   "cell_type": "markdown",
   "id": "6a91988f",
   "metadata": {},
   "source": [
    "#### 1 - Transform\n",
    "- log transform"
   ]
  },
  {
   "cell_type": "code",
   "execution_count": 5,
   "id": "e070e055",
   "metadata": {},
   "outputs": [],
   "source": [
    "isofox2 <- isofox %>% mutate_at(vars(-sampleId), ~(log(.+1) %>% as.vector))"
   ]
  },
  {
   "cell_type": "markdown",
   "id": "084d34a5",
   "metadata": {},
   "source": [
    "#### 2 - Add gene sets "
   ]
  },
  {
   "cell_type": "code",
   "execution_count": 6,
   "id": "33e21e79",
   "metadata": {},
   "outputs": [],
   "source": [
    "names(mariathan_sets) <- gsub(\" \", \"_\", names(mariathan_sets))\n",
    "names(mariathan_sets) <- unlist(lapply(names(mariathan_sets), function(i) paste0(\"gene_set_mariathan_\", i)))"
   ]
  },
  {
   "cell_type": "code",
   "execution_count": 7,
   "id": "a8644b16",
   "metadata": {},
   "outputs": [],
   "source": [
    "names(cluster_sets) <- unlist(lapply(names(cluster_sets), function(i) paste0(\"gene_set_\", i)))\n",
    "names(tgfb_sets) <- unlist(lapply(names(tgfb_sets), function(i) paste0(\"gene_set_\", i)))\n",
    "names(vhio_sets) <- unlist(lapply(names(vhio_sets), function(i) paste0(\"gene_set_\", i)))\n",
    "names(kegg_sets) <- unlist(lapply(names(kegg_sets), function(i) paste0(\"gene_set_\", i)))\n",
    "names(hallmark_sets) <- unlist(lapply(names(hallmark_sets), function(i) paste0(\"gene_set_\", i))) \n",
    "names(go_sets) <- unlist(lapply(names(go_sets), function(i) paste0(\"gene_set_\", i)))                                                                             "
   ]
  },
  {
   "cell_type": "code",
   "execution_count": 8,
   "id": "4ee4ce23",
   "metadata": {},
   "outputs": [],
   "source": [
    "gene_sets <- c(cpi1000_sets, mariathan_sets, tgfb_sets, vhio_sets, kegg_sets, hallmark_sets, go_sets, cluster_sets)"
   ]
  },
  {
   "cell_type": "code",
   "execution_count": 9,
   "id": "093cadd0",
   "metadata": {},
   "outputs": [],
   "source": [
    "names(gene_sets) <- paste0(\"isofox_\", names(gene_sets))"
   ]
  },
  {
   "cell_type": "code",
   "execution_count": 10,
   "id": "17fcf734",
   "metadata": {},
   "outputs": [
    {
     "data": {
      "text/plain": [
       "NULL"
      ]
     },
     "metadata": {},
     "output_type": "display_data"
    }
   ],
   "source": [
    "gene_sets[['gene_set_tgfb_cluster']]"
   ]
  },
  {
   "cell_type": "markdown",
   "id": "67bf682c",
   "metadata": {},
   "source": [
    "##### Edit the gene sets (update names, few genes missing)"
   ]
  },
  {
   "cell_type": "code",
   "execution_count": 11,
   "id": "0f8351cc",
   "metadata": {},
   "outputs": [],
   "source": [
    "appender <- function(ll) unlist(lapply( ll, function(i) gsub(\"-\",\".\",paste0(\"isofox_\", i))))\n",
    "for (i in names(gene_sets)) gene_sets[[i]] <- appender(gene_sets[[i]])"
   ]
  },
  {
   "cell_type": "markdown",
   "id": "ae2be6ef",
   "metadata": {},
   "source": [
    "#### 1 - Compute Gene Sets "
   ]
  },
  {
   "cell_type": "code",
   "execution_count": 12,
   "id": "120b91e9",
   "metadata": {},
   "outputs": [],
   "source": [
    "gene_sets[['isofox_gene_set_mariathan_Histones']] <- NULL\n",
    "gene_sets[['isofox_CD_8_T_EFFECTOR']] <- NULL"
   ]
  },
  {
   "cell_type": "code",
   "execution_count": 13,
   "id": "3304d28f",
   "metadata": {},
   "outputs": [
    {
     "name": "stdout",
     "output_type": "stream",
     "text": [
      "[1] \"isofox_gene_set_cyt\"\n",
      "[1] \"isofox_gene_set_t_cell_gep_6\"\n",
      "[1] \"isofox_gene_set_t_cell_gep_10\"\n",
      "[1] \"isofox_gene_set_t_cell_gep_18\"\n",
      "[1] \"isofox_gene_set_prolif\"\n",
      "[1] \"isofox_gene_set_tim3\"\n",
      "[1] \"isofox_gene_set_t_cell_effector\"\n",
      "[1] \"isofox_gene_set_myeloid_inflammation\"\n",
      "[1] \"isofox_gene_set_stroma_emt_shortened\"\n",
      "[1] \"isofox_gene_set_Pan_TBRS\"\n",
      "[1] \"isofox_gene_set_impres\"\n",
      "[1] \"isofox_gene_set_12_chemokine\"\n",
      "[1] \"isofox_gene_set_immune_checkpoint_genes\"\n",
      "[1] \"isofox_gene_set_cd8_t_effector\"\n",
      "[1] \"isofox_gene_set_infiltrate\"\n",
      "[1] \"isofox_gene_set_t_cell_rand1\"\n",
      "[1] \"isofox_gene_set_prolif_rand1\"\n",
      "[1] \"isofox_gene_set_tgfb_rand1\"\n",
      "[1] \"isofox_gene_set_mariathan_CD_8_T_effector\"\n",
      "[1] \"isofox_gene_set_mariathan_DDR\"\n",
      "[1] \"isofox_gene_set_mariathan_APM\"\n",
      "[1] \"isofox_gene_set_mariathan_Immune_Checkpoint\"\n",
      "[1] \"isofox_gene_set_mariathan_CC_Reg\"\n",
      "[1] \"isofox_gene_set_mariathan_Fanconi\"\n",
      "[1] \"isofox_gene_set_mariathan_gene19\"\n",
      "[1] \"isofox_gene_set_mariathan_tcga\"\n",
      "[1] \"isofox_gene_set_mariathan_EMT1\"\n",
      "[1] \"isofox_gene_set_mariathan_EMT2\"\n",
      "[1] \"isofox_gene_set_mariathan_EMT3\"\n",
      "[1] \"isofox_gene_set_mariathan_WNT_target\"\n",
      "[1] \"isofox_gene_set_mariathan_FGFR3_related\"\n",
      "[1] \"isofox_gene_set_mariathan_Cell_cycle\"\n",
      "[1] \"isofox_gene_set_mariathan_Mismatch_Repair\"\n",
      "[1] \"isofox_gene_set_mariathan_Homologous_recombination\"\n",
      "[1] \"isofox_gene_set_mariathan_Nucleotide_excision_repair\"\n",
      "[1] \"isofox_gene_set_mariathan_DNA_replication\"\n",
      "[1] \"isofox_gene_set_mariathan_Base_excision_repair\"\n",
      "[1] \"isofox_gene_set_battle_tgfb_mf_Spp1\"\n",
      "[1] \"isofox_gene_set_battle_tgfb_mf_C1Q\"\n",
      "[1] \"isofox_gene_set_battle_tgfb_caf_spp1\"\n",
      "[1] \"isofox_gene_set_battle_tgfb_caf_Pdgfra\"\n",
      "[1] \"isofox_gene_set_battle_tgfb_caf_Lrrc15_Fibroblasts\"\n",
      "[1] \"isofox_gene_set_battle_tcell_gzmk_cd8\"\n",
      "[1] \"isofox_gene_set_battle_tcell_effector_cd8\"\n",
      "[1] \"isofox_gene_set_battle_tcell_term_diff_cd8\"\n",
      "[1] \"isofox_gene_set_F_TBRS\"\n",
      "[1] \"isofox_gene_set_Colostage\"\n",
      "[1] \"isofox_gene_set_Colostage_Plus\"\n",
      "[1] \"isofox_gene_set_Colostage_one\"\n",
      "[1] \"isofox_gene_set_vhio_tgfb\"\n",
      "[1] \"isofox_gene_set_vhio_prolif\"\n",
      "[1] \"isofox_gene_set_vhio_tcell\"\n",
      "[1] \"isofox_gene_set_KEGG_N_GLYCAN_BIOSYNTHESIS\"\n",
      "[1] \"isofox_gene_set_KEGG_OTHER_GLYCAN_DEGRADATION\"\n",
      "[1] \"isofox_gene_set_KEGG_O_GLYCAN_BIOSYNTHESIS\"\n",
      "[1] \"isofox_gene_set_KEGG_GLYCOSAMINOGLYCAN_DEGRADATION\"\n",
      "[1] \"isofox_gene_set_KEGG_GLYCOSAMINOGLYCAN_BIOSYNTHESIS_KERATAN_SULFATE\"\n",
      "[1] \"isofox_gene_set_KEGG_GLYCEROLIPID_METABOLISM\"\n",
      "[1] \"isofox_gene_set_KEGG_GLYCOSYLPHOSPHATIDYLINOSITOL_GPI_ANCHOR_BIOSYNTHESIS\"\n",
      "[1] \"isofox_gene_set_KEGG_GLYCEROPHOSPHOLIPID_METABOLISM\"\n",
      "[1] \"isofox_gene_set_KEGG_ETHER_LIPID_METABOLISM\"\n",
      "[1] \"isofox_gene_set_KEGG_ARACHIDONIC_ACID_METABOLISM\"\n",
      "[1] \"isofox_gene_set_KEGG_LINOLEIC_ACID_METABOLISM\"\n",
      "[1] \"isofox_gene_set_KEGG_ALPHA_LINOLENIC_ACID_METABOLISM\"\n",
      "[1] \"isofox_gene_set_KEGG_SPHINGOLIPID_METABOLISM\"\n",
      "[1] \"isofox_gene_set_KEGG_GLYCOSPHINGOLIPID_BIOSYNTHESIS_LACTO_AND_NEOLACTO_SERIES\"\n",
      "[1] \"isofox_gene_set_KEGG_GLYCOSPHINGOLIPID_BIOSYNTHESIS_GLOBO_SERIES\"\n",
      "[1] \"isofox_gene_set_KEGG_GLYCOSPHINGOLIPID_BIOSYNTHESIS_GANGLIO_SERIES\"\n",
      "[1] \"isofox_gene_set_KEGG_RIBOFLAVIN_METABOLISM\"\n",
      "[1] \"isofox_gene_set_KEGG_NICOTINATE_AND_NICOTINAMIDE_METABOLISM\"\n",
      "[1] \"isofox_gene_set_KEGG_PANTOTHENATE_AND_COA_BIOSYNTHESIS\"\n",
      "[1] \"isofox_gene_set_KEGG_AMINOACYL_TRNA_BIOSYNTHESIS\"\n",
      "[1] \"isofox_gene_set_KEGG_BASAL_TRANSCRIPTION_FACTORS\"\n",
      "[1] \"isofox_gene_set_KEGG_NON_HOMOLOGOUS_END_JOINING\"\n",
      "[1] \"isofox_gene_set_KEGG_SNARE_INTERACTIONS_IN_VESICULAR_TRANSPORT\"\n",
      "[1] \"isofox_gene_set_KEGG_LYSOSOME\"\n",
      "[1] \"isofox_gene_set_KEGG_CARDIAC_MUSCLE_CONTRACTION\"\n",
      "[1] \"isofox_gene_set_KEGG_RENIN_ANGIOTENSIN_SYSTEM\"\n",
      "[1] \"isofox_gene_set_KEGG_CIRCADIAN_RHYTHM_MAMMAL\"\n",
      "[1] \"isofox_gene_set_KEGG_TASTE_TRANSDUCTION\"\n",
      "[1] \"isofox_gene_set_KEGG_PROXIMAL_TUBULE_BICARBONATE_RECLAMATION\"\n",
      "[1] \"isofox_gene_set_KEGG_PATHOGENIC_ESCHERICHIA_COLI_INFECTION\"\n",
      "[1] \"isofox_gene_set_KEGG_SYSTEMIC_LUPUS_ERYTHEMATOSUS\"\n",
      "[1] \"isofox_gene_set_KEGG_PRIMARY_IMMUNODEFICIENCY\"\n",
      "[1] \"isofox_gene_set_KEGG_HYPERTROPHIC_CARDIOMYOPATHY_HCM\"\n",
      "[1] \"isofox_gene_set_KEGG_ARRHYTHMOGENIC_RIGHT_VENTRICULAR_CARDIOMYOPATHY_ARVC\"\n",
      "[1] \"isofox_gene_set_KEGG_DILATED_CARDIOMYOPATHY\"\n",
      "[1] \"isofox_gene_set_KEGG_GLYCOLYSIS_GLUCONEOGENESIS\"\n",
      "[1] \"isofox_gene_set_KEGG_CITRATE_CYCLE_TCA_CYCLE\"\n",
      "[1] \"isofox_gene_set_KEGG_PENTOSE_PHOSPHATE_PATHWAY\"\n",
      "[1] \"isofox_gene_set_KEGG_PENTOSE_AND_GLUCURONATE_INTERCONVERSIONS\"\n",
      "[1] \"isofox_gene_set_KEGG_FRUCTOSE_AND_MANNOSE_METABOLISM\"\n",
      "[1] \"isofox_gene_set_KEGG_GALACTOSE_METABOLISM\"\n",
      "[1] \"isofox_gene_set_KEGG_ASCORBATE_AND_ALDARATE_METABOLISM\"\n",
      "[1] \"isofox_gene_set_KEGG_FATTY_ACID_METABOLISM\"\n",
      "[1] \"isofox_gene_set_KEGG_STEROID_BIOSYNTHESIS\"\n",
      "[1] \"isofox_gene_set_KEGG_PRIMARY_BILE_ACID_BIOSYNTHESIS\"\n",
      "[1] \"isofox_gene_set_KEGG_STEROID_HORMONE_BIOSYNTHESIS\"\n",
      "[1] \"isofox_gene_set_KEGG_OXIDATIVE_PHOSPHORYLATION\"\n",
      "[1] \"isofox_gene_set_KEGG_PURINE_METABOLISM\"\n",
      "[1] \"isofox_gene_set_KEGG_PYRIMIDINE_METABOLISM\"\n",
      "[1] \"isofox_gene_set_KEGG_ALANINE_ASPARTATE_AND_GLUTAMATE_METABOLISM\"\n",
      "[1] \"isofox_gene_set_KEGG_GLYCINE_SERINE_AND_THREONINE_METABOLISM\"\n",
      "[1] \"isofox_gene_set_KEGG_CYSTEINE_AND_METHIONINE_METABOLISM\"\n",
      "[1] \"isofox_gene_set_KEGG_VALINE_LEUCINE_AND_ISOLEUCINE_DEGRADATION\"\n",
      "[1] \"isofox_gene_set_KEGG_VALINE_LEUCINE_AND_ISOLEUCINE_BIOSYNTHESIS\"\n",
      "[1] \"isofox_gene_set_KEGG_LYSINE_DEGRADATION\"\n",
      "[1] \"isofox_gene_set_KEGG_ARGININE_AND_PROLINE_METABOLISM\"\n",
      "[1] \"isofox_gene_set_KEGG_HISTIDINE_METABOLISM\"\n",
      "[1] \"isofox_gene_set_KEGG_TYROSINE_METABOLISM\"\n",
      "[1] \"isofox_gene_set_KEGG_PHENYLALANINE_METABOLISM\"\n",
      "[1] \"isofox_gene_set_KEGG_TRYPTOPHAN_METABOLISM\"\n",
      "[1] \"isofox_gene_set_KEGG_BETA_ALANINE_METABOLISM\"\n",
      "[1] \"isofox_gene_set_KEGG_TAURINE_AND_HYPOTAURINE_METABOLISM\"\n",
      "[1] \"isofox_gene_set_KEGG_SELENOAMINO_ACID_METABOLISM\"\n",
      "[1] \"isofox_gene_set_KEGG_GLUTATHIONE_METABOLISM\"\n",
      "[1] \"isofox_gene_set_KEGG_STARCH_AND_SUCROSE_METABOLISM\"\n",
      "[1] \"isofox_gene_set_KEGG_AMINO_SUGAR_AND_NUCLEOTIDE_SUGAR_METABOLISM\"\n",
      "[1] \"isofox_gene_set_KEGG_GLYCOSAMINOGLYCAN_BIOSYNTHESIS_CHONDROITIN_SULFATE\"\n",
      "[1] \"isofox_gene_set_KEGG_GLYCOSAMINOGLYCAN_BIOSYNTHESIS_HEPARAN_SULFATE\"\n",
      "[1] \"isofox_gene_set_KEGG_INOSITOL_PHOSPHATE_METABOLISM\"\n",
      "[1] \"isofox_gene_set_KEGG_PYRUVATE_METABOLISM\"\n",
      "[1] \"isofox_gene_set_KEGG_GLYOXYLATE_AND_DICARBOXYLATE_METABOLISM\"\n",
      "[1] \"isofox_gene_set_KEGG_PROPANOATE_METABOLISM\"\n",
      "[1] \"isofox_gene_set_KEGG_BUTANOATE_METABOLISM\"\n",
      "[1] \"isofox_gene_set_KEGG_ONE_CARBON_POOL_BY_FOLATE\"\n",
      "[1] \"isofox_gene_set_KEGG_FOLATE_BIOSYNTHESIS\"\n",
      "[1] \"isofox_gene_set_KEGG_RETINOL_METABOLISM\"\n",
      "[1] \"isofox_gene_set_KEGG_PORPHYRIN_AND_CHLOROPHYLL_METABOLISM\"\n",
      "[1] \"isofox_gene_set_KEGG_TERPENOID_BACKBONE_BIOSYNTHESIS\"\n",
      "[1] \"isofox_gene_set_KEGG_LIMONENE_AND_PINENE_DEGRADATION\"\n",
      "[1] \"isofox_gene_set_KEGG_NITROGEN_METABOLISM\"\n",
      "[1] \"isofox_gene_set_KEGG_SULFUR_METABOLISM\"\n",
      "[1] \"isofox_gene_set_KEGG_METABOLISM_OF_XENOBIOTICS_BY_CYTOCHROME_P450\"\n",
      "[1] \"isofox_gene_set_KEGG_DRUG_METABOLISM_CYTOCHROME_P450\"\n",
      "[1] \"isofox_gene_set_KEGG_DRUG_METABOLISM_OTHER_ENZYMES\"\n",
      "[1] \"isofox_gene_set_KEGG_BIOSYNTHESIS_OF_UNSATURATED_FATTY_ACIDS\"\n",
      "[1] \"isofox_gene_set_KEGG_ABC_TRANSPORTERS\"\n",
      "[1] \"isofox_gene_set_KEGG_RIBOSOME\"\n",
      "[1] \"isofox_gene_set_KEGG_RNA_DEGRADATION\"\n",
      "[1] \"isofox_gene_set_KEGG_RNA_POLYMERASE\"\n",
      "[1] \"isofox_gene_set_KEGG_DNA_REPLICATION\"\n",
      "[1] \"isofox_gene_set_KEGG_SPLICEOSOME\"\n",
      "[1] \"isofox_gene_set_KEGG_PROTEASOME\"\n",
      "[1] \"isofox_gene_set_KEGG_PROTEIN_EXPORT\"\n",
      "[1] \"isofox_gene_set_KEGG_PPAR_SIGNALING_PATHWAY\"\n",
      "[1] \"isofox_gene_set_KEGG_BASE_EXCISION_REPAIR\"\n",
      "[1] \"isofox_gene_set_KEGG_NUCLEOTIDE_EXCISION_REPAIR\"\n",
      "[1] \"isofox_gene_set_KEGG_MISMATCH_REPAIR\"\n",
      "[1] \"isofox_gene_set_KEGG_HOMOLOGOUS_RECOMBINATION\"\n",
      "[1] \"isofox_gene_set_KEGG_MAPK_SIGNALING_PATHWAY\"\n",
      "[1] \"isofox_gene_set_KEGG_ERBB_SIGNALING_PATHWAY\"\n",
      "[1] \"isofox_gene_set_KEGG_CALCIUM_SIGNALING_PATHWAY\"\n",
      "[1] \"isofox_gene_set_KEGG_CYTOKINE_CYTOKINE_RECEPTOR_INTERACTION\"\n",
      "[1] \"isofox_gene_set_KEGG_CHEMOKINE_SIGNALING_PATHWAY\"\n",
      "[1] \"isofox_gene_set_KEGG_PHOSPHATIDYLINOSITOL_SIGNALING_SYSTEM\"\n",
      "[1] \"isofox_gene_set_KEGG_NEUROACTIVE_LIGAND_RECEPTOR_INTERACTION\"\n",
      "[1] \"isofox_gene_set_KEGG_CELL_CYCLE\"\n",
      "[1] \"isofox_gene_set_KEGG_OOCYTE_MEIOSIS\"\n",
      "[1] \"isofox_gene_set_KEGG_P53_SIGNALING_PATHWAY\"\n",
      "[1] \"isofox_gene_set_KEGG_UBIQUITIN_MEDIATED_PROTEOLYSIS\"\n",
      "[1] \"isofox_gene_set_KEGG_REGULATION_OF_AUTOPHAGY\"\n",
      "[1] \"isofox_gene_set_KEGG_ENDOCYTOSIS\"\n"
     ]
    },
    {
     "name": "stdout",
     "output_type": "stream",
     "text": [
      "[1] \"isofox_gene_set_KEGG_PEROXISOME\"\n",
      "[1] \"isofox_gene_set_KEGG_MTOR_SIGNALING_PATHWAY\"\n",
      "[1] \"isofox_gene_set_KEGG_APOPTOSIS\"\n",
      "[1] \"isofox_gene_set_KEGG_VASCULAR_SMOOTH_MUSCLE_CONTRACTION\"\n",
      "[1] \"isofox_gene_set_KEGG_WNT_SIGNALING_PATHWAY\"\n",
      "[1] \"isofox_gene_set_KEGG_DORSO_VENTRAL_AXIS_FORMATION\"\n",
      "[1] \"isofox_gene_set_KEGG_NOTCH_SIGNALING_PATHWAY\"\n",
      "[1] \"isofox_gene_set_KEGG_HEDGEHOG_SIGNALING_PATHWAY\"\n",
      "[1] \"isofox_gene_set_KEGG_TGF_BETA_SIGNALING_PATHWAY\"\n",
      "[1] \"isofox_gene_set_KEGG_AXON_GUIDANCE\"\n",
      "[1] \"isofox_gene_set_KEGG_VEGF_SIGNALING_PATHWAY\"\n",
      "[1] \"isofox_gene_set_KEGG_FOCAL_ADHESION\"\n",
      "[1] \"isofox_gene_set_KEGG_ECM_RECEPTOR_INTERACTION\"\n",
      "[1] \"isofox_gene_set_KEGG_CELL_ADHESION_MOLECULES_CAMS\"\n",
      "[1] \"isofox_gene_set_KEGG_ADHERENS_JUNCTION\"\n",
      "[1] \"isofox_gene_set_KEGG_TIGHT_JUNCTION\"\n",
      "[1] \"isofox_gene_set_KEGG_GAP_JUNCTION\"\n",
      "[1] \"isofox_gene_set_KEGG_COMPLEMENT_AND_COAGULATION_CASCADES\"\n",
      "[1] \"isofox_gene_set_KEGG_ANTIGEN_PROCESSING_AND_PRESENTATION\"\n",
      "[1] \"isofox_gene_set_KEGG_TOLL_LIKE_RECEPTOR_SIGNALING_PATHWAY\"\n",
      "[1] \"isofox_gene_set_KEGG_NOD_LIKE_RECEPTOR_SIGNALING_PATHWAY\"\n",
      "[1] \"isofox_gene_set_KEGG_RIG_I_LIKE_RECEPTOR_SIGNALING_PATHWAY\"\n",
      "[1] \"isofox_gene_set_KEGG_CYTOSOLIC_DNA_SENSING_PATHWAY\"\n",
      "[1] \"isofox_gene_set_KEGG_JAK_STAT_SIGNALING_PATHWAY\"\n",
      "[1] \"isofox_gene_set_KEGG_HEMATOPOIETIC_CELL_LINEAGE\"\n",
      "[1] \"isofox_gene_set_KEGG_NATURAL_KILLER_CELL_MEDIATED_CYTOTOXICITY\"\n",
      "[1] \"isofox_gene_set_KEGG_T_CELL_RECEPTOR_SIGNALING_PATHWAY\"\n",
      "[1] \"isofox_gene_set_KEGG_B_CELL_RECEPTOR_SIGNALING_PATHWAY\"\n",
      "[1] \"isofox_gene_set_KEGG_FC_EPSILON_RI_SIGNALING_PATHWAY\"\n",
      "[1] \"isofox_gene_set_KEGG_FC_GAMMA_R_MEDIATED_PHAGOCYTOSIS\"\n",
      "[1] \"isofox_gene_set_KEGG_LEUKOCYTE_TRANSENDOTHELIAL_MIGRATION\"\n",
      "[1] \"isofox_gene_set_KEGG_INTESTINAL_IMMUNE_NETWORK_FOR_IGA_PRODUCTION\"\n",
      "[1] \"isofox_gene_set_KEGG_LONG_TERM_POTENTIATION\"\n",
      "[1] \"isofox_gene_set_KEGG_NEUROTROPHIN_SIGNALING_PATHWAY\"\n",
      "[1] \"isofox_gene_set_KEGG_LONG_TERM_DEPRESSION\"\n",
      "[1] \"isofox_gene_set_KEGG_OLFACTORY_TRANSDUCTION\"\n",
      "[1] \"isofox_gene_set_KEGG_REGULATION_OF_ACTIN_CYTOSKELETON\"\n",
      "[1] \"isofox_gene_set_KEGG_INSULIN_SIGNALING_PATHWAY\"\n",
      "[1] \"isofox_gene_set_KEGG_GNRH_SIGNALING_PATHWAY\"\n",
      "[1] \"isofox_gene_set_KEGG_PROGESTERONE_MEDIATED_OOCYTE_MATURATION\"\n",
      "[1] \"isofox_gene_set_KEGG_MELANOGENESIS\"\n",
      "[1] \"isofox_gene_set_KEGG_ADIPOCYTOKINE_SIGNALING_PATHWAY\"\n",
      "[1] \"isofox_gene_set_KEGG_TYPE_II_DIABETES_MELLITUS\"\n",
      "[1] \"isofox_gene_set_KEGG_TYPE_I_DIABETES_MELLITUS\"\n",
      "[1] \"isofox_gene_set_KEGG_MATURITY_ONSET_DIABETES_OF_THE_YOUNG\"\n",
      "[1] \"isofox_gene_set_KEGG_ALDOSTERONE_REGULATED_SODIUM_REABSORPTION\"\n",
      "[1] \"isofox_gene_set_KEGG_VASOPRESSIN_REGULATED_WATER_REABSORPTION\"\n",
      "[1] \"isofox_gene_set_KEGG_ALZHEIMERS_DISEASE\"\n",
      "[1] \"isofox_gene_set_KEGG_PARKINSONS_DISEASE\"\n",
      "[1] \"isofox_gene_set_KEGG_AMYOTROPHIC_LATERAL_SCLEROSIS_ALS\"\n",
      "[1] \"isofox_gene_set_KEGG_HUNTINGTONS_DISEASE\"\n",
      "[1] \"isofox_gene_set_KEGG_PRION_DISEASES\"\n",
      "[1] \"isofox_gene_set_KEGG_VIBRIO_CHOLERAE_INFECTION\"\n",
      "[1] \"isofox_gene_set_KEGG_EPITHELIAL_CELL_SIGNALING_IN_HELICOBACTER_PYLORI_INFECTION\"\n",
      "[1] \"isofox_gene_set_KEGG_LEISHMANIA_INFECTION\"\n",
      "[1] \"isofox_gene_set_KEGG_PATHWAYS_IN_CANCER\"\n",
      "[1] \"isofox_gene_set_KEGG_COLORECTAL_CANCER\"\n",
      "[1] \"isofox_gene_set_KEGG_RENAL_CELL_CARCINOMA\"\n",
      "[1] \"isofox_gene_set_KEGG_PANCREATIC_CANCER\"\n",
      "[1] \"isofox_gene_set_KEGG_ENDOMETRIAL_CANCER\"\n",
      "[1] \"isofox_gene_set_KEGG_GLIOMA\"\n",
      "[1] \"isofox_gene_set_KEGG_PROSTATE_CANCER\"\n",
      "[1] \"isofox_gene_set_KEGG_THYROID_CANCER\"\n",
      "[1] \"isofox_gene_set_KEGG_BASAL_CELL_CARCINOMA\"\n",
      "[1] \"isofox_gene_set_KEGG_MELANOMA\"\n",
      "[1] \"isofox_gene_set_KEGG_BLADDER_CANCER\"\n",
      "[1] \"isofox_gene_set_KEGG_CHRONIC_MYELOID_LEUKEMIA\"\n",
      "[1] \"isofox_gene_set_KEGG_ACUTE_MYELOID_LEUKEMIA\"\n",
      "[1] \"isofox_gene_set_KEGG_SMALL_CELL_LUNG_CANCER\"\n",
      "[1] \"isofox_gene_set_KEGG_NON_SMALL_CELL_LUNG_CANCER\"\n",
      "[1] \"isofox_gene_set_KEGG_ASTHMA\"\n",
      "[1] \"isofox_gene_set_KEGG_AUTOIMMUNE_THYROID_DISEASE\"\n",
      "[1] \"isofox_gene_set_KEGG_ALLOGRAFT_REJECTION\"\n",
      "[1] \"isofox_gene_set_KEGG_GRAFT_VERSUS_HOST_DISEASE\"\n",
      "[1] \"isofox_gene_set_KEGG_VIRAL_MYOCARDITIS\"\n",
      "[1] \"isofox_gene_set_HALLMARK_TNFA_SIGNALING_VIA_NFKB\"\n",
      "[1] \"isofox_gene_set_HALLMARK_HYPOXIA\"\n",
      "[1] \"isofox_gene_set_HALLMARK_CHOLESTEROL_HOMEOSTASIS\"\n",
      "[1] \"isofox_gene_set_HALLMARK_MITOTIC_SPINDLE\"\n",
      "[1] \"isofox_gene_set_HALLMARK_WNT_BETA_CATENIN_SIGNALING\"\n",
      "[1] \"isofox_gene_set_HALLMARK_TGF_BETA_SIGNALING\"\n",
      "[1] \"isofox_gene_set_HALLMARK_IL6_JAK_STAT3_SIGNALING\"\n",
      "[1] \"isofox_gene_set_HALLMARK_DNA_REPAIR\"\n",
      "[1] \"isofox_gene_set_HALLMARK_G2M_CHECKPOINT\"\n",
      "[1] \"isofox_gene_set_HALLMARK_APOPTOSIS\"\n",
      "[1] \"isofox_gene_set_HALLMARK_NOTCH_SIGNALING\"\n",
      "[1] \"isofox_gene_set_HALLMARK_ADIPOGENESIS\"\n",
      "[1] \"isofox_gene_set_HALLMARK_ESTROGEN_RESPONSE_EARLY\"\n",
      "[1] \"isofox_gene_set_HALLMARK_ESTROGEN_RESPONSE_LATE\"\n",
      "[1] \"isofox_gene_set_HALLMARK_ANDROGEN_RESPONSE\"\n",
      "[1] \"isofox_gene_set_HALLMARK_MYOGENESIS\"\n",
      "[1] \"isofox_gene_set_HALLMARK_PROTEIN_SECRETION\"\n",
      "[1] \"isofox_gene_set_HALLMARK_INTERFERON_ALPHA_RESPONSE\"\n",
      "[1] \"isofox_gene_set_HALLMARK_INTERFERON_GAMMA_RESPONSE\"\n",
      "[1] \"isofox_gene_set_HALLMARK_APICAL_JUNCTION\"\n",
      "[1] \"isofox_gene_set_HALLMARK_APICAL_SURFACE\"\n",
      "[1] \"isofox_gene_set_HALLMARK_HEDGEHOG_SIGNALING\"\n",
      "[1] \"isofox_gene_set_HALLMARK_COMPLEMENT\"\n",
      "[1] \"isofox_gene_set_HALLMARK_UNFOLDED_PROTEIN_RESPONSE\"\n",
      "[1] \"isofox_gene_set_HALLMARK_PI3K_AKT_MTOR_SIGNALING\"\n",
      "[1] \"isofox_gene_set_HALLMARK_MTORC1_SIGNALING\"\n",
      "[1] \"isofox_gene_set_HALLMARK_E2F_TARGETS\"\n",
      "[1] \"isofox_gene_set_HALLMARK_MYC_TARGETS_V1\"\n",
      "[1] \"isofox_gene_set_HALLMARK_MYC_TARGETS_V2\"\n",
      "[1] \"isofox_gene_set_HALLMARK_EPITHELIAL_MESENCHYMAL_TRANSITION\"\n",
      "[1] \"isofox_gene_set_HALLMARK_INFLAMMATORY_RESPONSE\"\n",
      "[1] \"isofox_gene_set_HALLMARK_XENOBIOTIC_METABOLISM\"\n",
      "[1] \"isofox_gene_set_HALLMARK_FATTY_ACID_METABOLISM\"\n",
      "[1] \"isofox_gene_set_HALLMARK_OXIDATIVE_PHOSPHORYLATION\"\n",
      "[1] \"isofox_gene_set_HALLMARK_GLYCOLYSIS\"\n",
      "[1] \"isofox_gene_set_HALLMARK_REACTIVE_OXYGEN_SPECIES_PATHWAY\"\n",
      "[1] \"isofox_gene_set_HALLMARK_P53_PATHWAY\"\n",
      "[1] \"isofox_gene_set_HALLMARK_UV_RESPONSE_UP\"\n",
      "[1] \"isofox_gene_set_HALLMARK_UV_RESPONSE_DN\"\n",
      "[1] \"isofox_gene_set_HALLMARK_ANGIOGENESIS\"\n",
      "[1] \"isofox_gene_set_HALLMARK_HEME_METABOLISM\"\n",
      "[1] \"isofox_gene_set_HALLMARK_COAGULATION\"\n",
      "[1] \"isofox_gene_set_HALLMARK_IL2_STAT5_SIGNALING\"\n",
      "[1] \"isofox_gene_set_HALLMARK_BILE_ACID_METABOLISM\"\n",
      "[1] \"isofox_gene_set_HALLMARK_PEROXISOME\"\n",
      "[1] \"isofox_gene_set_HALLMARK_ALLOGRAFT_REJECTION\"\n",
      "[1] \"isofox_gene_set_HALLMARK_SPERMATOGENESIS\"\n",
      "[1] \"isofox_gene_set_HALLMARK_KRAS_SIGNALING_UP\"\n",
      "[1] \"isofox_gene_set_HALLMARK_KRAS_SIGNALING_DN\"\n",
      "[1] \"isofox_gene_set_HALLMARK_PANCREAS_BETA_CELLS\"\n",
      "[1] \"isofox_gene_set_CELL_PROLIFERATION_GO_0008283\"\n",
      "[1] \"isofox_gene_set_tcell_cluster\"\n",
      "[1] \"isofox_gene_set_tgfb_cluster\"\n",
      "[1] \"isofox_gene_set_prolif_cluster\"\n",
      "[1] \"isofox_gene_set_tcell_cluster_05\"\n",
      "[1] \"isofox_gene_set_prolif_cluster_05\"\n",
      "[1] \"isofox_gene_set_tgfb_cluster_05\"\n",
      "[1] \"isofox_gene_set_tcell_cluster_10\"\n",
      "[1] \"isofox_gene_set_prolif_cluster_10\"\n",
      "[1] \"isofox_gene_set_tgfb_cluster_10\"\n"
     ]
    }
   ],
   "source": [
    "gene_sets_ls <- list()\n",
    "for (i in names(gene_sets)){\n",
    "    print(i)\n",
    "    flush.console()\n",
    "    tmp <- isofox2 %>% select(any_of(gene_sets[[i]]))\n",
    "    gene_sets_ls[[i]] <- apply(tmp, 1, mean, na.rm = TRUE)\n",
    "}\n",
    "gene_sets_final <- data.frame(gene_sets_ls)\n",
    "gene_sets_final$sampleId <- isofox2 %>% pull(sampleId)"
   ]
  },
  {
   "cell_type": "markdown",
   "id": "b77a06ab",
   "metadata": {},
   "source": [
    "#### 3 - Format for Univariate Scan"
   ]
  },
  {
   "cell_type": "code",
   "execution_count": 14,
   "id": "6b9fce61",
   "metadata": {},
   "outputs": [],
   "source": [
    "happy_isofox <- isofox2 %>% left_join(gene_sets_final, by = \"sampleId\")\n",
    "rownames(happy_isofox) <- NULL"
   ]
  },
  {
   "cell_type": "markdown",
   "id": "a5d2580d",
   "metadata": {},
   "source": [
    "#### 4 - Save for scan analyses"
   ]
  },
  {
   "cell_type": "code",
   "execution_count": 15,
   "id": "2a7cbad4",
   "metadata": {},
   "outputs": [],
   "source": [
    "fwrite( happy_isofox, file = paste0( TMP_DIR, \"isofox_\", args[1], \"_ready.csv\") )"
   ]
  }
 ],
 "metadata": {
  "kernelspec": {
   "display_name": "R",
   "language": "R",
   "name": "ir"
  },
  "language_info": {
   "codemirror_mode": "r",
   "file_extension": ".r",
   "mimetype": "text/x-r-source",
   "name": "R",
   "pygments_lexer": "r",
   "version": "3.6.1"
  }
 },
 "nbformat": 4,
 "nbformat_minor": 5
}
