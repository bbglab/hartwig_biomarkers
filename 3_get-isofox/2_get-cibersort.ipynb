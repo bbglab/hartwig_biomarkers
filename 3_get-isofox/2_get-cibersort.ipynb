{
 "cells": [
  {
   "cell_type": "code",
   "execution_count": null,
   "id": "0",
   "metadata": {},
   "outputs": [],
   "source": [
    "wd <- dirname(getwd())\n",
    "source(paste0(wd,\"/mission_control/treasure_map.R\"))\n",
    "source(paste0(wd,\"/mission_control/cibersort_help.R\"))\n",
    "\n",
    "library(e1071)\n",
    "library(parallel)\n",
    "library(dplyr)"
   ]
  },
  {
   "cell_type": "code",
   "execution_count": null,
   "id": "1",
   "metadata": {},
   "outputs": [],
   "source": [
    "args <- commandArgs(trailing = TRUE) ## \"RawTPM\" or \"AdjTPM\" #\n",
    "#args <- list(\"AdjTPM\", \"LM22\")"
   ]
  },
  {
   "cell_type": "markdown",
   "id": "2",
   "metadata": {},
   "source": [
    "#### 0 - Read and pre-process the data "
   ]
  },
  {
   "cell_type": "code",
   "execution_count": null,
   "id": "3",
   "metadata": {},
   "outputs": [],
   "source": [
    "mixture <- read.csv(paste0(TMP_DIR, \"cibersort_prep_\", args[1], \".csv\"))"
   ]
  },
  {
   "cell_type": "code",
   "execution_count": null,
   "id": "4",
   "metadata": {},
   "outputs": [],
   "source": [
    "sig_ref <- read.csv(paste0(REF_DIR, args[2], \".txt\"), sep = \"\\t\")\n",
    "tag <- strsplit(unlist(args[2]), \".txt\")[[1]][1]"
   ]
  },
  {
   "cell_type": "code",
   "execution_count": null,
   "id": "5",
   "metadata": {},
   "outputs": [],
   "source": [
    "if( tag == \"TR4\"){\n",
    "  sig_ref <- \n",
    "    sig_ref %>% \n",
    "      rename( Gene.symbol = NAME,  epithelial = EPCAM, fibroblasts = CD10, endothelial = CD31, immune = CD45)\n",
    "}"
   ]
  },
  {
   "cell_type": "code",
   "execution_count": null,
   "id": "6",
   "metadata": {},
   "outputs": [],
   "source": [
    "mixture_ready <- mixture[which(mixture$GeneName %in% sig_ref$Gene.symbol),]\n",
    "sig_ref_ready <- sig_ref[which(sig_ref$Gene.symbol %in% mixture$GeneName),]\n",
    "X <- data.matrix(sig_ref_ready[,-1])\n",
    "Y <- data.matrix(mixture_ready[,-1])"
   ]
  },
  {
   "cell_type": "markdown",
   "id": "7",
   "metadata": {},
   "source": [
    "#### 1 - Run it"
   ]
  },
  {
   "cell_type": "code",
   "execution_count": null,
   "id": "8",
   "metadata": {},
   "outputs": [],
   "source": [
    "out <- CIBERSORT( X, Y )"
   ]
  },
  {
   "cell_type": "markdown",
   "id": "9",
   "metadata": {},
   "source": [
    "#### 2 - Output"
   ]
  },
  {
   "cell_type": "code",
   "execution_count": null,
   "id": "10",
   "metadata": {},
   "outputs": [],
   "source": [
    "cibersort_features <- \n",
    "    (out$wts \n",
    "        %>% left_join(out$stats, by = \"sampleId\") \n",
    "        %>% rename_at(vars(-sampleId), ~ paste0(\"cibersort_\", tag, \"_\", .x))\n",
    "        %>% relocate(sampleId))\n",
    "write.csv( cibersort_features, file = paste0(TMP_DIR, \"cibersort_\", args[1],\"_\", args[2], \"_ready.csv\"), row.names=FALSE)"
   ]
  }
 ],
 "metadata": {
  "kernelspec": {
   "display_name": "R",
   "language": "R",
   "name": "ir"
  },
  "language_info": {
   "codemirror_mode": "r",
   "file_extension": ".r",
   "mimetype": "text/x-r-source",
   "name": "R",
   "pygments_lexer": "r",
   "version": "3.6.1"
  }
 },
 "nbformat": 4,
 "nbformat_minor": 5
}
