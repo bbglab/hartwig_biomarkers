{
 "cells": [
  {
   "cell_type": "code",
   "execution_count": 1,
   "id": "14b89609",
   "metadata": {},
   "outputs": [
    {
     "name": "stderr",
     "output_type": "stream",
     "text": [
      "Warning message:\n",
      "“package ‘dplyr’ was built under R version 3.6.3”\n",
      "Attaching package: ‘dplyr’\n",
      "\n",
      "The following objects are masked from ‘package:stats’:\n",
      "\n",
      "    filter, lag\n",
      "\n",
      "The following objects are masked from ‘package:base’:\n",
      "\n",
      "    intersect, setdiff, setequal, union\n",
      "\n",
      "Registered S3 method overwritten by 'rvest':\n",
      "  method            from\n",
      "  read_xml.response xml2\n",
      "── Attaching packages ────────────────────────────────────────────────────────────────────────────────── tidyverse 1.2.1 ──\n",
      "✔ ggplot2 3.3.3     ✔ readr   1.3.1\n",
      "✔ tibble  3.1.2     ✔ purrr   0.3.4\n",
      "✔ tidyr   1.1.3     ✔ stringr 1.4.0\n",
      "✔ ggplot2 3.3.3     ✔ forcats 0.5.1\n",
      "Warning message:\n",
      "“package ‘ggplot2’ was built under R version 3.6.3”Warning message:\n",
      "“package ‘tibble’ was built under R version 3.6.3”Warning message:\n",
      "“package ‘tidyr’ was built under R version 3.6.3”Warning message:\n",
      "“package ‘purrr’ was built under R version 3.6.3”Warning message:\n",
      "“package ‘forcats’ was built under R version 3.6.3”── Conflicts ───────────────────────────────────────────────────────────────────────────────────── tidyverse_conflicts() ──\n",
      "✖ dplyr::filter() masks stats::filter()\n",
      "✖ dplyr::lag()    masks stats::lag()\n"
     ]
    }
   ],
   "source": [
    "wd <- dirname(getwd())\n",
    "source(paste0(wd,\"/mission_control/treasure_map.R\"))\n",
    "source(paste0(wd,\"/mission_control/isofox_help.R\"))\n",
    "\n",
    "library(dplyr)\n",
    "library(tidyverse)"
   ]
  },
  {
   "cell_type": "code",
   "execution_count": 2,
   "id": "be8ff4e3",
   "metadata": {},
   "outputs": [],
   "source": [
    "z <- read.csv(paste0( TMP_DIR,\"clinical_ready.csv\"), header = TRUE, sep = \",\", stringsAsFactors = FALSE)\n",
    "a <- read.csv(paste0( TMP_DIR,\"isofox_RawTPM_features.csv\"), header = TRUE, sep = \",\", stringsAsFactors = FALSE)\n",
    "b <- read.csv(paste0( TMP_DIR,\"isofox_RawTPM_full_features.csv\"), header = TRUE, sep = \",\", stringsAsFactors = FALSE)"
   ]
  },
  {
   "cell_type": "code",
   "execution_count": null,
   "id": "d22762eb",
   "metadata": {},
   "outputs": [],
   "source": [
    "c <- read.csv(paste0( TMP_DIR,\"isofox_AdjTPM_features.csv\"), header = TRUE, sep = \",\", stringsAsFactors = FALSE)\n",
    "d <- read.csv(paste0( TMP_DIR,\"isofox_AdjTPM_full_features.csv\"), header = TRUE, sep = \",\", stringsAsFactors = FALSE)"
   ]
  },
  {
   "cell_type": "code",
   "execution_count": 4,
   "id": "d7ae8787",
   "metadata": {},
   "outputs": [
    {
     "data": {
      "text/html": [
       "<ol class=list-inline>\n",
       "\t<li>2248</li>\n",
       "\t<li>18733</li>\n",
       "</ol>\n"
      ],
      "text/latex": [
       "\\begin{enumerate*}\n",
       "\\item 2248\n",
       "\\item 18733\n",
       "\\end{enumerate*}\n"
      ],
      "text/markdown": [
       "1. 2248\n",
       "2. 18733\n",
       "\n",
       "\n"
      ],
      "text/plain": [
       "[1]  2248 18733"
      ]
     },
     "metadata": {},
     "output_type": "display_data"
    }
   ],
   "source": [
    "dim(a); dim(b); dim(c); dim(d)"
   ]
  },
  {
   "cell_type": "code",
   "execution_count": 20,
   "id": "9f098b7a",
   "metadata": {},
   "outputs": [],
   "source": [
    "a_sum <- data.frame( sample = a %>% pull(sampleId), sums_a = apply( a %>% select(-sampleId), 1, sum))\n",
    "b_sum <- data.frame( sample = b %>% pull(sampleId), sums_b = apply( b %>% select(-sampleId), 1, sum))\n",
    "c_sum <- data.frame( sample = c %>% pull(sampleId), sums_c = apply( c %>% select(-sampleId), 1, sum))\n",
    "d_sum <- data.frame( sample = d %>% pull(sampleId), sums_d = apply( d %>% select(-sampleId), 1, sum))"
   ]
  },
  {
   "cell_type": "code",
   "execution_count": 52,
   "id": "7937725c",
   "metadata": {},
   "outputs": [],
   "source": [
    "idx <- which(colnames(b) %in% colnames(a))\n",
    "present <- b[,idx[-1]]\n",
    "missing <- b[,-idx]\n",
    "\n",
    "present_sums <- sort(apply(present, 2, mean), decreasing = TRUE)\n",
    "missing_sums <- sort(apply(missing, 2, mean), decreasing = TRUE)\n",
    "\n",
    "present_checks <- data.frame( amt = present_sums, pct = present_sums/1000000, tot_exp = cumsum(present_sums/1000000))\n",
    "missing_checks <- data.frame( amt = missing_sums, pct = missing_sums/1000000, tot_exp = cumsum(missing_sums/1000000))"
   ]
  },
  {
   "cell_type": "code",
   "execution_count": 61,
   "id": "4c7e3864",
   "metadata": {},
   "outputs": [
    {
     "data": {
      "text/html": [
       "<table>\n",
       "<thead><tr><th></th><th scope=col>amt</th><th scope=col>pct</th><th scope=col>tot_exp</th></tr></thead>\n",
       "<tbody>\n",
       "\t<tr><th scope=row>isofox_RN7SL2</th><td>274949.98 </td><td>0.27494998</td><td>0.2749500 </td></tr>\n",
       "\t<tr><th scope=row>isofox_RN7SL1</th><td>204344.52 </td><td>0.20434452</td><td>0.4792945 </td></tr>\n",
       "\t<tr><th scope=row>isofox_RN7SK</th><td>112827.37 </td><td>0.11282737</td><td>0.5921219 </td></tr>\n",
       "\t<tr><th scope=row>isofox_RN7SL4P</th><td> 57316.13 </td><td>0.05731613</td><td>0.6494380 </td></tr>\n",
       "\t<tr><th scope=row>isofox_RN7SL5P</th><td> 48592.98 </td><td>0.04859298</td><td>0.6980310 </td></tr>\n",
       "</tbody>\n",
       "</table>\n"
      ],
      "text/latex": [
       "\\begin{tabular}{r|lll}\n",
       "  & amt & pct & tot\\_exp\\\\\n",
       "\\hline\n",
       "\tisofox\\_RN7SL2 & 274949.98  & 0.27494998 & 0.2749500 \\\\\n",
       "\tisofox\\_RN7SL1 & 204344.52  & 0.20434452 & 0.4792945 \\\\\n",
       "\tisofox\\_RN7SK & 112827.37  & 0.11282737 & 0.5921219 \\\\\n",
       "\tisofox\\_RN7SL4P &  57316.13  & 0.05731613 & 0.6494380 \\\\\n",
       "\tisofox\\_RN7SL5P &  48592.98  & 0.04859298 & 0.6980310 \\\\\n",
       "\\end{tabular}\n"
      ],
      "text/markdown": [
       "\n",
       "| <!--/--> | amt | pct | tot_exp |\n",
       "|---|---|---|---|\n",
       "| isofox_RN7SL2 | 274949.98  | 0.27494998 | 0.2749500  |\n",
       "| isofox_RN7SL1 | 204344.52  | 0.20434452 | 0.4792945  |\n",
       "| isofox_RN7SK | 112827.37  | 0.11282737 | 0.5921219  |\n",
       "| isofox_RN7SL4P |  57316.13  | 0.05731613 | 0.6494380  |\n",
       "| isofox_RN7SL5P |  48592.98  | 0.04859298 | 0.6980310  |\n",
       "\n"
      ],
      "text/plain": [
       "               amt       pct        tot_exp  \n",
       "isofox_RN7SL2  274949.98 0.27494998 0.2749500\n",
       "isofox_RN7SL1  204344.52 0.20434452 0.4792945\n",
       "isofox_RN7SK   112827.37 0.11282737 0.5921219\n",
       "isofox_RN7SL4P  57316.13 0.05731613 0.6494380\n",
       "isofox_RN7SL5P  48592.98 0.04859298 0.6980310"
      ]
     },
     "metadata": {},
     "output_type": "display_data"
    },
    {
     "data": {
      "text/html": [
       "<table>\n",
       "<thead><tr><th></th><th scope=col>amt</th><th scope=col>pct</th><th scope=col>tot_exp</th></tr></thead>\n",
       "<tbody>\n",
       "\t<tr><th scope=row>isofox_FTH1</th><td>747.1163    </td><td>0.0007471163</td><td>0.0007471163</td></tr>\n",
       "\t<tr><th scope=row>isofox_EEF1A1</th><td>713.3980    </td><td>0.0007133980</td><td>0.0014605143</td></tr>\n",
       "\t<tr><th scope=row>isofox_ACTB</th><td>698.6368    </td><td>0.0006986368</td><td>0.0021591511</td></tr>\n",
       "\t<tr><th scope=row>isofox_RPL37A</th><td>686.3139    </td><td>0.0006863139</td><td>0.0028454650</td></tr>\n",
       "\t<tr><th scope=row>isofox_B2M</th><td>670.3777    </td><td>0.0006703777</td><td>0.0035158427</td></tr>\n",
       "</tbody>\n",
       "</table>\n"
      ],
      "text/latex": [
       "\\begin{tabular}{r|lll}\n",
       "  & amt & pct & tot\\_exp\\\\\n",
       "\\hline\n",
       "\tisofox\\_FTH1 & 747.1163     & 0.0007471163 & 0.0007471163\\\\\n",
       "\tisofox\\_EEF1A1 & 713.3980     & 0.0007133980 & 0.0014605143\\\\\n",
       "\tisofox\\_ACTB & 698.6368     & 0.0006986368 & 0.0021591511\\\\\n",
       "\tisofox\\_RPL37A & 686.3139     & 0.0006863139 & 0.0028454650\\\\\n",
       "\tisofox\\_B2M & 670.3777     & 0.0006703777 & 0.0035158427\\\\\n",
       "\\end{tabular}\n"
      ],
      "text/markdown": [
       "\n",
       "| <!--/--> | amt | pct | tot_exp |\n",
       "|---|---|---|---|\n",
       "| isofox_FTH1 | 747.1163     | 0.0007471163 | 0.0007471163 |\n",
       "| isofox_EEF1A1 | 713.3980     | 0.0007133980 | 0.0014605143 |\n",
       "| isofox_ACTB | 698.6368     | 0.0006986368 | 0.0021591511 |\n",
       "| isofox_RPL37A | 686.3139     | 0.0006863139 | 0.0028454650 |\n",
       "| isofox_B2M | 670.3777     | 0.0006703777 | 0.0035158427 |\n",
       "\n"
      ],
      "text/plain": [
       "              amt      pct          tot_exp     \n",
       "isofox_FTH1   747.1163 0.0007471163 0.0007471163\n",
       "isofox_EEF1A1 713.3980 0.0007133980 0.0014605143\n",
       "isofox_ACTB   698.6368 0.0006986368 0.0021591511\n",
       "isofox_RPL37A 686.3139 0.0006863139 0.0028454650\n",
       "isofox_B2M    670.3777 0.0006703777 0.0035158427"
      ]
     },
     "metadata": {},
     "output_type": "display_data"
    }
   ],
   "source": [
    "missing_checks[1:5,]; present_checks[1:5,]"
   ]
  },
  {
   "cell_type": "code",
   "execution_count": 62,
   "id": "dea67854",
   "metadata": {},
   "outputs": [],
   "source": [
    "idx <- which(colnames(d) %in% colnames(c))\n",
    "present <- d[,idx[-1]]\n",
    "missing <- d[,-idx]\n",
    "\n",
    "present_sums <- sort(apply(present, 2, mean), decreasing = TRUE)\n",
    "missing_sums <- sort(apply(missing, 2, mean), decreasing = TRUE)\n",
    "\n",
    "present_checks <- data.frame( amt = present_sums, pct = present_sums/1000000, tot_exp = cumsum(present_sums/1000000))\n",
    "missing_checks <- data.frame( amt = missing_sums, pct = missing_sums/1000000, tot_exp = cumsum(missing_sums/1000000))"
   ]
  },
  {
   "cell_type": "code",
   "execution_count": 63,
   "id": "6bd03ae0",
   "metadata": {},
   "outputs": [
    {
     "data": {
      "text/html": [
       "<table>\n",
       "<thead><tr><th></th><th scope=col>amt</th><th scope=col>pct</th><th scope=col>tot_exp</th></tr></thead>\n",
       "<tbody>\n",
       "\t<tr><th scope=row>isofox_RN7SL2</th><td>1741814.9</td><td>1.7418149</td><td>1.741815 </td></tr>\n",
       "\t<tr><th scope=row>isofox_RN7SL1</th><td>1296960.7</td><td>1.2969607</td><td>3.038776 </td></tr>\n",
       "\t<tr><th scope=row>isofox_RN7SK</th><td> 510066.2</td><td>0.5100662</td><td>3.548842 </td></tr>\n",
       "\t<tr><th scope=row>isofox_RN7SL4P</th><td> 364069.1</td><td>0.3640691</td><td>3.912911 </td></tr>\n",
       "\t<tr><th scope=row>isofox_RN7SL5P</th><td> 320208.2</td><td>0.3202082</td><td>4.233119 </td></tr>\n",
       "</tbody>\n",
       "</table>\n"
      ],
      "text/latex": [
       "\\begin{tabular}{r|lll}\n",
       "  & amt & pct & tot\\_exp\\\\\n",
       "\\hline\n",
       "\tisofox\\_RN7SL2 & 1741814.9 & 1.7418149 & 1.741815 \\\\\n",
       "\tisofox\\_RN7SL1 & 1296960.7 & 1.2969607 & 3.038776 \\\\\n",
       "\tisofox\\_RN7SK &  510066.2 & 0.5100662 & 3.548842 \\\\\n",
       "\tisofox\\_RN7SL4P &  364069.1 & 0.3640691 & 3.912911 \\\\\n",
       "\tisofox\\_RN7SL5P &  320208.2 & 0.3202082 & 4.233119 \\\\\n",
       "\\end{tabular}\n"
      ],
      "text/markdown": [
       "\n",
       "| <!--/--> | amt | pct | tot_exp |\n",
       "|---|---|---|---|\n",
       "| isofox_RN7SL2 | 1741814.9 | 1.7418149 | 1.741815  |\n",
       "| isofox_RN7SL1 | 1296960.7 | 1.2969607 | 3.038776  |\n",
       "| isofox_RN7SK |  510066.2 | 0.5100662 | 3.548842  |\n",
       "| isofox_RN7SL4P |  364069.1 | 0.3640691 | 3.912911  |\n",
       "| isofox_RN7SL5P |  320208.2 | 0.3202082 | 4.233119  |\n",
       "\n"
      ],
      "text/plain": [
       "               amt       pct       tot_exp \n",
       "isofox_RN7SL2  1741814.9 1.7418149 1.741815\n",
       "isofox_RN7SL1  1296960.7 1.2969607 3.038776\n",
       "isofox_RN7SK    510066.2 0.5100662 3.548842\n",
       "isofox_RN7SL4P  364069.1 0.3640691 3.912911\n",
       "isofox_RN7SL5P  320208.2 0.3202082 4.233119"
      ]
     },
     "metadata": {},
     "output_type": "display_data"
    },
    {
     "data": {
      "text/html": [
       "<table>\n",
       "<thead><tr><th></th><th scope=col>amt</th><th scope=col>pct</th><th scope=col>tot_exp</th></tr></thead>\n",
       "<tbody>\n",
       "\t<tr><th scope=row>isofox_FTH1</th><td>3354.188   </td><td>0.003354188</td><td>0.003354188</td></tr>\n",
       "\t<tr><th scope=row>isofox_ACTB</th><td>3071.009   </td><td>0.003071009</td><td>0.006425197</td></tr>\n",
       "\t<tr><th scope=row>isofox_EEF1A1</th><td>2983.380   </td><td>0.002983380</td><td>0.009408578</td></tr>\n",
       "\t<tr><th scope=row>isofox_FTL</th><td>2932.656   </td><td>0.002932656</td><td>0.012341234</td></tr>\n",
       "\t<tr><th scope=row>isofox_B2M</th><td>2832.041   </td><td>0.002832041</td><td>0.015173275</td></tr>\n",
       "</tbody>\n",
       "</table>\n"
      ],
      "text/latex": [
       "\\begin{tabular}{r|lll}\n",
       "  & amt & pct & tot\\_exp\\\\\n",
       "\\hline\n",
       "\tisofox\\_FTH1 & 3354.188    & 0.003354188 & 0.003354188\\\\\n",
       "\tisofox\\_ACTB & 3071.009    & 0.003071009 & 0.006425197\\\\\n",
       "\tisofox\\_EEF1A1 & 2983.380    & 0.002983380 & 0.009408578\\\\\n",
       "\tisofox\\_FTL & 2932.656    & 0.002932656 & 0.012341234\\\\\n",
       "\tisofox\\_B2M & 2832.041    & 0.002832041 & 0.015173275\\\\\n",
       "\\end{tabular}\n"
      ],
      "text/markdown": [
       "\n",
       "| <!--/--> | amt | pct | tot_exp |\n",
       "|---|---|---|---|\n",
       "| isofox_FTH1 | 3354.188    | 0.003354188 | 0.003354188 |\n",
       "| isofox_ACTB | 3071.009    | 0.003071009 | 0.006425197 |\n",
       "| isofox_EEF1A1 | 2983.380    | 0.002983380 | 0.009408578 |\n",
       "| isofox_FTL | 2932.656    | 0.002932656 | 0.012341234 |\n",
       "| isofox_B2M | 2832.041    | 0.002832041 | 0.015173275 |\n",
       "\n"
      ],
      "text/plain": [
       "              amt      pct         tot_exp    \n",
       "isofox_FTH1   3354.188 0.003354188 0.003354188\n",
       "isofox_ACTB   3071.009 0.003071009 0.006425197\n",
       "isofox_EEF1A1 2983.380 0.002983380 0.009408578\n",
       "isofox_FTL    2932.656 0.002932656 0.012341234\n",
       "isofox_B2M    2832.041 0.002832041 0.015173275"
      ]
     },
     "metadata": {},
     "output_type": "display_data"
    }
   ],
   "source": [
    "missing_checks[1:5,]; present_checks[1:5,]"
   ]
  },
  {
   "cell_type": "code",
   "execution_count": 57,
   "id": "f6b26e16",
   "metadata": {},
   "outputs": [
    {
     "data": {
      "text/html": [
       "<table>\n",
       "<thead><tr><th></th><th scope=col>amt</th><th scope=col>pct</th><th scope=col>tot_exp</th></tr></thead>\n",
       "<tbody>\n",
       "\t<tr><th scope=row>isofox_CXCL9</th><td>5.595663    </td><td>5.595663e-06</td><td>0.1312679   </td></tr>\n",
       "</tbody>\n",
       "</table>\n"
      ],
      "text/latex": [
       "\\begin{tabular}{r|lll}\n",
       "  & amt & pct & tot\\_exp\\\\\n",
       "\\hline\n",
       "\tisofox\\_CXCL9 & 5.595663     & 5.595663e-06 & 0.1312679   \\\\\n",
       "\\end{tabular}\n"
      ],
      "text/markdown": [
       "\n",
       "| <!--/--> | amt | pct | tot_exp |\n",
       "|---|---|---|---|\n",
       "| isofox_CXCL9 | 5.595663     | 5.595663e-06 | 0.1312679    |\n",
       "\n"
      ],
      "text/plain": [
       "             amt      pct          tot_exp  \n",
       "isofox_CXCL9 5.595663 5.595663e-06 0.1312679"
      ]
     },
     "metadata": {},
     "output_type": "display_data"
    }
   ],
   "source": [
    "present_checks[which(rownames(present_checks) == \"isofox_CXCL9\"),]"
   ]
  },
  {
   "cell_type": "code",
   "execution_count": 21,
   "id": "7f2ff71e",
   "metadata": {},
   "outputs": [],
   "source": [
    "combined <- (\n",
    "    a_sum \n",
    "        %>% inner_join( b_sum, by = \"sample\") \n",
    "        %>% inner_join( c_sum, by = \"sample\")\n",
    "        %>% inner_join( d_sum, by = \"sample\")\n",
    ")"
   ]
  },
  {
   "cell_type": "code",
   "execution_count": 23,
   "id": "333531e6",
   "metadata": {},
   "outputs": [
    {
     "data": {
      "text/plain": [
       "              sample         sums_a           sums_b            sums_c      \n",
       " CPCT02010255TII :   1   Min.   :  2477   Min.   : 999865   Min.   :383407  \n",
       " CPCT02010256TII :   1   1st Qu.:112354   1st Qu.: 999967   1st Qu.:635468  \n",
       " CPCT02010267TII :   1   Median :151793   Median :1000001   Median :681325  \n",
       " CPCT02010267TIII:   1   Mean   :152565   Mean   :1000001   Mean   :676155  \n",
       " CPCT02010291TII :   1   3rd Qu.:191955   3rd Qu.:1000033   3rd Qu.:720494  \n",
       " CPCT02010292TII :   1   Max.   :458894   Max.   :1000163   Max.   :970622  \n",
       " (Other)         :2242                                                      \n",
       "     sums_d         \n",
       " Min.   :  1623178  \n",
       " 1st Qu.:  3620647  \n",
       " Median :  4514778  \n",
       " Mean   :  5695457  \n",
       " 3rd Qu.:  5908144  \n",
       " Max.   :154804555  \n",
       "                    "
      ]
     },
     "metadata": {},
     "output_type": "display_data"
    }
   ],
   "source": [
    "summary(combined)"
   ]
  }
 ],
 "metadata": {
  "kernelspec": {
   "display_name": "R",
   "language": "R",
   "name": "ir"
  },
  "language_info": {
   "codemirror_mode": "r",
   "file_extension": ".r",
   "mimetype": "text/x-r-source",
   "name": "R",
   "pygments_lexer": "r",
   "version": "3.6.1"
  }
 },
 "nbformat": 4,
 "nbformat_minor": 5
}
