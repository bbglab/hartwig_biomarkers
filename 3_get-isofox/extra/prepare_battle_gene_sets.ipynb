{
 "cells": [
  {
   "cell_type": "code",
   "execution_count": 2,
   "id": "1f8353f8",
   "metadata": {},
   "outputs": [],
   "source": [
    "wd <- dirname(getwd())\n",
    "source(paste0(wd,\"/mission_control/treasure_map.R\"))\n",
    "#source(paste0(wd,\"/mission_control/isofox_help.R\"))\n",
    "\n",
    "library(dplyr)\n",
    "library(tidyverse)\n",
    "library(data.table)\n",
    "\n",
    "#args <- commandArgs(trailing = TRUE) ## \"RawTPM\" or \"AdjTPM\" #\n",
    "args <- list(\"AdjTPM\")"
   ]
  },
  {
   "cell_type": "markdown",
   "id": "61083326",
   "metadata": {},
   "source": [
    "### Read in Hartwig Genes"
   ]
  },
  {
   "cell_type": "code",
   "execution_count": 6,
   "id": "25665754",
   "metadata": {},
   "outputs": [],
   "source": [
    "isofox <- fread(paste0( TMP_DIR,\"isofox_\",args[1],\"_features.csv\"))\n",
    "isofox_genes <- unlist(lapply(colnames(isofox)[-1], function(i) strsplit(i, \"_\")[[1]][2]))"
   ]
  },
  {
   "cell_type": "markdown",
   "id": "dd9f4120",
   "metadata": {},
   "source": [
    "### Read in TGFB sets and explore"
   ]
  },
  {
   "cell_type": "code",
   "execution_count": 7,
   "id": "8b86baad",
   "metadata": {},
   "outputs": [],
   "source": [
    "tgfb_sets <- read.csv(paste0(REF_DIR, \"battle_tgfb_sets.csv\"), sep = \";\", stringsAsFactors = FALSE)\n",
    "tgfb_sets <- lapply(tgfb_sets, toupper)"
   ]
  },
  {
   "cell_type": "code",
   "execution_count": 8,
   "id": "cf31b868",
   "metadata": {},
   "outputs": [],
   "source": [
    "battle_all <- unique(unlist(tgfb_sets))"
   ]
  },
  {
   "cell_type": "code",
   "execution_count": 9,
   "id": "bf9b8062",
   "metadata": {},
   "outputs": [],
   "source": [
    "missing <- battle_all[-which(battle_all %in% isofox_genes)]"
   ]
  },
  {
   "cell_type": "code",
   "execution_count": 12,
   "id": "6b490978",
   "metadata": {},
   "outputs": [],
   "source": [
    "missing_map <- list(\n",
    "    'ANK' = 'ANK1',\n",
    "    'SAA3' = NULL,\n",
    "    'C1S1' = 'C1S',\n",
    "    'LY6A' = NULL,\n",
    "    'AES' = 'TLE5',\n",
    "    'IFI27L2A' = 'IFI27L2',\n",
    "    'AY036118' = NULL, \n",
    "    'GM156' = NULL, \n",
    "    'GM30054' = NULL,\n",
    "    'GM42418' = NULL, \n",
    "    'GM47015' = NULL, \n",
    "    'LY6C2' = NULL, \n",
    "    'MS4A4B' = NULL,\n",
    "    'MS4A6B' = NULL\n",
    ")"
   ]
  },
  {
   "cell_type": "code",
   "execution_count": 13,
   "id": "d398d35e",
   "metadata": {},
   "outputs": [],
   "source": [
    "clean_list <- function( ll ){\n",
    "    clean_list <- c()\n",
    "    for( i in ll ){\n",
    "        if(i != \"\"){\n",
    "            if( i %in% names(missing_map) ){ \n",
    "                i <- missing_map[[i]] \n",
    "            }\n",
    "            clean_list <- c(clean_list,i)\n",
    "        }\n",
    "    }\n",
    "    clean_list\n",
    "}\n",
    "tidy_battle <- list()\n",
    "for( i in names(tgfb_sets)){\n",
    "    tidy_battle[[i]] <- clean_list(tgfb_sets[[i]])\n",
    "}"
   ]
  },
  {
   "cell_type": "code",
   "execution_count": 15,
   "id": "c4a21e36",
   "metadata": {},
   "outputs": [],
   "source": [
    "saveRDS(tidy_battle, paste0( REF_DIR,\"battle_gene_set.Rds\"))"
   ]
  },
  {
   "cell_type": "markdown",
   "id": "c4ccf891",
   "metadata": {},
   "source": [
    "##### Create gene set ref"
   ]
  },
  {
   "cell_type": "code",
   "execution_count": 31,
   "id": "d102bbf1",
   "metadata": {},
   "outputs": [],
   "source": [
    "gene_map <- list()\n",
    "for( i in names(gene_sets)){\n",
    "    gene_map[[i]] <- surgeon(i)\n",
    "    for (j in gene_sets[[i]]){\n",
    "        nice_name <- surgeon(j)\n",
    "        if( length(gene_map[[j]]) == 0){\n",
    "            gene_map[[j]] <- surgeon(i)\n",
    "        }\n",
    "    }\n",
    "}\n",
    "gene_map <- data.frame( gene_set_typ = t(data.frame(gene_map))); \n",
    "gene_map$feature <- rownames(gene_map); \n",
    "gene_map <- gene_map %>% relocate(feature)\n",
    "rownames(gene_map) <- NULL"
   ]
  },
  {
   "cell_type": "code",
   "execution_count": 32,
   "id": "4cc1cef6",
   "metadata": {},
   "outputs": [],
   "source": [
    "saveRDS(gene_map, paste0(REF_DIR,\"gene_set_map.Rds\"))"
   ]
  },
  {
   "cell_type": "markdown",
   "id": "b77a06ab",
   "metadata": {},
   "source": [
    "#### 3 - Format for Univariate Scan"
   ]
  },
  {
   "cell_type": "code",
   "execution_count": 33,
   "id": "6b9fce61",
   "metadata": {},
   "outputs": [],
   "source": [
    "happy_isofox <- isofox2 %>% left_join(gene_sets_final, by = \"sampleId\")\n",
    "rownames(happy_isofox) <- NULL"
   ]
  },
  {
   "cell_type": "markdown",
   "id": "a5d2580d",
   "metadata": {},
   "source": [
    "#### 4 - Save for scan analyses"
   ]
  },
  {
   "cell_type": "code",
   "execution_count": 33,
   "id": "2a7cbad4",
   "metadata": {},
   "outputs": [],
   "source": [
    "fwrite( happy_isofox, file= paste0( TMP_DIR, \"isofox_\", args[1], \"_ready.csv\") )"
   ]
  }
 ],
 "metadata": {
  "kernelspec": {
   "display_name": "R",
   "language": "R",
   "name": "ir"
  },
  "language_info": {
   "codemirror_mode": "r",
   "file_extension": ".r",
   "mimetype": "text/x-r-source",
   "name": "R",
   "pygments_lexer": "r",
   "version": "3.6.1"
  }
 },
 "nbformat": 4,
 "nbformat_minor": 5
}
