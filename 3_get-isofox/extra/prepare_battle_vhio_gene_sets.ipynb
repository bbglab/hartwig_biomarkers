{
 "cells": [
  {
   "cell_type": "code",
   "execution_count": 2,
   "id": "1f8353f8",
   "metadata": {},
   "outputs": [],
   "source": [
    "wd <- dirname(getwd())\n",
    "source(paste0(wd,\"/mission_control/treasure_map.R\"))\n",
    "#source(paste0(wd,\"/mission_control/isofox_help.R\"))\n",
    "\n",
    "library(dplyr)\n",
    "library(tidyverse)\n",
    "library(data.table)\n",
    "\n",
    "#args <- commandArgs(trailing = TRUE) ## \"RawTPM\" or \"AdjTPM\" #\n",
    "args <- list(\"AdjTPM\")"
   ]
  },
  {
   "cell_type": "markdown",
   "id": "61083326",
   "metadata": {},
   "source": [
    "### Read in Hartwig Genes"
   ]
  },
  {
   "cell_type": "code",
   "execution_count": 3,
   "id": "25665754",
   "metadata": {},
   "outputs": [],
   "source": [
    "isofox <- fread(paste0( TMP_DIR,\"isofox_\",args[1],\"_features.csv\"))\n",
    "isofox_genes <- unlist(lapply(colnames(isofox)[-1], function(i) strsplit(i, \"_\")[[1]][2]))"
   ]
  },
  {
   "cell_type": "markdown",
   "id": "dd9f4120",
   "metadata": {},
   "source": [
    "### Read in TGFB sets and explore"
   ]
  },
  {
   "cell_type": "code",
   "execution_count": 4,
   "id": "8b86baad",
   "metadata": {},
   "outputs": [],
   "source": [
    "tgfb_sets <- read.csv(paste0(REF_DIR, \"battle_tgfb_sets.csv\"), sep = \";\", stringsAsFactors = FALSE)\n",
    "tgfb_sets <- lapply(tgfb_sets, toupper)"
   ]
  },
  {
   "cell_type": "code",
   "execution_count": 5,
   "id": "cf31b868",
   "metadata": {},
   "outputs": [],
   "source": [
    "battle_all <- unique(unlist(tgfb_sets))"
   ]
  },
  {
   "cell_type": "code",
   "execution_count": 6,
   "id": "bf9b8062",
   "metadata": {},
   "outputs": [],
   "source": [
    "missing <- battle_all[-which(battle_all %in% isofox_genes)]"
   ]
  },
  {
   "cell_type": "code",
   "execution_count": 7,
   "id": "6b490978",
   "metadata": {},
   "outputs": [],
   "source": [
    "missing_map <- list(\n",
    "    'ANK' = 'ANK1',\n",
    "    'SAA3' = NULL,\n",
    "    'C1S1' = 'C1S',\n",
    "    'LY6A' = NULL,\n",
    "    'AES' = 'TLE5',\n",
    "    'IFI27L2A' = 'IFI27L2',\n",
    "    'AY036118' = NULL, \n",
    "    'GM156' = NULL, \n",
    "    'GM30054' = NULL,\n",
    "    'GM42418' = NULL, \n",
    "    'GM47015' = NULL, \n",
    "    'LY6C2' = NULL, \n",
    "    'MS4A4B' = NULL,\n",
    "    'MS4A6B' = NULL\n",
    ")"
   ]
  },
  {
   "cell_type": "code",
   "execution_count": 8,
   "id": "d398d35e",
   "metadata": {},
   "outputs": [],
   "source": [
    "clean_list <- function( ll ){\n",
    "    clean_list <- c()\n",
    "    for( i in ll ){\n",
    "        if(i != \"\"){\n",
    "            if( i %in% names(missing_map) ){ \n",
    "                i <- missing_map[[i]] \n",
    "            }\n",
    "            clean_list <- c(clean_list,i)\n",
    "        }\n",
    "    }\n",
    "    clean_list\n",
    "}\n",
    "tidy_battle <- list()\n",
    "for( i in names(tgfb_sets)){\n",
    "    tidy_battle[[i]] <- clean_list(tgfb_sets[[i]])\n",
    "}"
   ]
  },
  {
   "cell_type": "code",
   "execution_count": 9,
   "id": "c4a21e36",
   "metadata": {},
   "outputs": [],
   "source": [
    "saveRDS(tidy_battle, paste0( REF_DIR,\"battle_gene_set.Rds\"))"
   ]
  },
  {
   "cell_type": "markdown",
   "id": "462c3ee2",
   "metadata": {},
   "source": [
    "### VHIO Gene Sets"
   ]
  },
  {
   "cell_type": "code",
   "execution_count": 11,
   "id": "48f4d8b0",
   "metadata": {},
   "outputs": [],
   "source": [
    "vhio_sets <- list(\n",
    "    \"tgfb\" = c(\"HEYL\", \"NOTCH3\", \"TGFb3\", \"TGFb1\", \"NOTCH4\", \"DLL4\", \"SERPINE1\"),\n",
    "    \"prolif\" = c(\"BRCA1\", \"BRCA2\", \"TUBB\"),\n",
    "    \"tcell\" = c(\"CXCL9\", \"CXCL10\", \"CXCL11\", \"IFNg\",  \"GZMA\", \"GZMB\")\n",
    ") \n",
    "vhio_sets <- lapply(vhio_sets, toupper)"
   ]
  },
  {
   "cell_type": "code",
   "execution_count": 12,
   "id": "e0a77db3",
   "metadata": {},
   "outputs": [
    {
     "data": {
      "text/html": [
       "<dl>\n",
       "\t<dt>$tgfb</dt>\n",
       "\t\t<dd><ol class=list-inline>\n",
       "\t<li>'HEYL'</li>\n",
       "\t<li>'NOTCH3'</li>\n",
       "\t<li>'TGFB3'</li>\n",
       "\t<li>'TGFB1'</li>\n",
       "\t<li>'NOTCH4'</li>\n",
       "\t<li>'DLL4'</li>\n",
       "\t<li>'SERPINE1'</li>\n",
       "</ol>\n",
       "</dd>\n",
       "\t<dt>$prolif</dt>\n",
       "\t\t<dd><ol class=list-inline>\n",
       "\t<li>'BRCA1'</li>\n",
       "\t<li>'BRCA2'</li>\n",
       "\t<li>'TUBB'</li>\n",
       "</ol>\n",
       "</dd>\n",
       "\t<dt>$tcell</dt>\n",
       "\t\t<dd><ol class=list-inline>\n",
       "\t<li>'CXCL9'</li>\n",
       "\t<li>'CXCL10'</li>\n",
       "\t<li>'CXCL11'</li>\n",
       "\t<li>'IFNG'</li>\n",
       "\t<li>'GZMA'</li>\n",
       "\t<li>'GZMB'</li>\n",
       "</ol>\n",
       "</dd>\n",
       "</dl>\n"
      ],
      "text/latex": [
       "\\begin{description}\n",
       "\\item[\\$tgfb] \\begin{enumerate*}\n",
       "\\item 'HEYL'\n",
       "\\item 'NOTCH3'\n",
       "\\item 'TGFB3'\n",
       "\\item 'TGFB1'\n",
       "\\item 'NOTCH4'\n",
       "\\item 'DLL4'\n",
       "\\item 'SERPINE1'\n",
       "\\end{enumerate*}\n",
       "\n",
       "\\item[\\$prolif] \\begin{enumerate*}\n",
       "\\item 'BRCA1'\n",
       "\\item 'BRCA2'\n",
       "\\item 'TUBB'\n",
       "\\end{enumerate*}\n",
       "\n",
       "\\item[\\$tcell] \\begin{enumerate*}\n",
       "\\item 'CXCL9'\n",
       "\\item 'CXCL10'\n",
       "\\item 'CXCL11'\n",
       "\\item 'IFNG'\n",
       "\\item 'GZMA'\n",
       "\\item 'GZMB'\n",
       "\\end{enumerate*}\n",
       "\n",
       "\\end{description}\n"
      ],
      "text/markdown": [
       "$tgfb\n",
       ":   1. 'HEYL'\n",
       "2. 'NOTCH3'\n",
       "3. 'TGFB3'\n",
       "4. 'TGFB1'\n",
       "5. 'NOTCH4'\n",
       "6. 'DLL4'\n",
       "7. 'SERPINE1'\n",
       "\n",
       "\n",
       "\n",
       "$prolif\n",
       ":   1. 'BRCA1'\n",
       "2. 'BRCA2'\n",
       "3. 'TUBB'\n",
       "\n",
       "\n",
       "\n",
       "$tcell\n",
       ":   1. 'CXCL9'\n",
       "2. 'CXCL10'\n",
       "3. 'CXCL11'\n",
       "4. 'IFNG'\n",
       "5. 'GZMA'\n",
       "6. 'GZMB'\n",
       "\n",
       "\n",
       "\n",
       "\n",
       "\n"
      ],
      "text/plain": [
       "$tgfb\n",
       "[1] \"HEYL\"     \"NOTCH3\"   \"TGFB3\"    \"TGFB1\"    \"NOTCH4\"   \"DLL4\"     \"SERPINE1\"\n",
       "\n",
       "$prolif\n",
       "[1] \"BRCA1\" \"BRCA2\" \"TUBB\" \n",
       "\n",
       "$tcell\n",
       "[1] \"CXCL9\"  \"CXCL10\" \"CXCL11\" \"IFNG\"   \"GZMA\"   \"GZMB\"  \n"
      ]
     },
     "metadata": {},
     "output_type": "display_data"
    }
   ],
   "source": [
    "vhio_sets"
   ]
  }
 ],
 "metadata": {
  "kernelspec": {
   "display_name": "R",
   "language": "R",
   "name": "ir"
  },
  "language_info": {
   "codemirror_mode": "r",
   "file_extension": ".r",
   "mimetype": "text/x-r-source",
   "name": "R",
   "pygments_lexer": "r",
   "version": "3.6.1"
  }
 },
 "nbformat": 4,
 "nbformat_minor": 5
}
