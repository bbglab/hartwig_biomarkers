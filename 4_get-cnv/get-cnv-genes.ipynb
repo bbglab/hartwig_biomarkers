{
 "cells": [
  {
   "cell_type": "code",
   "execution_count": 1,
   "id": "95848491",
   "metadata": {},
   "outputs": [],
   "source": [
    "import sys\n",
    "import os\n",
    "\n",
    "sys.path.insert(0, f'{os.path.dirname(os.getcwd())}/')\n",
    "\n",
    "from mission_control.treasure_map import FPS_DIR, TMP_DIR\n",
    "from mission_control.cnv_help import get_cnv_gene_features\n",
    "\n",
    "import os\n",
    "import pandas as pd \n",
    "import pickle\n",
    "import statistics\n",
    "import warnings\n",
    "from multiprocessing import Pool\n",
    "warnings.filterwarnings('ignore')"
   ]
  },
  {
   "cell_type": "markdown",
   "id": "0219956a",
   "metadata": {},
   "source": [
    "#### 0 - Get file paths "
   ]
  },
  {
   "cell_type": "code",
   "execution_count": 2,
   "id": "8c0b666e",
   "metadata": {},
   "outputs": [],
   "source": [
    "with open( FPS_DIR + \"cnv_gene_files.txt\", \"rb\") as fp:\n",
    "    cnv_gene_files = pickle.load(fp)"
   ]
  },
  {
   "cell_type": "markdown",
   "id": "2e0027d6",
   "metadata": {},
   "source": [
    "#### 1 - Run it"
   ]
  },
  {
   "cell_type": "code",
   "execution_count": null,
   "id": "c387c992",
   "metadata": {},
   "outputs": [],
   "source": [
    "def cnv_gene_file_task(i_file: str):\n",
    "    if os.path.isfile(i_file):\n",
    "        print(i_file)\n",
    "        return get_cnv_gene_features(i_file)\n",
    "    else:\n",
    "        print(\"Missing! \" + i_file)"
   ]
  },
  {
   "cell_type": "code",
   "execution_count": null,
   "id": "da0a0597",
   "metadata": {},
   "outputs": [],
   "source": [
    "p = Pool()\n",
    "features = p.map(cnv_gene_file_task, cnv_gene_files)\n",
    "p.close()\n",
    "p.join()"
   ]
  },
  {
   "cell_type": "markdown",
   "id": "54a0438f",
   "metadata": {},
   "source": [
    "#### 2 - Output"
   ]
  },
  {
   "cell_type": "code",
   "execution_count": 4,
   "id": "18830cdc",
   "metadata": {},
   "outputs": [],
   "source": [
    "pd.DataFrame(features).to_csv( TMP_DIR + 'cnv_gene_ready.csv', index = False) "
   ]
  }
 ],
 "metadata": {
  "kernelspec": {
   "display_name": "Python 3",
   "language": "python",
   "name": "python3"
  },
  "language_info": {
   "codemirror_mode": {
    "name": "ipython",
    "version": 3
   },
   "file_extension": ".py",
   "mimetype": "text/x-python",
   "name": "python",
   "nbconvert_exporter": "python",
   "pygments_lexer": "ipython3",
   "version": "3.8.8"
  }
 },
 "nbformat": 4,
 "nbformat_minor": 5
}
