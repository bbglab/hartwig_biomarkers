{
 "cells": [
  {
   "cell_type": "code",
   "execution_count": 1,
   "id": "95848491",
   "metadata": {},
   "outputs": [],
   "source": [
    "import sys\n",
    "import os\n",
    "\n",
    "sys.path.insert(0, f'{os.path.dirname(os.getcwd())}/')\n",
    "\n",
    "from mission_control.treasure_map import FPS_DIR, TMP_DIR\n",
    "from mission_control.cnv_help import get_scna\n",
    "\n",
    "import os\n",
    "import pandas as pd \n",
    "import pickle\n",
    "import warnings\n",
    "warnings.filterwarnings('ignore')"
   ]
  },
  {
   "cell_type": "markdown",
   "id": "f5fc7e2a",
   "metadata": {},
   "source": [
    "#### 0 - Get file paths "
   ]
  },
  {
   "cell_type": "code",
   "execution_count": 2,
   "id": "8c0b666e",
   "metadata": {},
   "outputs": [],
   "source": [
    "with open( FPS_DIR + \"cnv_files.txt\", \"rb\") as fp:\n",
    "    cnv_files = pickle.load(fp)  "
   ]
  },
  {
   "cell_type": "markdown",
   "id": "255756d0",
   "metadata": {},
   "source": [
    "#### 1 - Run it"
   ]
  },
  {
   "cell_type": "code",
   "execution_count": 5,
   "id": "173f7cdf",
   "metadata": {},
   "outputs": [
    {
     "name": "stdout",
     "output_type": "stream",
     "text": [
      "Get SCNA: CPCT02120024T\n",
      "Get SCNA: CPCT02100021T\n"
     ]
    }
   ],
   "source": [
    "features = []\n",
    "for i_file in cnv_files:\n",
    "    if os.path.isfile(i_file):\n",
    "        features.append(get_scna(i_file))\n",
    "    else:\n",
    "        print(\"Missing path! \" + i_file)"
   ]
  },
  {
   "cell_type": "markdown",
   "id": "c941969b",
   "metadata": {},
   "source": [
    "#### 2 - Output"
   ]
  },
  {
   "cell_type": "code",
   "execution_count": 4,
   "id": "18830cdc",
   "metadata": {},
   "outputs": [],
   "source": [
    "pd.DataFrame(features).to_csv( TMP_DIR + 'cnv_ready.csv', index = False) "
   ]
  }
 ],
 "metadata": {
  "kernelspec": {
   "display_name": "Python 3",
   "language": "python",
   "name": "python3"
  },
  "language_info": {
   "codemirror_mode": {
    "name": "ipython",
    "version": 3
   },
   "file_extension": ".py",
   "mimetype": "text/x-python",
   "name": "python",
   "nbconvert_exporter": "python",
   "pygments_lexer": "ipython3",
   "version": "3.8.8"
  }
 },
 "nbformat": 4,
 "nbformat_minor": 5
}
