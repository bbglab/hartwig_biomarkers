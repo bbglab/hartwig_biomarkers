{
 "cells": [
  {
   "cell_type": "markdown",
   "id": "0",
   "metadata": {},
   "source": [
    "### Use pre-computed HLAs to get HLA features"
   ]
  },
  {
   "cell_type": "code",
   "execution_count": null,
   "id": "1",
   "metadata": {},
   "outputs": [],
   "source": [
    "import sys\n",
    "import os\n",
    "\n",
    "sys.path.insert(0, f'{os.path.dirname(os.getcwd())}/')\n",
    "\n",
    "from mission_control.treasure_map import TMP_DIR, REF_DIR, HLAS_DIR\n",
    "from mission_control.hla_help import *\n",
    "\n",
    "import pandas as pd\n",
    "import json\n",
    "import numpy as np\n",
    "import math\n",
    "import pickle"
   ]
  },
  {
   "cell_type": "markdown",
   "id": "2",
   "metadata": {},
   "source": [
    "### 0 - Read in reference files"
   ]
  },
  {
   "cell_type": "code",
   "execution_count": null,
   "id": "3",
   "metadata": {},
   "outputs": [],
   "source": [
    "hla_supertypes = pd.read_csv( REF_DIR + \"hla_supertypes.txt\", sep = \"\\t\")\n",
    "supertype_dict = {hla_supertypes['hla'].tolist()[i]: \n",
    "                  hla_supertypes['supertype'].tolist()[i] \n",
    "                  for i in range(hla_supertypes.shape[0])}"
   ]
  },
  {
   "cell_type": "markdown",
   "id": "4",
   "metadata": {},
   "source": [
    "### 1 -  Extract HLAs for each Sample"
   ]
  },
  {
   "cell_type": "code",
   "execution_count": null,
   "id": "5",
   "metadata": {},
   "outputs": [],
   "source": [
    "with open( REF_DIR + \"hla_map.pkl\", \"rb\") as f:\n",
    "    hla_map = pickle.load(f)  "
   ]
  },
  {
   "cell_type": "markdown",
   "id": "6",
   "metadata": {},
   "source": [
    "### 2 - Add Features, supertypes"
   ]
  },
  {
   "cell_type": "code",
   "execution_count": null,
   "id": "7",
   "metadata": {},
   "outputs": [],
   "source": [
    "for sample in hla_map:\n",
    "    normal = hla_map[sample]['normal']\n",
    "    tumor = hla_map[sample]['tumor']\n",
    "    hla_map[sample]['normal_supertype'] = [get_HLA_supertype(i, supertype_dict) for i in normal]\n",
    "    hla_map[sample]['tumor_supertype'] = [get_HLA_supertype(i, supertype_dict) for i in tumor]\n",
    "    for j in supertypes:\n",
    "        hla_map[sample]['normal_contains_' + j] = binary(sum([1 if i == j else 0 for i in hla_map[sample]['normal_supertype']]))\n",
    "        hla_map[sample]['tumor_contains_' + j] = binary(sum([1 if i == j else 0 for i in hla_map[sample]['tumor_supertype']]))"
   ]
  },
  {
   "cell_type": "markdown",
   "id": "8",
   "metadata": {},
   "source": [
    "### 3 - Add features, heterozygosity"
   ]
  },
  {
   "cell_type": "code",
   "execution_count": null,
   "id": "9",
   "metadata": {},
   "outputs": [],
   "source": [
    "for sample in hla_map:\n",
    "    hla_map[sample]['normal_hla1_het'] = heterozygosity(hla_map[sample]['normal'], loci_hla_1)\n",
    "    hla_map[sample]['tumor_hla1_het'] = heterozygosity(hla_map[sample]['tumor'], loci_hla_1)\n",
    "    hla_map[sample]['normal_all_het'] = heterozygosity(hla_map[sample]['normal'], loci_all)\n",
    "    hla_map[sample]['tumor_all_het'] = heterozygosity(hla_map[sample]['tumor'], loci_all)\n",
    "    hla_map[sample]['loh_hla1'] = hla_map[sample]['normal_hla1_het'] - hla_map[sample]['tumor_hla1_het']\n",
    "    hla_map[sample]['loh_all'] = hla_map[sample]['normal_all_het'] - hla_map[sample]['tumor_all_het']"
   ]
  },
  {
   "cell_type": "code",
   "execution_count": null,
   "id": "10",
   "metadata": {},
   "outputs": [],
   "source": [
    "with open( REF_DIR + \"hla_map_processed.pkl\", \"wb\") as fp:  \n",
    "    pickle.dump(hla_map, fp)"
   ]
  },
  {
   "cell_type": "markdown",
   "id": "11",
   "metadata": {},
   "source": [
    "### 4 - Send it! "
   ]
  },
  {
   "cell_type": "code",
   "execution_count": null,
   "id": "12",
   "metadata": {},
   "outputs": [],
   "source": [
    "hlas_df = pd.DataFrame(None)\n",
    "for sample in hla_map:\n",
    "    hlas_df = hlas_df.append(format_fun(sample, hla_map))\n",
    "hlas_df.to_csv( TMP_DIR + \"hla_ready.csv\", index=False)        "
   ]
  }
 ],
 "metadata": {
  "kernelspec": {
   "display_name": "Python 3",
   "language": "python",
   "name": "python3"
  },
  "language_info": {
   "codemirror_mode": {
    "name": "ipython",
    "version": 3
   },
   "file_extension": ".py",
   "mimetype": "text/x-python",
   "name": "python",
   "nbconvert_exporter": "python",
   "pygments_lexer": "ipython3",
   "version": "3.8.8"
  }
 },
 "nbformat": 4,
 "nbformat_minor": 5
}
