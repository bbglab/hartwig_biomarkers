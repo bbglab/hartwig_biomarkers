{
 "cells": [
  {
   "cell_type": "code",
   "execution_count": null,
   "id": "0",
   "metadata": {},
   "outputs": [],
   "source": [
    "wd <- dirname(getwd())\n",
    "source(paste0(wd,\"/mission_control/treasure_map.R\"))\n",
    "\n",
    "library(dplyr)"
   ]
  },
  {
   "cell_type": "markdown",
   "id": "1",
   "metadata": {},
   "source": [
    "### 0 - Read it"
   ]
  },
  {
   "cell_type": "code",
   "execution_count": null,
   "id": "2",
   "metadata": {},
   "outputs": [],
   "source": [
    "lilac <- read.csv(paste0(REF_DIR, \"lilac_from_fran.csv\"), sep = \";\",stringsAsFactors = FALSE)\n",
    "aneuploidy <- read.csv(paste0(REF_DIR, \"aneuploidy_scores_from_fran.csv\"), sep = \";\",stringsAsFactors = FALSE)"
   ]
  },
  {
   "cell_type": "markdown",
   "id": "3",
   "metadata": {},
   "source": [
    "### 1 - Run it "
   ]
  },
  {
   "cell_type": "code",
   "execution_count": null,
   "id": "4",
   "metadata": {},
   "outputs": [],
   "source": [
    "lilac <-\n",
    "lilac %>% \n",
    "  left_join( (aneuploidy %>% rename(sample_id = \"ID_meta_hmfSampleId\")), by = \"sample_id\") %>% \n",
    "  rename_with( ~ paste0(\"lilac_\", .x)) %>% \n",
    "  mutate(ID_meta_hmfSampleId = lilac_sample_id) %>% \n",
    "  transmute(ID_meta_hmfSampleId,\n",
    "            lilac_imbalance = lilac_imbalance_lilac,\n",
    "            lilac_germline_alleles = lilac_n_germline_alleles, \n",
    "            lilac_mut_hla = lilac_mut_HLA,\n",
    "            lilac_del_hla = lilac_LOH_DEL_HLA,\n",
    "            lilac_targeted_escape = lilac_targeted_escape..HLA., \n",
    "            lilac_non_targeted_escape = lilac_non_targeted_escape..no.HLA., \n",
    "            lilac_genetic_immune_escape = lilac_genetic_immune_escape..GIE.,\n",
    "            lilac_aneuploidy_score)"
   ]
  },
  {
   "cell_type": "code",
   "execution_count": null,
   "id": "5",
   "metadata": {},
   "outputs": [],
   "source": [
    "cols <- sapply(lilac, is.logical)\n",
    "lilac[,cols] <- lapply(lilac[,cols], as.numeric)\n",
    "lilac <- lilac %>% rename_at(vars(-ID_meta_hmfSampleId), function(x){paste0(\"hla_\", x)})"
   ]
  },
  {
   "cell_type": "markdown",
   "id": "6",
   "metadata": {},
   "source": [
    "### 2 - Output "
   ]
  },
  {
   "cell_type": "code",
   "execution_count": null,
   "id": "7",
   "metadata": {},
   "outputs": [],
   "source": [
    "write.csv(lilac, paste0(TMP_DIR, \"lilac_ready.csv\"),row.names=FALSE)"
   ]
  }
 ],
 "metadata": {
  "kernelspec": {
   "display_name": "R",
   "language": "R",
   "name": "ir"
  },
  "language_info": {
   "codemirror_mode": "r",
   "file_extension": ".r",
   "mimetype": "text/x-r-source",
   "name": "R",
   "pygments_lexer": "r",
   "version": "3.6.1"
  }
 },
 "nbformat": 4,
 "nbformat_minor": 5
}
