{
 "cells": [
  {
   "cell_type": "code",
   "execution_count": 1,
   "id": "29833190",
   "metadata": {},
   "outputs": [
    {
     "name": "stderr",
     "output_type": "stream",
     "text": [
      "Warning message:\n",
      "“package ‘dplyr’ was built under R version 3.6.3”\n",
      "Attaching package: ‘dplyr’\n",
      "\n",
      "The following objects are masked from ‘package:stats’:\n",
      "\n",
      "    filter, lag\n",
      "\n",
      "The following objects are masked from ‘package:base’:\n",
      "\n",
      "    intersect, setdiff, setequal, union\n",
      "\n"
     ]
    }
   ],
   "source": [
    "wd <- dirname(getwd())\n",
    "source(paste0(wd,\"/mission_control/treasure_map.R\"))\n",
    "\n",
    "library(dplyr)"
   ]
  },
  {
   "cell_type": "markdown",
   "id": "e94c8ade",
   "metadata": {},
   "source": [
    "#### 0 - Read it"
   ]
  },
  {
   "cell_type": "code",
   "execution_count": 2,
   "id": "d19f0183",
   "metadata": {},
   "outputs": [],
   "source": [
    "i <- read.csv(paste0(REF_DIR, \"lilac_from_fran.csv\"), sep = \";\",stringsAsFactors = FALSE)\n",
    "j <- read.csv(paste0(REF_DIR, \"aneuploidy_scores_from_fran.csv\"), sep = \";\",stringsAsFactors = FALSE)"
   ]
  },
  {
   "cell_type": "code",
   "execution_count": 3,
   "id": "18e74ace",
   "metadata": {},
   "outputs": [],
   "source": [
    "k <- i %>% left_join( (j %>% rename(sample_id = \"ID_meta_hmfSampleId\")), by = \"sample_id\")"
   ]
  },
  {
   "cell_type": "markdown",
   "id": "a37afda3",
   "metadata": {},
   "source": [
    "#### 1 - Run it "
   ]
  },
  {
   "cell_type": "code",
   "execution_count": 4,
   "id": "bd460d7c",
   "metadata": {},
   "outputs": [],
   "source": [
    "lilac <- (k\n",
    "             %>% rename_with( ~ paste0(\"lilac_\", .x))  \n",
    "             %>% mutate(ID_meta_hmfSampleId = lilac_sample_id)\n",
    "             %>% transmute(\n",
    "                    ID_meta_hmfSampleId,\n",
    "                    lilac_imbalance = lilac_imbalance_lilac,\n",
    "                    lilac_germline_alleles = lilac_n_germline_alleles, \n",
    "                    lilac_mut_hla = lilac_mut_HLA,\n",
    "                    lilac_del_hla = lilac_LOH_DEL_HLA,\n",
    "                    lilac_targeted_escape = lilac_targeted_escape..HLA., \n",
    "                    lilac_non_targeted_escape = lilac_non_targeted_escape..no.HLA., \n",
    "                    lilac_genetic_immune_escape = lilac_genetic_immune_escape..GIE.,\n",
    "                    lilac_aneuploidy_score)\n",
    "          )"
   ]
  },
  {
   "cell_type": "code",
   "execution_count": 5,
   "id": "5fe6347b",
   "metadata": {},
   "outputs": [],
   "source": [
    "cols <- sapply(lilac, is.logical)\n",
    "lilac[,cols] <- lapply(lilac[,cols], as.numeric)\n",
    "lilac <- (lilac %>% rename_at(vars(-ID_meta_hmfSampleId), function(x){paste0(\"hla_\", x)}))"
   ]
  },
  {
   "cell_type": "markdown",
   "id": "6d5927ff",
   "metadata": {},
   "source": [
    "#### 2 - Output "
   ]
  },
  {
   "cell_type": "code",
   "execution_count": 6,
   "id": "43231efa",
   "metadata": {},
   "outputs": [],
   "source": [
    "write.csv(lilac, paste0(TMP_DIR, \"lilac_ready.csv\"),row.names=FALSE)"
   ]
  }
 ],
 "metadata": {
  "kernelspec": {
   "display_name": "R",
   "language": "R",
   "name": "ir"
  },
  "language_info": {
   "codemirror_mode": "r",
   "file_extension": ".r",
   "mimetype": "text/x-r-source",
   "name": "R",
   "pygments_lexer": "r",
   "version": "3.6.1"
  }
 },
 "nbformat": 4,
 "nbformat_minor": 5
}
