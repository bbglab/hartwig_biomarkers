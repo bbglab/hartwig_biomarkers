{
 "cells": [
  {
   "cell_type": "code",
   "execution_count": 1,
   "id": "ca04a815",
   "metadata": {},
   "outputs": [],
   "source": [
    "import sys\n",
    "import os\n",
    "\n",
    "sys.path.insert(0, f'{os.path.dirname(os.getcwd())}/')\n",
    "\n",
    "from mission_control.treasure_map import FPS_DIR, TMP_DIR\n",
    "\n",
    "import pandas as pd \n",
    "import pickle"
   ]
  },
  {
   "cell_type": "markdown",
   "id": "0a330d8f",
   "metadata": {},
   "source": [
    "#### 0 - Get file paths "
   ]
  },
  {
   "cell_type": "code",
   "execution_count": 2,
   "id": "06536f26",
   "metadata": {},
   "outputs": [],
   "source": [
    "with open( FPS_DIR + \"linx_files.txt\", \"rb\") as fp:\n",
    "    linx_files = pickle.load(fp)  "
   ]
  },
  {
   "cell_type": "markdown",
   "id": "5ab7380f",
   "metadata": {},
   "source": [
    "#### 1 - Run it"
   ]
  },
  {
   "cell_type": "code",
   "execution_count": 5,
   "id": "edb6b4da",
   "metadata": {},
   "outputs": [],
   "source": [
    "features = []\n",
    "for fp in linx_files:\n",
    "    linx_dict = {}\n",
    "    linx_dict[\"sampleId\"] = fp.split(\"/\")[-1]\n",
    "    for i in ['breakend', 'clusters', 'svs', 'fusion', 'links']:\n",
    "        linx_dict[\"sv_\" + i] = pd.read_csv(fp +'.linx.'+i+'.tsv',sep = \"\\t\").shape[0]\n",
    "    features.append(linx_dict)"
   ]
  },
  {
   "cell_type": "markdown",
   "id": "f51f5e54",
   "metadata": {},
   "source": [
    "#### 2 - Output"
   ]
  },
  {
   "cell_type": "code",
   "execution_count": 4,
   "id": "2a0edc9c",
   "metadata": {},
   "outputs": [],
   "source": [
    "pd.DataFrame(features).to_csv( TMP_DIR + 'sv_ready.csv', index = False)"
   ]
  }
 ],
 "metadata": {
  "kernelspec": {
   "display_name": "Python 3",
   "language": "python",
   "name": "python3"
  },
  "language_info": {
   "codemirror_mode": {
    "name": "ipython",
    "version": 3
   },
   "file_extension": ".py",
   "mimetype": "text/x-python",
   "name": "python",
   "nbconvert_exporter": "python",
   "pygments_lexer": "ipython3",
   "version": "3.8.8"
  }
 },
 "nbformat": 4,
 "nbformat_minor": 5
}
