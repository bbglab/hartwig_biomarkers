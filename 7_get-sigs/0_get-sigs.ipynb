{
 "cells": [
  {
   "cell_type": "code",
   "execution_count": 5,
   "id": "f43862ae",
   "metadata": {},
   "outputs": [],
   "source": [
    "import sys\n",
    "import os\n",
    "\n",
    "sys.path.insert(0, f'{os.path.dirname(os.getcwd())}/')\n",
    "\n",
    "from mission_control.treasure_map import FPS_DIR, SIGS_DIR\n",
    "from mission_control.sigs_help import get_sample, get_tnc_df\n",
    "\n",
    "import pandas as pd \n",
    "import pickle\n",
    "from multiprocessing import Pool"
   ]
  },
  {
   "cell_type": "markdown",
   "id": "bc67f147",
   "metadata": {},
   "source": [
    "#### 0 - Get file paths "
   ]
  },
  {
   "cell_type": "code",
   "execution_count": 2,
   "id": "e49d03e5",
   "metadata": {},
   "outputs": [],
   "source": [
    "with open( FPS_DIR + \"somatic_files.txt\", \"rb\") as fp:\n",
    "    somatic_files = pickle.load(fp)  "
   ]
  },
  {
   "cell_type": "markdown",
   "id": "fdbda62a",
   "metadata": {},
   "source": [
    "#### 1 - Collect TNC counts"
   ]
  },
  {
   "cell_type": "code",
   "execution_count": null,
   "id": "3f01779a",
   "metadata": {},
   "outputs": [],
   "source": [
    "def tnc_file_task( i_file: str):\n",
    "    if os.path.isfile(i_file):\n",
    "        print(i_file)\n",
    "        return get_tnc_df( i_file )\n",
    "    else:\n",
    "        print(\"Missing! \" + i_file)"
   ]
  },
  {
   "cell_type": "code",
   "execution_count": null,
   "id": "3eeaf0fe",
   "metadata": {},
   "outputs": [],
   "source": [
    "p = Pool()\n",
    "tncs = p.map( tnc_file_task, somatic_files )\n",
    "p.close()\n",
    "p.join()"
   ]
  },
  {
   "cell_type": "code",
   "execution_count": 6,
   "id": "2e884fc3",
   "metadata": {},
   "outputs": [],
   "source": [
    "pd.concat(tncs).fillna(0).to_csv( SIGS_DIR + 'tncs.csv' )"
   ]
  }
 ],
 "metadata": {
  "kernelspec": {
   "display_name": "Python 3",
   "language": "python",
   "name": "python3"
  },
  "language_info": {
   "codemirror_mode": {
    "name": "ipython",
    "version": 3
   },
   "file_extension": ".py",
   "mimetype": "text/x-python",
   "name": "python",
   "nbconvert_exporter": "python",
   "pygments_lexer": "ipython3",
   "version": "3.8.8"
  }
 },
 "nbformat": 4,
 "nbformat_minor": 5
}
