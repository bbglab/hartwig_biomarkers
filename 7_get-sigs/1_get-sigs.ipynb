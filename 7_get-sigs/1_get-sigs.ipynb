{
 "cells": [
  {
   "cell_type": "code",
   "execution_count": null,
   "id": "0",
   "metadata": {},
   "outputs": [],
   "source": [
    "wd <- dirname(getwd())\n",
    "source(paste0(wd,\"/mission_control/treasure_map.R\"))\n",
    "source(paste0(wd,\"/mission_control/sigs_help.R\"))\n",
    "\n",
    "library(deconstructSigs)\n",
    "library(dplyr)"
   ]
  },
  {
   "cell_type": "markdown",
   "id": "1",
   "metadata": {},
   "source": [
    "#### 0 - read reference data "
   ]
  },
  {
   "cell_type": "code",
   "execution_count": null,
   "id": "2",
   "metadata": {},
   "outputs": [],
   "source": [
    "signatures.cosmic.3 <- format_for_deconstruct_sigs(paste0( REF_DIR,'COSMIC_v3.2_SBS_GRCh37.txt') )"
   ]
  },
  {
   "cell_type": "code",
   "execution_count": null,
   "id": "3",
   "metadata": {},
   "outputs": [],
   "source": [
    "tncs <- read.csv( paste0( SIGS_DIR,\"tncs.csv\"),check.names=FALSE, stringsAsFactors = FALSE) %>% select(-\"\")\n",
    "tmb <- data.frame( \"sampleId\" = tncs$sampleId, \"sbs_tmb\" = apply( tncs %>% select(-sampleId),1,sum))"
   ]
  },
  {
   "cell_type": "markdown",
   "id": "4",
   "metadata": {},
   "source": [
    "#### 1 - Run it "
   ]
  },
  {
   "cell_type": "code",
   "execution_count": null,
   "id": "5",
   "metadata": {},
   "outputs": [],
   "source": [
    "sigs <- data.frame(); j <- 0\n",
    "system.time(\n",
    "for (i in (tncs %>% pull(sampleId))){\n",
    "    print(paste0( j )); j <- j+1\n",
    "    flush.console()\n",
    "    sigs_i <- get_sigs(tncs, i)\n",
    "    sigs <- rbind(sigs, sigs_i)\n",
    "}\n",
    ")"
   ]
  },
  {
   "cell_type": "markdown",
   "id": "6",
   "metadata": {},
   "source": [
    "#### 2 - Add TMB contribution by sigs"
   ]
  },
  {
   "cell_type": "code",
   "execution_count": null,
   "id": "7",
   "metadata": {},
   "outputs": [],
   "source": [
    "sigs_tmb <- get_sigs_tmb( sigs, tmb )\n",
    "sig_tmb_join <- inner_join(sigs, sigs_tmb, by = \"sampleId\")\n",
    "sigs_output <- sig_tmb_join %>% mutate_at(vars(-contains(\"sig_\"), -sampleId), ~(log(.+1) %>% as.vector))"
   ]
  },
  {
   "cell_type": "markdown",
   "id": "8",
   "metadata": {},
   "source": [
    "#### 2 - Output features "
   ]
  },
  {
   "cell_type": "code",
   "execution_count": null,
   "id": "9",
   "metadata": {},
   "outputs": [],
   "source": [
    "write.csv( sigs_output, paste0( TMP_DIR,'sigs_ready.csv'), row.names = FALSE)"
   ]
  }
 ],
 "metadata": {
  "kernelspec": {
   "display_name": "R",
   "language": "R",
   "name": "ir"
  },
  "language_info": {
   "codemirror_mode": "r",
   "file_extension": ".r",
   "mimetype": "text/x-r-source",
   "name": "R",
   "pygments_lexer": "r",
   "version": "3.6.1"
  }
 },
 "nbformat": 4,
 "nbformat_minor": 5
}
