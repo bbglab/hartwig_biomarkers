{
 "cells": [
  {
   "cell_type": "code",
   "execution_count": null,
   "id": "0",
   "metadata": {},
   "outputs": [],
   "source": [
    "wd <- dirname(getwd())\n",
    "source(paste0(wd,\"/mission_control/treasure_map.R\"))\n",
    "\n",
    "library(dplyr)\n",
    "library(tidyr)"
   ]
  },
  {
   "cell_type": "code",
   "execution_count": null,
   "id": "1",
   "metadata": {},
   "outputs": [],
   "source": [
    "summary <- read.csv( paste0( TMP_DIR, \"summary_features.csv\"), stringsAsFactors = FALSE)"
   ]
  },
  {
   "cell_type": "markdown",
   "id": "2",
   "metadata": {},
   "source": [
    "### 0 - Select only needed fields"
   ]
  },
  {
   "cell_type": "code",
   "execution_count": null,
   "id": "3",
   "metadata": {},
   "outputs": [],
   "source": [
    "summary <-\n",
    "summary %>% \n",
    "select( sampleId, \n",
    "      summary_diploidProportion,\n",
    "      summary_ploidy,\n",
    "      summary_polyclonalProportion,\n",
    "      summary_wholeGenomeDuplication,\n",
    "      summary_purity,\n",
    "      summary_msIndelsPerMb,\n",
    "      summary_msStatus,\n",
    "      summary_tml,\n",
    "      summary_tmlStatus,\n",
    "      summary_tmbPerMb,\n",
    "      summary_tmbStatus,\n",
    "      summary_svTumorMutationalBurden)"
   ]
  },
  {
   "cell_type": "markdown",
   "id": "4",
   "metadata": {},
   "source": [
    "### 1 - Transforms"
   ]
  },
  {
   "cell_type": "markdown",
   "id": "5",
   "metadata": {},
   "source": [
    "- Logical to numeric"
   ]
  },
  {
   "cell_type": "code",
   "execution_count": null,
   "id": "6",
   "metadata": {},
   "outputs": [],
   "source": [
    "summary$summary_wholeGenomeDuplication <- ifelse(summary$summary_wholeGenomeDuplication== \"True\", 1, 0)\n",
    "summary$summary_msStatus <- ifelse(summary$summary_msStatus== \"MSI\", 1, 0)\n",
    "summary$summary_tmlStatus <- ifelse(summary$summary_tmlStatus== \"HIGH\", 1, 0)\n",
    "summary$summary_tmbStatus <- ifelse(summary$summary_tmbStatus== \"HIGH\", 1, 0)"
   ]
  },
  {
   "cell_type": "markdown",
   "id": "7",
   "metadata": {},
   "source": [
    "- Log-transform"
   ]
  },
  {
   "cell_type": "code",
   "execution_count": null,
   "id": "8",
   "metadata": {},
   "outputs": [],
   "source": [
    "summary <-\n",
    "summary %>% \n",
    "  mutate_at(vars( summary_msIndelsPerMb, summary_tml,summary_tmbPerMb,summary_svTumorMutationalBurden), \n",
    "            ~((log(.+1) %>% as.vector)))"
   ]
  },
  {
   "cell_type": "markdown",
   "id": "9",
   "metadata": {},
   "source": [
    "#### 2 - Sorting Hat"
   ]
  },
  {
   "cell_type": "code",
   "execution_count": null,
   "id": "10",
   "metadata": {},
   "outputs": [],
   "source": [
    "summary <- \n",
    "summary %>% \n",
    "  rename_at(vars( summary_svTumorMutationalBurden ), function(x){paste0(\"sv_\", x)}) %>% \n",
    "  rename_at(vars( summary_diploidProportion,summary_ploidy,summary_polyclonalProportion,summary_wholeGenomeDuplication),\n",
    "                  function(x){paste0(\"cnv_\", x)}) %>% \n",
    "  rename_at(vars( summary_purity, summary_msIndelsPerMb, summary_msStatus,summary_tml,summary_tmlStatus,\n",
    "                  summary_tmbPerMb,summary_tmbStatus), function(x){paste0(\"somatic_\", x)})"
   ]
  },
  {
   "cell_type": "markdown",
   "id": "11",
   "metadata": {},
   "source": [
    "#### 3 - Send it!"
   ]
  },
  {
   "cell_type": "code",
   "execution_count": null,
   "id": "12",
   "metadata": {},
   "outputs": [],
   "source": [
    "write.csv( summary, paste0( TMP_DIR, 'summary_ready.csv'), row.names = FALSE)"
   ]
  }
 ],
 "metadata": {
  "kernelspec": {
   "display_name": "R",
   "language": "R",
   "name": "ir"
  },
  "language_info": {
   "codemirror_mode": "r",
   "file_extension": ".r",
   "mimetype": "text/x-r-source",
   "name": "R",
   "pygments_lexer": "r",
   "version": "3.6.1"
  }
 },
 "nbformat": 4,
 "nbformat_minor": 5
}
