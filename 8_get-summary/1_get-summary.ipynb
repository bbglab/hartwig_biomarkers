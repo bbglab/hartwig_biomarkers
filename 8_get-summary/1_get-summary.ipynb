{
 "cells": [
  {
   "cell_type": "code",
   "execution_count": 1,
   "id": "3f7c7304",
   "metadata": {},
   "outputs": [
    {
     "name": "stderr",
     "output_type": "stream",
     "text": [
      "Warning message:\n",
      "“package ‘dplyr’ was built under R version 3.6.3”\n",
      "Attaching package: ‘dplyr’\n",
      "\n",
      "The following objects are masked from ‘package:stats’:\n",
      "\n",
      "    filter, lag\n",
      "\n",
      "The following objects are masked from ‘package:base’:\n",
      "\n",
      "    intersect, setdiff, setequal, union\n",
      "\n",
      "Warning message:\n",
      "“package ‘tidyr’ was built under R version 3.6.3”"
     ]
    }
   ],
   "source": [
    "wd <- dirname(getwd())\n",
    "source(paste0(wd,\"/mission_control/treasure_map.R\"))\n",
    "\n",
    "library(dplyr)\n",
    "library(tidyr)"
   ]
  },
  {
   "cell_type": "code",
   "execution_count": 2,
   "id": "841c79b5",
   "metadata": {},
   "outputs": [],
   "source": [
    "summary <- read.csv( paste0( TMP_DIR, \"summary_features.csv\"), stringsAsFactors = FALSE)"
   ]
  },
  {
   "cell_type": "markdown",
   "id": "c09aadc2",
   "metadata": {},
   "source": [
    "#### 0 - Select only needed fields"
   ]
  },
  {
   "cell_type": "code",
   "execution_count": 3,
   "id": "0665794f",
   "metadata": {},
   "outputs": [],
   "source": [
    "summary <- (\n",
    "        summary %>% select(\n",
    "                sampleId,\n",
    "                summary_diploidProportion,\n",
    "                summary_ploidy,\n",
    "                summary_polyclonalProportion,\n",
    "                summary_wholeGenomeDuplication,\n",
    "                summary_purity,\n",
    "                summary_msIndelsPerMb,\n",
    "                summary_msStatus,\n",
    "                summary_tml,\n",
    "                summary_tmlStatus,\n",
    "                summary_tmbPerMb,\n",
    "                summary_tmbStatus,\n",
    "                summary_svTumorMutationalBurden\n",
    "                ))"
   ]
  },
  {
   "cell_type": "markdown",
   "id": "75b48e0a",
   "metadata": {},
   "source": [
    "#### 1 - Transforms"
   ]
  },
  {
   "cell_type": "markdown",
   "id": "cf66c039",
   "metadata": {},
   "source": [
    "###### Logical to numeric"
   ]
  },
  {
   "cell_type": "code",
   "execution_count": 4,
   "id": "b26e4b33",
   "metadata": {},
   "outputs": [],
   "source": [
    "summary$summary_wholeGenomeDuplication <- ifelse(summary$summary_wholeGenomeDuplication== \"True\", 1, 0)\n",
    "summary$summary_msStatus <- ifelse(summary$summary_msStatus== \"MSI\", 1, 0)\n",
    "summary$summary_tmlStatus <- ifelse(summary$summary_tmlStatus== \"HIGH\", 1, 0)\n",
    "summary$summary_tmbStatus <- ifelse(summary$summary_tmbStatus== \"HIGH\", 1, 0)"
   ]
  },
  {
   "cell_type": "markdown",
   "id": "56a572fa",
   "metadata": {},
   "source": [
    "###### Log-transforms"
   ]
  },
  {
   "cell_type": "code",
   "execution_count": 5,
   "id": "8d12f744",
   "metadata": {},
   "outputs": [],
   "source": [
    "summary <- (summary %>% mutate_at(\n",
    "                            vars( summary_msIndelsPerMb,\n",
    "                                  summary_tml,\n",
    "                                  summary_tmbPerMb,\n",
    "                                  summary_svTumorMutationalBurden), \n",
    "            ~((log(.+1) %>% as.vector))))"
   ]
  },
  {
   "cell_type": "markdown",
   "id": "94cefc7f",
   "metadata": {},
   "source": [
    "#### 2 - Sorting Hat"
   ]
  },
  {
   "cell_type": "code",
   "execution_count": 6,
   "id": "13728742",
   "metadata": {},
   "outputs": [],
   "source": [
    "summary <- (summary %>% rename_at(vars( summary_svTumorMutationalBurden ), function(x){paste0(\"sv_\", x)}))\n",
    "summary <- (summary %>% rename_at(vars( summary_diploidProportion,\n",
    "                                        summary_ploidy,\n",
    "                                        summary_polyclonalProportion,\n",
    "                                        summary_wholeGenomeDuplication),\n",
    "                         function(x){paste0(\"cnv_\", x)}))\n",
    "\n",
    "summary <- (summary %>% rename_at(vars( summary_purity,\n",
    "                                        summary_msIndelsPerMb,\n",
    "                                        summary_msStatus,\n",
    "                                        summary_tml,\n",
    "                                        summary_tmlStatus,\n",
    "                                        summary_tmbPerMb,\n",
    "                                        summary_tmbStatus),\n",
    "                         function(x){paste0(\"somatic_\", x)}))"
   ]
  },
  {
   "cell_type": "markdown",
   "id": "0728c3f8",
   "metadata": {},
   "source": [
    "#### 3 - Send it!"
   ]
  },
  {
   "cell_type": "code",
   "execution_count": 7,
   "id": "114999d2",
   "metadata": {},
   "outputs": [],
   "source": [
    "write.csv( summary, paste0( TMP_DIR, 'summary_ready.csv'), row.names = FALSE)"
   ]
  }
 ],
 "metadata": {
  "kernelspec": {
   "display_name": "R",
   "language": "R",
   "name": "ir"
  },
  "language_info": {
   "codemirror_mode": "r",
   "file_extension": ".r",
   "mimetype": "text/x-r-source",
   "name": "R",
   "pygments_lexer": "r",
   "version": "3.6.1"
  }
 },
 "nbformat": 4,
 "nbformat_minor": 5
}
