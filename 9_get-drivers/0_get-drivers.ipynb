{
 "cells": [
  {
   "cell_type": "code",
   "execution_count": 3,
   "id": "2a9ae6d6",
   "metadata": {},
   "outputs": [],
   "source": [
    "import sys\n",
    "import os \n",
    "\n",
    "sys.path.insert(0, f'{os.path.dirname(os.getcwd())}/')\n",
    "\n",
    "from mission_control.treasure_map import FPS_DIR, TMP_DIR\n",
    "from mission_control.driver_help import create_driver_df, create_driver_df2\n",
    "\n",
    "import pandas as pd\n",
    "import pickle"
   ]
  },
  {
   "cell_type": "code",
   "execution_count": 4,
   "id": "054fcbf2",
   "metadata": {},
   "outputs": [],
   "source": [
    "with open( FPS_DIR + \"linx_files.txt\", \"rb\") as fp:\n",
    "    linx_paths = pickle.load(fp)  \n",
    "    \n",
    "with open( FPS_DIR + \"driver_files.txt\", \"rb\") as fp:\n",
    "    driver_files = pickle.load(fp)      "
   ]
  },
  {
   "cell_type": "code",
   "execution_count": 5,
   "id": "b384b41a",
   "metadata": {},
   "outputs": [
    {
     "data": {
      "text/plain": [
       "'/workspace/datasets/hartwig/20220809/somatic/CPCT02120024T/purple/CPCT02120024T.driver.catalog.somatic.tsv'"
      ]
     },
     "execution_count": 5,
     "metadata": {},
     "output_type": "execute_result"
    }
   ],
   "source": [
    "driver_files[0]"
   ]
  },
  {
   "cell_type": "code",
   "execution_count": null,
   "id": "3dc7d5be",
   "metadata": {},
   "outputs": [],
   "source": [
    "driver_dfs_linx = []\n",
    "for i in linx_paths:\n",
    "    driver_dfs_linx.append(create_driver_df(i+'.linx.drivers.tsv'))    \n",
    "    \n",
    "driver_dfs_purple = []\n",
    "for i in driver_files:\n",
    "    driver_dfs_purple.append(create_driver_df2(i))       "
   ]
  },
  {
   "cell_type": "code",
   "execution_count": 7,
   "id": "9b277fb8",
   "metadata": {},
   "outputs": [],
   "source": [
    "pd.concat( driver_dfs_linx ).to_csv( TMP_DIR + 'drivers_DB_linx.csv', index = False)\n",
    "pd.concat( driver_dfs_purple ).to_csv( TMP_DIR + 'drivers_DB_purple.csv', index = False)"
   ]
  }
 ],
 "metadata": {
  "kernelspec": {
   "display_name": "Python 3",
   "language": "python",
   "name": "python3"
  },
  "language_info": {
   "codemirror_mode": {
    "name": "ipython",
    "version": 3
   },
   "file_extension": ".py",
   "mimetype": "text/x-python",
   "name": "python",
   "nbconvert_exporter": "python",
   "pygments_lexer": "ipython3",
   "version": "3.8.8"
  }
 },
 "nbformat": 4,
 "nbformat_minor": 5
}
