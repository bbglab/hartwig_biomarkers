{
 "cells": [
  {
   "cell_type": "code",
   "execution_count": 1,
   "id": "e17f51b1",
   "metadata": {},
   "outputs": [
    {
     "name": "stderr",
     "output_type": "stream",
     "text": [
      "Warning message:\n",
      "“package ‘tidyr’ was built under R version 3.6.3”Warning message:\n",
      "“package ‘dplyr’ was built under R version 3.6.3”\n",
      "Attaching package: ‘dplyr’\n",
      "\n",
      "The following objects are masked from ‘package:stats’:\n",
      "\n",
      "    filter, lag\n",
      "\n",
      "The following objects are masked from ‘package:base’:\n",
      "\n",
      "    intersect, setdiff, setequal, union\n",
      "\n"
     ]
    }
   ],
   "source": [
    "wd <- dirname(getwd())\n",
    "source(paste0(wd,\"/mission_control/treasure_map.R\"))\n",
    "\n",
    "library(tidyr)\n",
    "library(dplyr)"
   ]
  },
  {
   "cell_type": "markdown",
   "id": "0da4494c",
   "metadata": {},
   "source": [
    "#### 0 - Read and pre-process the data "
   ]
  },
  {
   "cell_type": "code",
   "execution_count": 2,
   "id": "782a9c47",
   "metadata": {},
   "outputs": [],
   "source": [
    "clinical <- (\n",
    "    read.csv( paste0( TMP_DIR,\"clinical_ready.csv\"), stringsAsFactors = FALSE)\n",
    "        %>% filter(clinical_cpi_mechanism2 %in% c(\"PD\", \"multiple\"))    \n",
    ")"
   ]
  },
  {
   "cell_type": "code",
   "execution_count": 28,
   "id": "d5840f21",
   "metadata": {},
   "outputs": [],
   "source": [
    "drivers_purple <- read.csv( paste0( TMP_DIR,\"drivers_DB_purple.csv\"), stringsAsFactors = FALSE)\n",
    "drivers <- (drivers_purple \n",
    "                %>% filter(driverLikelihood > .999) \n",
    "                %>% transmute( sampleId, driver = paste0(gene,\"_\",driver, \"_\", likelihoodMethod))\n",
    "                %>% distinct())"
   ]
  },
  {
   "cell_type": "code",
   "execution_count": 11,
   "id": "5565034b",
   "metadata": {},
   "outputs": [],
   "source": [
    "#drivers_purple %>% head()"
   ]
  },
  {
   "cell_type": "code",
   "execution_count": 29,
   "id": "756548ce",
   "metadata": {},
   "outputs": [],
   "source": [
    "clinical_drivers <- clinical %>% left_join( drivers, by = \"sampleId\")"
   ]
  },
  {
   "cell_type": "code",
   "execution_count": 30,
   "id": "790130b8",
   "metadata": {},
   "outputs": [
    {
     "data": {
      "text/html": [
       "<table>\n",
       "<thead><tr><th scope=col>driver</th><th scope=col>ct</th></tr></thead>\n",
       "<tbody>\n",
       "\t<tr><td>B2M_MUTATION_BIALLELIC</td><td>7                     </td></tr>\n",
       "\t<tr><td>B2M_DEL_DEL           </td><td>2                     </td></tr>\n",
       "\t<tr><td>B2M_MUTATION_HOTSPOT  </td><td>1                     </td></tr>\n",
       "</tbody>\n",
       "</table>\n"
      ],
      "text/latex": [
       "\\begin{tabular}{r|ll}\n",
       " driver & ct\\\\\n",
       "\\hline\n",
       "\t B2M\\_MUTATION\\_BIALLELIC & 7                         \\\\\n",
       "\t B2M\\_DEL\\_DEL            & 2                         \\\\\n",
       "\t B2M\\_MUTATION\\_HOTSPOT   & 1                         \\\\\n",
       "\\end{tabular}\n"
      ],
      "text/markdown": [
       "\n",
       "| driver | ct |\n",
       "|---|---|\n",
       "| B2M_MUTATION_BIALLELIC | 7                      |\n",
       "| B2M_DEL_DEL            | 2                      |\n",
       "| B2M_MUTATION_HOTSPOT   | 1                      |\n",
       "\n"
      ],
      "text/plain": [
       "  driver                 ct\n",
       "1 B2M_MUTATION_BIALLELIC 7 \n",
       "2 B2M_DEL_DEL            2 \n",
       "3 B2M_MUTATION_HOTSPOT   1 "
      ]
     },
     "metadata": {},
     "output_type": "display_data"
    }
   ],
   "source": [
    "clinical_drivers %>% filter(grepl(\"B2M\", driver)) %>% group_by(driver) %>% summarise(ct = n()) %>% arrange(desc(ct))"
   ]
  },
  {
   "cell_type": "code",
   "execution_count": 17,
   "id": "921f7f8a",
   "metadata": {},
   "outputs": [],
   "source": [
    "#common_drivers "
   ]
  },
  {
   "cell_type": "code",
   "execution_count": 7,
   "id": "4bf02fbd",
   "metadata": {},
   "outputs": [],
   "source": [
    "#drivers_purple %>% filter(gene == \"B2M\")"
   ]
  },
  {
   "cell_type": "code",
   "execution_count": 23,
   "id": "b7487263",
   "metadata": {},
   "outputs": [],
   "source": [
    "common_drivers <- (\n",
    "    clinical_drivers\n",
    "        %>% group_by(driver) \n",
    "        %>% summarise(ct = n()) \n",
    "        %>% arrange(desc(ct)) \n",
    "        %>% filter(ct > 5)\n",
    "        %>% filter(grepl(\"BIALLELIC\", driver))\n",
    "        %>% select(driver, ct)\n",
    ")\n",
    "#sampleIds <- unique(drivers %>% pull(sampleId))"
   ]
  },
  {
   "cell_type": "code",
   "execution_count": 24,
   "id": "b20c5ca3",
   "metadata": {},
   "outputs": [
    {
     "data": {
      "text/html": [
       "<table>\n",
       "<thead><tr><th scope=col>driver</th><th scope=col>ct</th></tr></thead>\n",
       "<tbody>\n",
       "\t<tr><td>TP53_MUTATION_BIALLELIC   </td><td>46                        </td></tr>\n",
       "\t<tr><td>RB1_MUTATION_BIALLELIC    </td><td>30                        </td></tr>\n",
       "\t<tr><td>PBRM1_MUTATION_BIALLELIC  </td><td>19                        </td></tr>\n",
       "\t<tr><td>CDKN2A_MUTATION_BIALLELIC </td><td>17                        </td></tr>\n",
       "\t<tr><td>KDM6A_MUTATION_BIALLELIC  </td><td>15                        </td></tr>\n",
       "\t<tr><td>STK11_MUTATION_BIALLELIC  </td><td>15                        </td></tr>\n",
       "\t<tr><td>PTEN_MUTATION_BIALLELIC   </td><td>14                        </td></tr>\n",
       "\t<tr><td>ARID1A_MUTATION_BIALLELIC </td><td>11                        </td></tr>\n",
       "\t<tr><td>ARID2_MUTATION_BIALLELIC  </td><td>10                        </td></tr>\n",
       "\t<tr><td>BAP1_MUTATION_BIALLELIC   </td><td>10                        </td></tr>\n",
       "\t<tr><td>VHL_MUTATION_BIALLELIC    </td><td>10                        </td></tr>\n",
       "\t<tr><td>NF1_MUTATION_BIALLELIC    </td><td> 9                        </td></tr>\n",
       "\t<tr><td>SETD2_MUTATION_BIALLELIC  </td><td> 9                        </td></tr>\n",
       "\t<tr><td>SMARCA4_MUTATION_BIALLELIC</td><td> 9                        </td></tr>\n",
       "\t<tr><td>TSC1_MUTATION_BIALLELIC   </td><td> 8                        </td></tr>\n",
       "\t<tr><td>APC_MUTATION_BIALLELIC    </td><td> 7                        </td></tr>\n",
       "\t<tr><td>ATRX_MUTATION_BIALLELIC   </td><td> 7                        </td></tr>\n",
       "\t<tr><td>B2M_MUTATION_BIALLELIC    </td><td> 7                        </td></tr>\n",
       "\t<tr><td>FAT1_MUTATION_BIALLELIC   </td><td> 7                        </td></tr>\n",
       "\t<tr><td>NF2_MUTATION_BIALLELIC    </td><td> 7                        </td></tr>\n",
       "\t<tr><td>RBM10_MUTATION_BIALLELIC  </td><td> 7                        </td></tr>\n",
       "\t<tr><td>KEAP1_MUTATION_BIALLELIC  </td><td> 6                        </td></tr>\n",
       "\t<tr><td>STAG2_MUTATION_BIALLELIC  </td><td> 6                        </td></tr>\n",
       "</tbody>\n",
       "</table>\n"
      ],
      "text/latex": [
       "\\begin{tabular}{r|ll}\n",
       " driver & ct\\\\\n",
       "\\hline\n",
       "\t TP53\\_MUTATION\\_BIALLELIC    & 46                            \\\\\n",
       "\t RB1\\_MUTATION\\_BIALLELIC     & 30                            \\\\\n",
       "\t PBRM1\\_MUTATION\\_BIALLELIC   & 19                            \\\\\n",
       "\t CDKN2A\\_MUTATION\\_BIALLELIC  & 17                            \\\\\n",
       "\t KDM6A\\_MUTATION\\_BIALLELIC   & 15                            \\\\\n",
       "\t STK11\\_MUTATION\\_BIALLELIC   & 15                            \\\\\n",
       "\t PTEN\\_MUTATION\\_BIALLELIC    & 14                            \\\\\n",
       "\t ARID1A\\_MUTATION\\_BIALLELIC  & 11                            \\\\\n",
       "\t ARID2\\_MUTATION\\_BIALLELIC   & 10                            \\\\\n",
       "\t BAP1\\_MUTATION\\_BIALLELIC    & 10                            \\\\\n",
       "\t VHL\\_MUTATION\\_BIALLELIC     & 10                            \\\\\n",
       "\t NF1\\_MUTATION\\_BIALLELIC     &  9                            \\\\\n",
       "\t SETD2\\_MUTATION\\_BIALLELIC   &  9                            \\\\\n",
       "\t SMARCA4\\_MUTATION\\_BIALLELIC &  9                            \\\\\n",
       "\t TSC1\\_MUTATION\\_BIALLELIC    &  8                            \\\\\n",
       "\t APC\\_MUTATION\\_BIALLELIC     &  7                            \\\\\n",
       "\t ATRX\\_MUTATION\\_BIALLELIC    &  7                            \\\\\n",
       "\t B2M\\_MUTATION\\_BIALLELIC     &  7                            \\\\\n",
       "\t FAT1\\_MUTATION\\_BIALLELIC    &  7                            \\\\\n",
       "\t NF2\\_MUTATION\\_BIALLELIC     &  7                            \\\\\n",
       "\t RBM10\\_MUTATION\\_BIALLELIC   &  7                            \\\\\n",
       "\t KEAP1\\_MUTATION\\_BIALLELIC   &  6                            \\\\\n",
       "\t STAG2\\_MUTATION\\_BIALLELIC   &  6                            \\\\\n",
       "\\end{tabular}\n"
      ],
      "text/markdown": [
       "\n",
       "| driver | ct |\n",
       "|---|---|\n",
       "| TP53_MUTATION_BIALLELIC    | 46                         |\n",
       "| RB1_MUTATION_BIALLELIC     | 30                         |\n",
       "| PBRM1_MUTATION_BIALLELIC   | 19                         |\n",
       "| CDKN2A_MUTATION_BIALLELIC  | 17                         |\n",
       "| KDM6A_MUTATION_BIALLELIC   | 15                         |\n",
       "| STK11_MUTATION_BIALLELIC   | 15                         |\n",
       "| PTEN_MUTATION_BIALLELIC    | 14                         |\n",
       "| ARID1A_MUTATION_BIALLELIC  | 11                         |\n",
       "| ARID2_MUTATION_BIALLELIC   | 10                         |\n",
       "| BAP1_MUTATION_BIALLELIC    | 10                         |\n",
       "| VHL_MUTATION_BIALLELIC     | 10                         |\n",
       "| NF1_MUTATION_BIALLELIC     |  9                         |\n",
       "| SETD2_MUTATION_BIALLELIC   |  9                         |\n",
       "| SMARCA4_MUTATION_BIALLELIC |  9                         |\n",
       "| TSC1_MUTATION_BIALLELIC    |  8                         |\n",
       "| APC_MUTATION_BIALLELIC     |  7                         |\n",
       "| ATRX_MUTATION_BIALLELIC    |  7                         |\n",
       "| B2M_MUTATION_BIALLELIC     |  7                         |\n",
       "| FAT1_MUTATION_BIALLELIC    |  7                         |\n",
       "| NF2_MUTATION_BIALLELIC     |  7                         |\n",
       "| RBM10_MUTATION_BIALLELIC   |  7                         |\n",
       "| KEAP1_MUTATION_BIALLELIC   |  6                         |\n",
       "| STAG2_MUTATION_BIALLELIC   |  6                         |\n",
       "\n"
      ],
      "text/plain": [
       "   driver                     ct\n",
       "1  TP53_MUTATION_BIALLELIC    46\n",
       "2  RB1_MUTATION_BIALLELIC     30\n",
       "3  PBRM1_MUTATION_BIALLELIC   19\n",
       "4  CDKN2A_MUTATION_BIALLELIC  17\n",
       "5  KDM6A_MUTATION_BIALLELIC   15\n",
       "6  STK11_MUTATION_BIALLELIC   15\n",
       "7  PTEN_MUTATION_BIALLELIC    14\n",
       "8  ARID1A_MUTATION_BIALLELIC  11\n",
       "9  ARID2_MUTATION_BIALLELIC   10\n",
       "10 BAP1_MUTATION_BIALLELIC    10\n",
       "11 VHL_MUTATION_BIALLELIC     10\n",
       "12 NF1_MUTATION_BIALLELIC      9\n",
       "13 SETD2_MUTATION_BIALLELIC    9\n",
       "14 SMARCA4_MUTATION_BIALLELIC  9\n",
       "15 TSC1_MUTATION_BIALLELIC     8\n",
       "16 APC_MUTATION_BIALLELIC      7\n",
       "17 ATRX_MUTATION_BIALLELIC     7\n",
       "18 B2M_MUTATION_BIALLELIC      7\n",
       "19 FAT1_MUTATION_BIALLELIC     7\n",
       "20 NF2_MUTATION_BIALLELIC      7\n",
       "21 RBM10_MUTATION_BIALLELIC    7\n",
       "22 KEAP1_MUTATION_BIALLELIC    6\n",
       "23 STAG2_MUTATION_BIALLELIC    6"
      ]
     },
     "metadata": {},
     "output_type": "display_data"
    }
   ],
   "source": [
    "common_drivers"
   ]
  },
  {
   "cell_type": "markdown",
   "id": "eb95516f",
   "metadata": {},
   "source": [
    "#### 1 - Run it"
   ]
  },
  {
   "cell_type": "code",
   "execution_count": 30,
   "id": "6ba19f03",
   "metadata": {},
   "outputs": [],
   "source": [
    "genes <- list()\n",
    "genes[[\"sampleId\"]] <- sampleIds\n",
    "for (gene in common_drivers){\n",
    "    cts <- c()\n",
    "    for (sample in sampleIds){\n",
    "        cts <- c(cts, nrow(drivers %>% filter(sampleId == sample, driver == gene)))\n",
    "    }\n",
    "    genes[[paste0(\"driver_\",gene)]] <- cts\n",
    "}"
   ]
  },
  {
   "cell_type": "code",
   "execution_count": 5,
   "id": "934ae879",
   "metadata": {},
   "outputs": [],
   "source": [
    "write.csv( data.frame(genes), file = paste0( TMP_DIR, \"driver_ready.csv\"), row.names=FALSE)"
   ]
  }
 ],
 "metadata": {
  "kernelspec": {
   "display_name": "R",
   "language": "R",
   "name": "ir"
  },
  "language_info": {
   "codemirror_mode": "r",
   "file_extension": ".r",
   "mimetype": "text/x-r-source",
   "name": "R",
   "pygments_lexer": "r",
   "version": "3.6.1"
  }
 },
 "nbformat": 4,
 "nbformat_minor": 5
}
