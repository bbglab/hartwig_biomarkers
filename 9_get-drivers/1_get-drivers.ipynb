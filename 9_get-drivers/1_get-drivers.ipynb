{
 "cells": [
  {
   "cell_type": "code",
   "execution_count": null,
   "id": "0",
   "metadata": {},
   "outputs": [],
   "source": [
    "wd <- dirname(getwd())\n",
    "source(paste0(wd,\"/mission_control/treasure_map.R\"))\n",
    "\n",
    "library(tidyr)\n",
    "library(dplyr)"
   ]
  },
  {
   "cell_type": "markdown",
   "id": "1",
   "metadata": {},
   "source": [
    "### 0 - Read and pre-process the data "
   ]
  },
  {
   "cell_type": "code",
   "execution_count": null,
   "id": "2",
   "metadata": {},
   "outputs": [],
   "source": [
    "drivers_purple <- read.csv( paste0( TMP_DIR,\"drivers_DB_purple.csv\"), stringsAsFactors = FALSE)"
   ]
  },
  {
   "cell_type": "markdown",
   "id": "3",
   "metadata": {},
   "source": [
    "- Filter to drivers labeled very high likelihood"
   ]
  },
  {
   "cell_type": "code",
   "execution_count": null,
   "id": "4",
   "metadata": {},
   "outputs": [],
   "source": [
    "drivers <- \n",
    "drivers_purple %>% \n",
    "  filter(driverLikelihood > .999) %>% \n",
    "  transmute( sampleId, driver = paste0(gene,\"_\",driver)) %>% \n",
    "  distinct()"
   ]
  },
  {
   "cell_type": "markdown",
   "id": "5",
   "metadata": {},
   "source": [
    "### 1 - Identify common drivers\n",
    "- May have statistical power in later testing"
   ]
  },
  {
   "cell_type": "code",
   "execution_count": null,
   "id": "6",
   "metadata": {},
   "outputs": [],
   "source": [
    "common_drivers <-\n",
    "drivers %>% \n",
    "  group_by(driver) %>% \n",
    "  summarise(ct = n()) %>% \n",
    "  arrange(desc(ct)) %>% \n",
    "  filter(ct > 20) %>% \n",
    "  pull(driver)\n",
    "sampleIds <- unique(drivers %>% pull(sampleId))"
   ]
  },
  {
   "cell_type": "markdown",
   "id": "7",
   "metadata": {},
   "source": [
    "### 2 - Run it"
   ]
  },
  {
   "cell_type": "code",
   "execution_count": null,
   "id": "8",
   "metadata": {},
   "outputs": [],
   "source": [
    "genes <- list()\n",
    "genes[[\"sampleId\"]] <- sampleIds\n",
    "for (gene in common_drivers){\n",
    "    cts <- c()\n",
    "    for (sample in sampleIds){\n",
    "        cts <- c(cts, nrow(drivers %>% filter(sampleId == sample, driver == gene)))\n",
    "    }\n",
    "    genes[[paste0(\"driver_\",gene)]] <- cts\n",
    "}"
   ]
  },
  {
   "cell_type": "markdown",
   "id": "9",
   "metadata": {},
   "source": [
    "### 3 - Send it"
   ]
  },
  {
   "cell_type": "code",
   "execution_count": null,
   "id": "10",
   "metadata": {},
   "outputs": [],
   "source": [
    "write.csv( data.frame(genes), file = paste0( TMP_DIR, \"driver_ready.csv\"), row.names=FALSE)"
   ]
  }
 ],
 "metadata": {
  "kernelspec": {
   "display_name": "R",
   "language": "R",
   "name": "ir"
  },
  "language_info": {
   "codemirror_mode": "r",
   "file_extension": ".r",
   "mimetype": "text/x-r-source",
   "name": "R",
   "pygments_lexer": "r",
   "version": "3.6.1"
  }
 },
 "nbformat": 4,
 "nbformat_minor": 5
}
