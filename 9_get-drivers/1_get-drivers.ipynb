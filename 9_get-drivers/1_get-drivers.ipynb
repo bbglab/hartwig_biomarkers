{
 "cells": [
  {
   "cell_type": "code",
   "execution_count": 2,
   "id": "e17f51b1",
   "metadata": {},
   "outputs": [],
   "source": [
    "wd <- dirname(getwd())\n",
    "source(paste0(wd,\"/mission_control/treasure_map.R\"))\n",
    "\n",
    "library(tidyr)\n",
    "library(dplyr)"
   ]
  },
  {
   "cell_type": "markdown",
   "id": "0da4494c",
   "metadata": {},
   "source": [
    "#### 0 - Read and pre-process the data "
   ]
  },
  {
   "cell_type": "code",
   "execution_count": 38,
   "id": "d5840f21",
   "metadata": {},
   "outputs": [],
   "source": [
    "drivers_purple <- read.csv( paste0( TMP_DIR,\"drivers_DB_purple.csv\"), stringsAsFactors = FALSE)\n",
    "drivers <- (drivers_purple \n",
    "                %>% filter(driverLikelihood > .999) \n",
    "                %>% transmute( sampleId, driver = paste0(gene,\"_\",driver))\n",
    "                %>% distinct())"
   ]
  },
  {
   "cell_type": "code",
   "execution_count": 29,
   "id": "b7487263",
   "metadata": {},
   "outputs": [],
   "source": [
    "common_drivers <- (\n",
    "    drivers\n",
    "        %>% group_by(driver) \n",
    "        %>% summarise(ct = n()) \n",
    "        %>% arrange(desc(ct)) \n",
    "        %>% filter(ct > 20)\n",
    "        %>% pull(driver)\n",
    ")\n",
    "sampleIds <- unique(drivers %>% pull(sampleId))"
   ]
  },
  {
   "cell_type": "markdown",
   "id": "eb95516f",
   "metadata": {},
   "source": [
    "#### 1 - Run it"
   ]
  },
  {
   "cell_type": "code",
   "execution_count": 30,
   "id": "6ba19f03",
   "metadata": {},
   "outputs": [],
   "source": [
    "genes <- list()\n",
    "genes[[\"sampleId\"]] <- sampleIds\n",
    "for (gene in common_drivers){\n",
    "    cts <- c()\n",
    "    for (sample in sampleIds){\n",
    "        cts <- c(cts, nrow(drivers %>% filter(sampleId == sample, driver == gene)))\n",
    "    }\n",
    "    genes[[paste0(\"driver_\",gene)]] <- cts\n",
    "}"
   ]
  },
  {
   "cell_type": "code",
   "execution_count": 5,
   "id": "934ae879",
   "metadata": {},
   "outputs": [],
   "source": [
    "write.csv( data.frame(genes), file = paste0( TMP_DIR, \"driver_ready.csv\"), row.names=FALSE)"
   ]
  }
 ],
 "metadata": {
  "kernelspec": {
   "display_name": "R",
   "language": "R",
   "name": "ir"
  },
  "language_info": {
   "codemirror_mode": "r",
   "file_extension": ".r",
   "mimetype": "text/x-r-source",
   "name": "R",
   "pygments_lexer": "r",
   "version": "3.6.1"
  }
 },
 "nbformat": 4,
 "nbformat_minor": 5
}
