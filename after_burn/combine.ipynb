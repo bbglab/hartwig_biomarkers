{
 "cells": [
  {
   "cell_type": "code",
   "execution_count": 1,
   "id": "64b3a391",
   "metadata": {},
   "outputs": [
    {
     "name": "stderr",
     "output_type": "stream",
     "text": [
      "Warning message:\n",
      "“package ‘tidyr’ was built under R version 3.6.3”Warning message:\n",
      "“package ‘dplyr’ was built under R version 3.6.3”\n",
      "Attaching package: ‘dplyr’\n",
      "\n",
      "The following objects are masked from ‘package:stats’:\n",
      "\n",
      "    filter, lag\n",
      "\n",
      "The following objects are masked from ‘package:base’:\n",
      "\n",
      "    intersect, setdiff, setequal, union\n",
      "\n",
      "Registered S3 method overwritten by 'rvest':\n",
      "  method            from\n",
      "  read_xml.response xml2\n",
      "── Attaching packages ────────────────────────────────────────────────────────────────────────────────────────────────────────────────────────────────────────── tidyverse 1.2.1 ──\n",
      "✔ ggplot2 3.3.6     ✔ purrr   0.3.4\n",
      "✔ tibble  3.1.2     ✔ stringr 1.4.0\n",
      "✔ readr   1.3.1     ✔ forcats 0.5.1\n",
      "Warning message:\n",
      "“package ‘tibble’ was built under R version 3.6.3”Warning message:\n",
      "“package ‘purrr’ was built under R version 3.6.3”Warning message:\n",
      "“package ‘forcats’ was built under R version 3.6.3”── Conflicts ───────────────────────────────────────────────────────────────────────────────────────────────────────────────────────────────────────────── tidyverse_conflicts() ──\n",
      "✖ dplyr::filter() masks stats::filter()\n",
      "✖ dplyr::lag()    masks stats::lag()\n",
      "\n",
      "Attaching package: ‘data.table’\n",
      "\n",
      "The following object is masked from ‘package:purrr’:\n",
      "\n",
      "    transpose\n",
      "\n",
      "The following objects are masked from ‘package:dplyr’:\n",
      "\n",
      "    between, first, last\n",
      "\n"
     ]
    }
   ],
   "source": [
    "wd <- dirname(getwd())\n",
    "source(paste0(wd,\"/mission_control/treasure_map.R\"))\n",
    "source(paste0(wd,\"/mission_control/after_burn_help.R\"))\n",
    "\n",
    "library(tidyverse)\n",
    "library(data.table)\n",
    "\n",
    "args <- list(\"AdjTPM\")"
   ]
  },
  {
   "cell_type": "markdown",
   "id": "d550be90",
   "metadata": {},
   "source": [
    "#### 0 - Bring all the Data together"
   ]
  },
  {
   "cell_type": "markdown",
   "id": "39f142c8",
   "metadata": {},
   "source": [
    "- Read output from each pipeline"
   ]
  },
  {
   "cell_type": "code",
   "execution_count": 2,
   "id": "f9d92634",
   "metadata": {},
   "outputs": [],
   "source": [
    "setwd(TMP_DIR)"
   ]
  },
  {
   "cell_type": "code",
   "execution_count": 3,
   "id": "d5cc898a",
   "metadata": {},
   "outputs": [],
   "source": [
    "clinical       <- fread( \"clinical_ready.csv\" )\n",
    "summary        <- fread( \"summary_ready.csv\" )\n",
    "sigs           <- fread( \"sigs_ready.csv\" )\n",
    "cibersort_lm22 <- fread( paste0(\"cibersort_\", args[1],\"_LM22_ready.csv\") )\n",
    "cibersort_tr4  <- fread( paste0(\"cibersort_\", args[1],\"_TR4_ready.csv\") )\n",
    "drivers        <- fread( \"driver_ready.csv\" )\n",
    "hlas           <- fread( \"hla_ready.csv\" )\n",
    "isofox         <- fread( paste0(\"isofox_\", args[1], \"_ready.csv\") )\n",
    "somatic        <- fread( \"somatic_ready.csv\" )\n",
    "cnv            <- fread( \"cnv_ready.csv\" )\n",
    "cnv_gene       <- fread( \"cnv_gene_ready.csv\" )\n",
    "neoepitope     <- fread( \"neoepitope_ready.csv\" )\n",
    "sv             <- fread( \"sv_ready.csv\" )\n",
    "lilac          <- fread( \"lilac_ready.csv\")"
   ]
  },
  {
   "cell_type": "markdown",
   "id": "4fa53625",
   "metadata": {},
   "source": [
    "#### Add heterogeneity proxy with clonal pct"
   ]
  },
  {
   "cell_type": "code",
   "execution_count": 4,
   "id": "852150e3",
   "metadata": {},
   "outputs": [],
   "source": [
    "somatic <- somatic %>% mutate(somatic_clonal_pct = somatic_TMB_clonal/somatic_TMB)\n",
    "somatic$somatic_TMB_exome <- apply( somatic %>% select(contains(\".gene\")), 1, sum)"
   ]
  },
  {
   "cell_type": "markdown",
   "id": "a86d4180",
   "metadata": {},
   "source": [
    "#### Log-Transforms\n",
    "- Somatic, CNV, Neoepitope, Svs"
   ]
  },
  {
   "cell_type": "code",
   "execution_count": 5,
   "id": "dd398384",
   "metadata": {},
   "outputs": [
    {
     "name": "stderr",
     "output_type": "stream",
     "text": [
      "Warning message in log(. + 1):\n",
      "“NaNs produced”Warning message in log(. + 1):\n",
      "“NaNs produced”Warning message in log(. + 1):\n",
      "“NaNs produced”Warning message in log(. + 1):\n",
      "“NaNs produced”"
     ]
    }
   ],
   "source": [
    "somatic <- somatic %>% mutate_at(vars(-sampleId, -somatic_clonal_pct), ~(log(.+1) %>% as.vector))\n",
    "cnv <- cnv %>% mutate_at( vars(-sampleId), ~(log(.+1) %>% as.vector))\n",
    "cnv_gene <- cnv_gene %>% mutate_at(vars(-contains(\"_loh_\"), -sampleId), ~(log(.+1) %>% as.vector))\n",
    "neoepitope <- neoepitope %>% mutate_at(vars(-sampleId), ~(log(.+1) %>% as.vector))\n",
    "sv <- sv %>% mutate_at(vars(-sampleId), ~(log(.+1) %>% as.vector))"
   ]
  },
  {
   "cell_type": "markdown",
   "id": "b27a01af",
   "metadata": {},
   "source": [
    "#### All together! "
   ]
  },
  {
   "cell_type": "code",
   "execution_count": 6,
   "id": "6c772efd",
   "metadata": {},
   "outputs": [],
   "source": [
    "all <- (\n",
    "    clinical\n",
    "        %>% left_join(hlas, by='sampleId')\n",
    "        %>% left_join(cibersort_lm22, by='sampleId')\n",
    "        %>% left_join(cibersort_tr4, by='sampleId')\n",
    "        %>% left_join(cnv, by='sampleId')\n",
    "        %>% left_join(cnv_gene, by='sampleId')\n",
    "        %>% left_join(drivers, by='sampleId')\n",
    "        %>% left_join(isofox, by='sampleId')\n",
    "        %>% left_join(neoepitope, by='sampleId')\n",
    "        %>% left_join(sigs, by='sampleId')\n",
    "        %>% left_join(somatic, by='sampleId')\n",
    "        %>% left_join(summary, by='sampleId') \n",
    "        %>% left_join(sv, by='sampleId')   \n",
    "        %>% left_join(lilac, by='ID_meta_hmfSampleId')\n",
    "    )"
   ]
  },
  {
   "cell_type": "code",
   "execution_count": 7,
   "id": "527680cf",
   "metadata": {},
   "outputs": [],
   "source": [
    "#all %>% select(contains(\"cluster\"))"
   ]
  },
  {
   "cell_type": "markdown",
   "id": "39b7143a",
   "metadata": {},
   "source": [
    "### 1 - Add PC features"
   ]
  },
  {
   "cell_type": "code",
   "execution_count": 8,
   "id": "7e7acc8a",
   "metadata": {},
   "outputs": [],
   "source": [
    "#all <- \n",
    "#    (all \n",
    "#         %>% left_join( give_me_pcs(somatic, \"somatic_\"), by = \"sampleId\")\n",
    "#         %>% left_join( give_me_pcs(somatic, \"somatic.gene_\"), by = \"sampleId\")\n",
    "#         %>% left_join( give_me_pcs(isofox, \"isofox\"), by = \"sampleId\")\n",
    "#         #%>% left_join( give_me_pcs(cnv_gene, \"cnv.region_cn_\"), by = \"sampleId\")\n",
    "#)"
   ]
  },
  {
   "cell_type": "markdown",
   "id": "be5b7be3",
   "metadata": {},
   "source": [
    "### 2 - Send it!"
   ]
  },
  {
   "cell_type": "code",
   "execution_count": 9,
   "id": "a5a2ba1a",
   "metadata": {},
   "outputs": [],
   "source": [
    "fwrite( all, file=paste0( CLN_DIR, \"signals_base.csv\") )"
   ]
  }
 ],
 "metadata": {
  "kernelspec": {
   "display_name": "R",
   "language": "R",
   "name": "ir"
  },
  "language_info": {
   "codemirror_mode": "r",
   "file_extension": ".r",
   "mimetype": "text/x-r-source",
   "name": "R",
   "pygments_lexer": "r",
   "version": "3.6.1"
  }
 },
 "nbformat": 4,
 "nbformat_minor": 5
}
