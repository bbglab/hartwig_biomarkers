{
 "cells": [
  {
   "cell_type": "code",
   "execution_count": 32,
   "id": "28a3d072",
   "metadata": {},
   "outputs": [],
   "source": [
    "wd <- dirname(dirname(getwd()))\n",
    "source(paste0(wd,\"/mission_control/treasure_map.R\"))\n",
    "source(paste0(wd,\"/mission_control/after_burn_help.R\"))\n",
    "\n",
    "library(dplyr)\n",
    "library(tidyr)\n",
    "library(data.table)\n",
    "\n",
    "args <- list(\"RawTPM\") #or \"AdjTPM\""
   ]
  },
  {
   "cell_type": "code",
   "execution_count": 35,
   "id": "e490da0b",
   "metadata": {},
   "outputs": [],
   "source": [
    "biomarkers <- fread(paste0( CLN_DIR, \"biomarkers_\",args[1],\".csv\"))"
   ]
  },
  {
   "cell_type": "markdown",
   "id": "d2ec2c12",
   "metadata": {},
   "source": [
    "### 0 - Overview"
   ]
  },
  {
   "cell_type": "code",
   "execution_count": 7,
   "id": "147fc8df",
   "metadata": {},
   "outputs": [
    {
     "data": {
      "text/html": [
       "<ol class=list-inline>\n",
       "\t<li>3024</li>\n",
       "\t<li>60179</li>\n",
       "</ol>\n"
      ],
      "text/latex": [
       "\\begin{enumerate*}\n",
       "\\item 3024\n",
       "\\item 60179\n",
       "\\end{enumerate*}\n"
      ],
      "text/markdown": [
       "1. 3024\n",
       "2. 60179\n",
       "\n",
       "\n"
      ],
      "text/plain": [
       "[1]  3024 60179"
      ]
     },
     "metadata": {},
     "output_type": "display_data"
    },
    {
     "data": {
      "text/html": [
       "<table>\n",
       "<thead><tr><th scope=col>Survival_time_to_pfs_event</th><th scope=col>Survival_patient_died</th><th scope=col>Survival_time_to_last_response</th><th scope=col>Survival_at_6_months</th><th scope=col>Survival_at_12_months</th><th scope=col>Survival_at_18_months</th><th scope=col>clinical_age_at_treatment_start</th><th scope=col>clinical_biopsy_site</th><th scope=col>clinical_meta_consolidatedTreatmentType</th><th scope=col>clinical_meta_gender</th><th scope=col>...</th><th scope=col>clinical_meta_hasSystemicPreTreatment</th><th scope=col>clinical_meta_primaryTumorLocation</th><th scope=col>clinical_meta_primaryTumorType</th><th scope=col>clinical_meta_treatment</th><th scope=col>clinical_meta_tumorPurity</th><th scope=col>clinical_post_contains_Chemotherapy</th><th scope=col>clinical_post_contains_Hormonal</th><th scope=col>clinical_post_contains_Immunotherapy</th><th scope=col>clinical_post_contains_Targeted</th><th scope=col>clinical_pre_contains_Chemotherapy</th></tr></thead>\n",
       "<tbody>\n",
       "\t<tr><td>414          </td><td>1            </td><td>414          </td><td>1            </td><td>1            </td><td>0            </td><td>48           </td><td>other        </td><td>immunotherapy</td><td>1            </td><td>...          </td><td>1            </td><td>lung         </td><td>Carcinoma    </td><td>Nivolumab    </td><td>0.2          </td><td>0            </td><td>0            </td><td>True         </td><td>0            </td><td>1            </td></tr>\n",
       "</tbody>\n",
       "</table>\n"
      ],
      "text/latex": [
       "\\begin{tabular}{r|lllllllllllllllllllll}\n",
       " Survival\\_time\\_to\\_pfs\\_event & Survival\\_patient\\_died & Survival\\_time\\_to\\_last\\_response & Survival\\_at\\_6\\_months & Survival\\_at\\_12\\_months & Survival\\_at\\_18\\_months & clinical\\_age\\_at\\_treatment\\_start & clinical\\_biopsy\\_site & clinical\\_meta\\_consolidatedTreatmentType & clinical\\_meta\\_gender & ... & clinical\\_meta\\_hasSystemicPreTreatment & clinical\\_meta\\_primaryTumorLocation & clinical\\_meta\\_primaryTumorType & clinical\\_meta\\_treatment & clinical\\_meta\\_tumorPurity & clinical\\_post\\_contains\\_Chemotherapy & clinical\\_post\\_contains\\_Hormonal & clinical\\_post\\_contains\\_Immunotherapy & clinical\\_post\\_contains\\_Targeted & clinical\\_pre\\_contains\\_Chemotherapy\\\\\n",
       "\\hline\n",
       "\t 414           & 1             & 414           & 1             & 1             & 0             & 48            & other         & immunotherapy & 1             & ...           & 1             & lung          & Carcinoma     & Nivolumab     & 0.2           & 0             & 0             & True          & 0             & 1            \\\\\n",
       "\\end{tabular}\n"
      ],
      "text/markdown": [
       "\n",
       "| Survival_time_to_pfs_event | Survival_patient_died | Survival_time_to_last_response | Survival_at_6_months | Survival_at_12_months | Survival_at_18_months | clinical_age_at_treatment_start | clinical_biopsy_site | clinical_meta_consolidatedTreatmentType | clinical_meta_gender | ... | clinical_meta_hasSystemicPreTreatment | clinical_meta_primaryTumorLocation | clinical_meta_primaryTumorType | clinical_meta_treatment | clinical_meta_tumorPurity | clinical_post_contains_Chemotherapy | clinical_post_contains_Hormonal | clinical_post_contains_Immunotherapy | clinical_post_contains_Targeted | clinical_pre_contains_Chemotherapy |\n",
       "|---|---|---|---|---|---|---|---|---|---|---|---|---|---|---|---|---|---|---|---|---|\n",
       "| 414           | 1             | 414           | 1             | 1             | 0             | 48            | other         | immunotherapy | 1             | ...           | 1             | lung          | Carcinoma     | Nivolumab     | 0.2           | 0             | 0             | True          | 0             | 1             |\n",
       "\n"
      ],
      "text/plain": [
       "  Survival_time_to_pfs_event Survival_patient_died\n",
       "1 414                        1                    \n",
       "  Survival_time_to_last_response Survival_at_6_months Survival_at_12_months\n",
       "1 414                            1                    1                    \n",
       "  Survival_at_18_months clinical_age_at_treatment_start clinical_biopsy_site\n",
       "1 0                     48                              other               \n",
       "  clinical_meta_consolidatedTreatmentType clinical_meta_gender ...\n",
       "1 immunotherapy                           1                    ...\n",
       "  clinical_meta_hasSystemicPreTreatment clinical_meta_primaryTumorLocation\n",
       "1 1                                     lung                              \n",
       "  clinical_meta_primaryTumorType clinical_meta_treatment\n",
       "1 Carcinoma                      Nivolumab              \n",
       "  clinical_meta_tumorPurity clinical_post_contains_Chemotherapy\n",
       "1 0.2                       0                                  \n",
       "  clinical_post_contains_Hormonal clinical_post_contains_Immunotherapy\n",
       "1 0                               True                                \n",
       "  clinical_post_contains_Targeted clinical_pre_contains_Chemotherapy\n",
       "1 0                               1                                 "
      ]
     },
     "metadata": {},
     "output_type": "display_data"
    }
   ],
   "source": [
    "dim(biomarkers); head(biomarkers[10:30], 1)"
   ]
  },
  {
   "cell_type": "code",
   "execution_count": 8,
   "id": "2680e2ea",
   "metadata": {},
   "outputs": [
    {
     "data": {
      "text/html": [
       "<table>\n",
       "<thead><tr><th scope=col>column_types</th><th scope=col>ct</th></tr></thead>\n",
       "<tbody>\n",
       "\t<tr><td>somatic.gene     </td><td>19342            </td></tr>\n",
       "\t<tr><td>isofox.nr        </td><td>19253            </td></tr>\n",
       "\t<tr><td>isofox           </td><td>18768            </td></tr>\n",
       "\t<tr><td>cnv.region       </td><td> 2500            </td></tr>\n",
       "\t<tr><td>somatic          </td><td>   95            </td></tr>\n",
       "\t<tr><td>sig              </td><td>   78            </td></tr>\n",
       "\t<tr><td>cibersort        </td><td>   24            </td></tr>\n",
       "\t<tr><td>clinical         </td><td>   23            </td></tr>\n",
       "\t<tr><td>hla              </td><td>   22            </td></tr>\n",
       "\t<tr><td>isofox.pc        </td><td>   20            </td></tr>\n",
       "\t<tr><td>somatic.gene.pc  </td><td>   20            </td></tr>\n",
       "\t<tr><td>Survival         </td><td>    7            </td></tr>\n",
       "\t<tr><td>cnv              </td><td>    6            </td></tr>\n",
       "\t<tr><td>sv               </td><td>    6            </td></tr>\n",
       "\t<tr><td>somatic.pc       </td><td>    5            </td></tr>\n",
       "\t<tr><td>Y                </td><td>    4            </td></tr>\n",
       "\t<tr><td>driver           </td><td>    2            </td></tr>\n",
       "\t<tr><td>Filter           </td><td>    1            </td></tr>\n",
       "\t<tr><td>ID               </td><td>    1            </td></tr>\n",
       "\t<tr><td>patientIdentifier</td><td>    1            </td></tr>\n",
       "\t<tr><td>sampleId         </td><td>    1            </td></tr>\n",
       "</tbody>\n",
       "</table>\n"
      ],
      "text/latex": [
       "\\begin{tabular}{r|ll}\n",
       " column\\_types & ct\\\\\n",
       "\\hline\n",
       "\t somatic.gene      & 19342            \\\\\n",
       "\t isofox.nr         & 19253            \\\\\n",
       "\t isofox            & 18768            \\\\\n",
       "\t cnv.region        &  2500            \\\\\n",
       "\t somatic           &    95            \\\\\n",
       "\t sig               &    78            \\\\\n",
       "\t cibersort         &    24            \\\\\n",
       "\t clinical          &    23            \\\\\n",
       "\t hla               &    22            \\\\\n",
       "\t isofox.pc         &    20            \\\\\n",
       "\t somatic.gene.pc   &    20            \\\\\n",
       "\t Survival          &     7            \\\\\n",
       "\t cnv               &     6            \\\\\n",
       "\t sv                &     6            \\\\\n",
       "\t somatic.pc        &     5            \\\\\n",
       "\t Y                 &     4            \\\\\n",
       "\t driver            &     2            \\\\\n",
       "\t Filter            &     1            \\\\\n",
       "\t ID                &     1            \\\\\n",
       "\t patientIdentifier &     1            \\\\\n",
       "\t sampleId          &     1            \\\\\n",
       "\\end{tabular}\n"
      ],
      "text/markdown": [
       "\n",
       "| column_types | ct |\n",
       "|---|---|\n",
       "| somatic.gene      | 19342             |\n",
       "| isofox.nr         | 19253             |\n",
       "| isofox            | 18768             |\n",
       "| cnv.region        |  2500             |\n",
       "| somatic           |    95             |\n",
       "| sig               |    78             |\n",
       "| cibersort         |    24             |\n",
       "| clinical          |    23             |\n",
       "| hla               |    22             |\n",
       "| isofox.pc         |    20             |\n",
       "| somatic.gene.pc   |    20             |\n",
       "| Survival          |     7             |\n",
       "| cnv               |     6             |\n",
       "| sv                |     6             |\n",
       "| somatic.pc        |     5             |\n",
       "| Y                 |     4             |\n",
       "| driver            |     2             |\n",
       "| Filter            |     1             |\n",
       "| ID                |     1             |\n",
       "| patientIdentifier |     1             |\n",
       "| sampleId          |     1             |\n",
       "\n"
      ],
      "text/plain": [
       "   column_types      ct   \n",
       "1  somatic.gene      19342\n",
       "2  isofox.nr         19253\n",
       "3  isofox            18768\n",
       "4  cnv.region         2500\n",
       "5  somatic              95\n",
       "6  sig                  78\n",
       "7  cibersort            24\n",
       "8  clinical             23\n",
       "9  hla                  22\n",
       "10 isofox.pc            20\n",
       "11 somatic.gene.pc      20\n",
       "12 Survival              7\n",
       "13 cnv                   6\n",
       "14 sv                    6\n",
       "15 somatic.pc            5\n",
       "16 Y                     4\n",
       "17 driver                2\n",
       "18 Filter                1\n",
       "19 ID                    1\n",
       "20 patientIdentifier     1\n",
       "21 sampleId              1"
      ]
     },
     "metadata": {},
     "output_type": "display_data"
    }
   ],
   "source": [
    "col_types <- data.frame( \n",
    "    column_types = unlist(\n",
    "            lapply( colnames(biomarkers),\n",
    "                    function(i) strsplit(i,\"_\")[[1]][1]\n",
    "                   )))\n",
    "col_types %>% group_by(column_types) %>% summarise(ct = n()) %>% arrange(desc(ct))"
   ]
  },
  {
   "cell_type": "markdown",
   "id": "03d14959",
   "metadata": {},
   "source": [
    "### 0 - Drivers"
   ]
  },
  {
   "cell_type": "code",
   "execution_count": 27,
   "id": "d7c028aa",
   "metadata": {},
   "outputs": [],
   "source": [
    "drivers <- biomarkers %>% select(clinical_meta_consolidatedTreatmentType, clinical_meta_primaryTumorLocation, contains(\"driver\"))\n",
    "#head(drivers)"
   ]
  },
  {
   "cell_type": "code",
   "execution_count": 28,
   "id": "4e64a63c",
   "metadata": {},
   "outputs": [],
   "source": [
    "#summary(drivers \n",
    "#    %>% filter(clinical_meta_consolidatedTreatmentType == \"Immunotherapy\", \n",
    "#               clinical_meta_primaryTumorLocation == \"Skin\") \n",
    "#    %>% select( contains(c(\"KRAS\",\"CDKN2A\", \"NRAS\",\"EGFR\", \"BRAF\", \"MET\", \"HER2\", \"ALK\", \"RET\", \"ROS1\", \"NF1\")) )\n",
    "# )"
   ]
  },
  {
   "cell_type": "markdown",
   "id": "c67347e2",
   "metadata": {},
   "source": [
    "### 1 - Filter to CPI patients - Immune Biomarkers Project"
   ]
  },
  {
   "cell_type": "code",
   "execution_count": 20,
   "id": "05bbb7e9",
   "metadata": {},
   "outputs": [
    {
     "data": {
      "text/html": [
       "<ol class=list-inline>\n",
       "\t<li>496</li>\n",
       "\t<li>40644</li>\n",
       "</ol>\n"
      ],
      "text/latex": [
       "\\begin{enumerate*}\n",
       "\\item 496\n",
       "\\item 40644\n",
       "\\end{enumerate*}\n"
      ],
      "text/markdown": [
       "1. 496\n",
       "2. 40644\n",
       "\n",
       "\n"
      ],
      "text/plain": [
       "[1]   496 40644"
      ]
     },
     "metadata": {},
     "output_type": "display_data"
    }
   ],
   "source": [
    "cpi <- biomarkers %>% filter(clinical_post_contains_Immunotherapy == 'True'); dim(cpi)"
   ]
  },
  {
   "cell_type": "markdown",
   "id": "aa1631bf",
   "metadata": {},
   "source": [
    "### 2 - Filter to Prostate Patients and response + clinical and cibersort features"
   ]
  },
  {
   "cell_type": "code",
   "execution_count": 21,
   "id": "83bc62a3",
   "metadata": {
    "scrolled": true
   },
   "outputs": [],
   "source": [
    "prostate <- \n",
    "(biomarkers \n",
    "    %>% filter(clinical_meta_primaryTumorLocation == \"Prostate\") \n",
    "    %>% select(sampleId, \n",
    "               Y_best_response_binary, \n",
    "               (contains(\"Surv\")), \n",
    "               (contains(\"clinical\")),\n",
    "                contains(\"cibersort\")))"
   ]
  },
  {
   "cell_type": "code",
   "execution_count": 22,
   "id": "155915e8",
   "metadata": {},
   "outputs": [
    {
     "data": {
      "text/html": [
       "<ol class=list-inline>\n",
       "\t<li>313</li>\n",
       "\t<li>52</li>\n",
       "</ol>\n"
      ],
      "text/latex": [
       "\\begin{enumerate*}\n",
       "\\item 313\n",
       "\\item 52\n",
       "\\end{enumerate*}\n"
      ],
      "text/markdown": [
       "1. 313\n",
       "2. 52\n",
       "\n",
       "\n"
      ],
      "text/plain": [
       "[1] 313  52"
      ]
     },
     "metadata": {},
     "output_type": "display_data"
    },
    {
     "data": {
      "text/html": [
       "<table>\n",
       "<thead><tr><th scope=col>sampleId</th><th scope=col>Y_best_response_binary</th><th scope=col>Survival_patient_died</th><th scope=col>Survival_progression</th><th scope=col>Survival_time_to_death_in_days</th><th scope=col>Survival_time_to_last_response</th><th scope=col>Survival_time_to_progression</th><th scope=col>clinical_age_at_treatment_start</th><th scope=col>clinical_biopsy_site</th><th scope=col>clinical_meta_gender</th><th scope=col>...</th><th scope=col>cibersort_Macrophages.M1</th><th scope=col>cibersort_Macrophages.M2</th><th scope=col>cibersort_Dendritic.cells.resting</th><th scope=col>cibersort_Dendritic.cells.activated</th><th scope=col>cibersort_Mast.cells.resting</th><th scope=col>cibersort_Mast.cells.activated</th><th scope=col>cibersort_Eosinophils</th><th scope=col>cibersort_Neutrophils</th><th scope=col>cibersort_mix_r</th><th scope=col>cibersort_mix_rmse</th></tr></thead>\n",
       "<tbody>\n",
       "\t<tr><td>CPCT02020224TII</td><td>0              </td><td>1              </td><td>1              </td><td>117            </td><td>117            </td><td>117            </td><td>64             </td><td>other          </td><td>male           </td><td>...            </td><td>        NA     </td><td>       NA      </td><td>        NA     </td><td>        NA     </td><td>         NA    </td><td>NA             </td><td>NA             </td><td>         NA    </td><td>         NA    </td><td>       NA      </td></tr>\n",
       "\t<tr><td>CPCT02020378T  </td><td>0              </td><td>1              </td><td>1              </td><td>111            </td><td>111            </td><td> 62            </td><td>70             </td><td>other          </td><td>male           </td><td>...            </td><td>0.01392428     </td><td>0.2687489      </td><td>0.06041429     </td><td>0.01718199     </td><td>0.008218343    </td><td> 0             </td><td> 0             </td><td>0.005336025    </td><td>0.084062517    </td><td> 4.701353      </td></tr>\n",
       "\t<tr><td>CPCT02020380T  </td><td>0              </td><td>1              </td><td>1              </td><td>442            </td><td>442            </td><td> 44            </td><td>73             </td><td>lymph          </td><td>male           </td><td>...            </td><td>0.02395106     </td><td>0.1416252      </td><td>0.02487538     </td><td>0.00000000     </td><td>0.000000000    </td><td> 0             </td><td> 0             </td><td>0.006766372    </td><td>0.150740057    </td><td> 5.720984      </td></tr>\n",
       "\t<tr><td>CPCT02020386T  </td><td>0              </td><td>1              </td><td>1              </td><td> 75            </td><td> 75            </td><td> 56            </td><td>64             </td><td>liver          </td><td>male           </td><td>...            </td><td>        NA     </td><td>       NA      </td><td>        NA     </td><td>        NA     </td><td>         NA    </td><td>NA             </td><td>NA             </td><td>         NA    </td><td>         NA    </td><td>       NA      </td></tr>\n",
       "\t<tr><td>CPCT02020422T  </td><td>0              </td><td>1              </td><td>1              </td><td>102            </td><td>102            </td><td> 59            </td><td>73             </td><td>liver          </td><td>male           </td><td>...            </td><td>0.14347179     </td><td>0.1835066      </td><td>0.05752571     </td><td>0.06242263     </td><td>0.000000000    </td><td> 0             </td><td> 0             </td><td>0.000000000    </td><td>0.008366677    </td><td>25.570789      </td></tr>\n",
       "\t<tr><td>CPCT02020686T  </td><td>0              </td><td>0              </td><td>1              </td><td> NA            </td><td> 63            </td><td> 63            </td><td>69             </td><td>lymph          </td><td>male           </td><td>...            </td><td>0.01523946     </td><td>0.3521015      </td><td>0.08244609     </td><td>0.00000000     </td><td>0.040985698    </td><td> 0             </td><td> 0             </td><td>0.037026754    </td><td>0.025450099    </td><td> 4.144207      </td></tr>\n",
       "</tbody>\n",
       "</table>\n"
      ],
      "text/latex": [
       "\\begin{tabular}{r|llllllllllllllllllllllllllllllllllllllllllllllllllll}\n",
       " sampleId & Y\\_best\\_response\\_binary & Survival\\_patient\\_died & Survival\\_progression & Survival\\_time\\_to\\_death\\_in\\_days & Survival\\_time\\_to\\_last\\_response & Survival\\_time\\_to\\_progression & clinical\\_age\\_at\\_treatment\\_start & clinical\\_biopsy\\_site & clinical\\_meta\\_gender & ... & cibersort\\_Macrophages.M1 & cibersort\\_Macrophages.M2 & cibersort\\_Dendritic.cells.resting & cibersort\\_Dendritic.cells.activated & cibersort\\_Mast.cells.resting & cibersort\\_Mast.cells.activated & cibersort\\_Eosinophils & cibersort\\_Neutrophils & cibersort\\_mix\\_r & cibersort\\_mix\\_rmse\\\\\n",
       "\\hline\n",
       "\t CPCT02020224TII & 0               & 1               & 1               & 117             & 117             & 117             & 64              & other           & male            & ...             &         NA      &        NA       &         NA      &         NA      &          NA     & NA              & NA              &          NA     &          NA     &        NA      \\\\\n",
       "\t CPCT02020378T   & 0               & 1               & 1               & 111             & 111             &  62             & 70              & other           & male            & ...             & 0.01392428      & 0.2687489       & 0.06041429      & 0.01718199      & 0.008218343     &  0              &  0              & 0.005336025     & 0.084062517     &  4.701353      \\\\\n",
       "\t CPCT02020380T   & 0               & 1               & 1               & 442             & 442             &  44             & 73              & lymph           & male            & ...             & 0.02395106      & 0.1416252       & 0.02487538      & 0.00000000      & 0.000000000     &  0              &  0              & 0.006766372     & 0.150740057     &  5.720984      \\\\\n",
       "\t CPCT02020386T   & 0               & 1               & 1               &  75             &  75             &  56             & 64              & liver           & male            & ...             &         NA      &        NA       &         NA      &         NA      &          NA     & NA              & NA              &          NA     &          NA     &        NA      \\\\\n",
       "\t CPCT02020422T   & 0               & 1               & 1               & 102             & 102             &  59             & 73              & liver           & male            & ...             & 0.14347179      & 0.1835066       & 0.05752571      & 0.06242263      & 0.000000000     &  0              &  0              & 0.000000000     & 0.008366677     & 25.570789      \\\\\n",
       "\t CPCT02020686T   & 0               & 0               & 1               &  NA             &  63             &  63             & 69              & lymph           & male            & ...             & 0.01523946      & 0.3521015       & 0.08244609      & 0.00000000      & 0.040985698     &  0              &  0              & 0.037026754     & 0.025450099     &  4.144207      \\\\\n",
       "\\end{tabular}\n"
      ],
      "text/markdown": [
       "\n",
       "| sampleId | Y_best_response_binary | Survival_patient_died | Survival_progression | Survival_time_to_death_in_days | Survival_time_to_last_response | Survival_time_to_progression | clinical_age_at_treatment_start | clinical_biopsy_site | clinical_meta_gender | ... | cibersort_Macrophages.M1 | cibersort_Macrophages.M2 | cibersort_Dendritic.cells.resting | cibersort_Dendritic.cells.activated | cibersort_Mast.cells.resting | cibersort_Mast.cells.activated | cibersort_Eosinophils | cibersort_Neutrophils | cibersort_mix_r | cibersort_mix_rmse |\n",
       "|---|---|---|---|---|---|---|---|---|---|---|---|---|---|---|---|---|---|---|---|---|\n",
       "| CPCT02020224TII | 0               | 1               | 1               | 117             | 117             | 117             | 64              | other           | male            | ...             |         NA      |        NA       |         NA      |         NA      |          NA     | NA              | NA              |          NA     |          NA     |        NA       |\n",
       "| CPCT02020378T   | 0               | 1               | 1               | 111             | 111             |  62             | 70              | other           | male            | ...             | 0.01392428      | 0.2687489       | 0.06041429      | 0.01718199      | 0.008218343     |  0              |  0              | 0.005336025     | 0.084062517     |  4.701353       |\n",
       "| CPCT02020380T   | 0               | 1               | 1               | 442             | 442             |  44             | 73              | lymph           | male            | ...             | 0.02395106      | 0.1416252       | 0.02487538      | 0.00000000      | 0.000000000     |  0              |  0              | 0.006766372     | 0.150740057     |  5.720984       |\n",
       "| CPCT02020386T   | 0               | 1               | 1               |  75             |  75             |  56             | 64              | liver           | male            | ...             |         NA      |        NA       |         NA      |         NA      |          NA     | NA              | NA              |          NA     |          NA     |        NA       |\n",
       "| CPCT02020422T   | 0               | 1               | 1               | 102             | 102             |  59             | 73              | liver           | male            | ...             | 0.14347179      | 0.1835066       | 0.05752571      | 0.06242263      | 0.000000000     |  0              |  0              | 0.000000000     | 0.008366677     | 25.570789       |\n",
       "| CPCT02020686T   | 0               | 0               | 1               |  NA             |  63             |  63             | 69              | lymph           | male            | ...             | 0.01523946      | 0.3521015       | 0.08244609      | 0.00000000      | 0.040985698     |  0              |  0              | 0.037026754     | 0.025450099     |  4.144207       |\n",
       "\n"
      ],
      "text/plain": [
       "  sampleId        Y_best_response_binary Survival_patient_died\n",
       "1 CPCT02020224TII 0                      1                    \n",
       "2 CPCT02020378T   0                      1                    \n",
       "3 CPCT02020380T   0                      1                    \n",
       "4 CPCT02020386T   0                      1                    \n",
       "5 CPCT02020422T   0                      1                    \n",
       "6 CPCT02020686T   0                      0                    \n",
       "  Survival_progression Survival_time_to_death_in_days\n",
       "1 1                    117                           \n",
       "2 1                    111                           \n",
       "3 1                    442                           \n",
       "4 1                     75                           \n",
       "5 1                    102                           \n",
       "6 1                     NA                           \n",
       "  Survival_time_to_last_response Survival_time_to_progression\n",
       "1 117                            117                         \n",
       "2 111                             62                         \n",
       "3 442                             44                         \n",
       "4  75                             56                         \n",
       "5 102                             59                         \n",
       "6  63                             63                         \n",
       "  clinical_age_at_treatment_start clinical_biopsy_site clinical_meta_gender ...\n",
       "1 64                              other                male                 ...\n",
       "2 70                              other                male                 ...\n",
       "3 73                              lymph                male                 ...\n",
       "4 64                              liver                male                 ...\n",
       "5 73                              liver                male                 ...\n",
       "6 69                              lymph                male                 ...\n",
       "  cibersort_Macrophages.M1 cibersort_Macrophages.M2\n",
       "1         NA                      NA               \n",
       "2 0.01392428               0.2687489               \n",
       "3 0.02395106               0.1416252               \n",
       "4         NA                      NA               \n",
       "5 0.14347179               0.1835066               \n",
       "6 0.01523946               0.3521015               \n",
       "  cibersort_Dendritic.cells.resting cibersort_Dendritic.cells.activated\n",
       "1         NA                                NA                         \n",
       "2 0.06041429                        0.01718199                         \n",
       "3 0.02487538                        0.00000000                         \n",
       "4         NA                                NA                         \n",
       "5 0.05752571                        0.06242263                         \n",
       "6 0.08244609                        0.00000000                         \n",
       "  cibersort_Mast.cells.resting cibersort_Mast.cells.activated\n",
       "1          NA                  NA                            \n",
       "2 0.008218343                   0                            \n",
       "3 0.000000000                   0                            \n",
       "4          NA                  NA                            \n",
       "5 0.000000000                   0                            \n",
       "6 0.040985698                   0                            \n",
       "  cibersort_Eosinophils cibersort_Neutrophils cibersort_mix_r\n",
       "1 NA                             NA                    NA    \n",
       "2  0                    0.005336025           0.084062517    \n",
       "3  0                    0.006766372           0.150740057    \n",
       "4 NA                             NA                    NA    \n",
       "5  0                    0.000000000           0.008366677    \n",
       "6  0                    0.037026754           0.025450099    \n",
       "  cibersort_mix_rmse\n",
       "1        NA         \n",
       "2  4.701353         \n",
       "3  5.720984         \n",
       "4        NA         \n",
       "5 25.570789         \n",
       "6  4.144207         "
      ]
     },
     "metadata": {},
     "output_type": "display_data"
    }
   ],
   "source": [
    "dim(prostate); head(prostate)"
   ]
  },
  {
   "cell_type": "markdown",
   "id": "fa91fa4a",
   "metadata": {},
   "source": [
    "### 3 - Get chemotherapy patients, with response and gene set expression"
   ]
  },
  {
   "cell_type": "code",
   "execution_count": 23,
   "id": "36561d0f",
   "metadata": {},
   "outputs": [
    {
     "data": {
      "text/html": [
       "<table>\n",
       "<thead><tr><th scope=col>sampleId</th><th scope=col>clinical_meta_primaryTumorLocation</th><th scope=col>Y_best_response_binary</th><th scope=col>Survival_progression</th><th scope=col>Survival_time_to_progression</th><th scope=col>isofox_gene_set_cyt</th><th scope=col>isofox_gene_set_t_cell_gep_6</th><th scope=col>isofox_gene_set_t_cel_gep_10</th><th scope=col>isofox_gene_set_t_cell_gep_18</th><th scope=col>isofox_gene_set_prolif.</th><th scope=col>...</th><th scope=col>somatic.gene_SETD4.mutations</th><th scope=col>somatic.gene_SETD6.mutations</th><th scope=col>somatic.gene_SETMAR.mutations</th><th scope=col>somatic.gene_SETD1B.mutations</th><th scope=col>somatic.gene_SETBP1.mutations</th><th scope=col>somatic.gene_SETX.mutations</th><th scope=col>somatic.gene_SETD2.mutations</th><th scope=col>somatic.gene_SETD5.mutations</th><th scope=col>somatic.gene_SETDB2.mutations</th><th scope=col>somatic.gene_SETD1A.mutations</th></tr></thead>\n",
       "<tbody>\n",
       "\t<tr><td>CPCT02011035T</td><td>Lung         </td><td>0            </td><td>1            </td><td>45           </td><td>0.9231200    </td><td>2.2570049    </td><td>1.7056539    </td><td>1.8997466    </td><td>2.621186     </td><td>...          </td><td>0            </td><td>0            </td><td>0            </td><td>0            </td><td>3            </td><td>1            </td><td>0            </td><td>0            </td><td>0            </td><td>0            </td></tr>\n",
       "\t<tr><td>CPCT02011047T</td><td>Lung         </td><td>0            </td><td>1            </td><td>39           </td><td>0.7059537    </td><td>2.1631151    </td><td>1.6081289    </td><td>1.7847269    </td><td>1.658841     </td><td>...          </td><td>0            </td><td>0            </td><td>0            </td><td>0            </td><td>7            </td><td>0            </td><td>0            </td><td>0            </td><td>0            </td><td>0            </td></tr>\n",
       "\t<tr><td>CPCT02030294T</td><td>Head and neck</td><td>0            </td><td>1            </td><td>62           </td><td>0.2881818    </td><td>2.1428328    </td><td>1.5585975    </td><td>1.5189376    </td><td>2.426667     </td><td>...          </td><td>0            </td><td>0            </td><td>0            </td><td>0            </td><td>2            </td><td>0            </td><td>0            </td><td>0            </td><td>1            </td><td>0            </td></tr>\n",
       "\t<tr><td>CPCT02040039T</td><td>Lung         </td><td>0            </td><td>1            </td><td>70           </td><td>0.1595295    </td><td>0.9142088    </td><td>0.6026335    </td><td>0.7766371    </td><td>1.196729     </td><td>...          </td><td>0            </td><td>0            </td><td>0            </td><td>0            </td><td>6            </td><td>0            </td><td>0            </td><td>0            </td><td>1            </td><td>0            </td></tr>\n",
       "\t<tr><td>CPCT02040216T</td><td>Lung         </td><td>0            </td><td>1            </td><td>84           </td><td>0.3218165    </td><td>1.8098092    </td><td>1.2774540    </td><td>1.6368080    </td><td>1.199122     </td><td>...          </td><td>0            </td><td>0            </td><td>0            </td><td>0            </td><td>0            </td><td>0            </td><td>0            </td><td>0            </td><td>0            </td><td>0            </td></tr>\n",
       "\t<tr><td>CPCT02060092T</td><td>Skin         </td><td>0            </td><td>1            </td><td>64           </td><td>2.2910122    </td><td>3.8102067    </td><td>3.1570836    </td><td>2.7687624    </td><td>1.872390     </td><td>...          </td><td>0            </td><td>0            </td><td>0            </td><td>0            </td><td>0            </td><td>0            </td><td>0            </td><td>0            </td><td>0            </td><td>0            </td></tr>\n",
       "</tbody>\n",
       "</table>\n"
      ],
      "text/latex": [
       "\\begin{tabular}{r|llllllllllllllllllllllllllllllllllllllllllllllllllllllll}\n",
       " sampleId & clinical\\_meta\\_primaryTumorLocation & Y\\_best\\_response\\_binary & Survival\\_progression & Survival\\_time\\_to\\_progression & isofox\\_gene\\_set\\_cyt & isofox\\_gene\\_set\\_t\\_cell\\_gep\\_6 & isofox\\_gene\\_set\\_t\\_cel\\_gep\\_10 & isofox\\_gene\\_set\\_t\\_cell\\_gep\\_18 & isofox\\_gene\\_set\\_prolif. & ... & somatic.gene\\_SETD4.mutations & somatic.gene\\_SETD6.mutations & somatic.gene\\_SETMAR.mutations & somatic.gene\\_SETD1B.mutations & somatic.gene\\_SETBP1.mutations & somatic.gene\\_SETX.mutations & somatic.gene\\_SETD2.mutations & somatic.gene\\_SETD5.mutations & somatic.gene\\_SETDB2.mutations & somatic.gene\\_SETD1A.mutations\\\\\n",
       "\\hline\n",
       "\t CPCT02011035T & Lung          & 0             & 1             & 45            & 0.9231200     & 2.2570049     & 1.7056539     & 1.8997466     & 2.621186      & ...           & 0             & 0             & 0             & 0             & 3             & 1             & 0             & 0             & 0             & 0            \\\\\n",
       "\t CPCT02011047T & Lung          & 0             & 1             & 39            & 0.7059537     & 2.1631151     & 1.6081289     & 1.7847269     & 1.658841      & ...           & 0             & 0             & 0             & 0             & 7             & 0             & 0             & 0             & 0             & 0            \\\\\n",
       "\t CPCT02030294T & Head and neck & 0             & 1             & 62            & 0.2881818     & 2.1428328     & 1.5585975     & 1.5189376     & 2.426667      & ...           & 0             & 0             & 0             & 0             & 2             & 0             & 0             & 0             & 1             & 0            \\\\\n",
       "\t CPCT02040039T & Lung          & 0             & 1             & 70            & 0.1595295     & 0.9142088     & 0.6026335     & 0.7766371     & 1.196729      & ...           & 0             & 0             & 0             & 0             & 6             & 0             & 0             & 0             & 1             & 0            \\\\\n",
       "\t CPCT02040216T & Lung          & 0             & 1             & 84            & 0.3218165     & 1.8098092     & 1.2774540     & 1.6368080     & 1.199122      & ...           & 0             & 0             & 0             & 0             & 0             & 0             & 0             & 0             & 0             & 0            \\\\\n",
       "\t CPCT02060092T & Skin          & 0             & 1             & 64            & 2.2910122     & 3.8102067     & 3.1570836     & 2.7687624     & 1.872390      & ...           & 0             & 0             & 0             & 0             & 0             & 0             & 0             & 0             & 0             & 0            \\\\\n",
       "\\end{tabular}\n"
      ],
      "text/markdown": [
       "\n",
       "| sampleId | clinical_meta_primaryTumorLocation | Y_best_response_binary | Survival_progression | Survival_time_to_progression | isofox_gene_set_cyt | isofox_gene_set_t_cell_gep_6 | isofox_gene_set_t_cel_gep_10 | isofox_gene_set_t_cell_gep_18 | isofox_gene_set_prolif. | ... | somatic.gene_SETD4.mutations | somatic.gene_SETD6.mutations | somatic.gene_SETMAR.mutations | somatic.gene_SETD1B.mutations | somatic.gene_SETBP1.mutations | somatic.gene_SETX.mutations | somatic.gene_SETD2.mutations | somatic.gene_SETD5.mutations | somatic.gene_SETDB2.mutations | somatic.gene_SETD1A.mutations |\n",
       "|---|---|---|---|---|---|---|---|---|---|---|---|---|---|---|---|---|---|---|---|---|\n",
       "| CPCT02011035T | Lung          | 0             | 1             | 45            | 0.9231200     | 2.2570049     | 1.7056539     | 1.8997466     | 2.621186      | ...           | 0             | 0             | 0             | 0             | 3             | 1             | 0             | 0             | 0             | 0             |\n",
       "| CPCT02011047T | Lung          | 0             | 1             | 39            | 0.7059537     | 2.1631151     | 1.6081289     | 1.7847269     | 1.658841      | ...           | 0             | 0             | 0             | 0             | 7             | 0             | 0             | 0             | 0             | 0             |\n",
       "| CPCT02030294T | Head and neck | 0             | 1             | 62            | 0.2881818     | 2.1428328     | 1.5585975     | 1.5189376     | 2.426667      | ...           | 0             | 0             | 0             | 0             | 2             | 0             | 0             | 0             | 1             | 0             |\n",
       "| CPCT02040039T | Lung          | 0             | 1             | 70            | 0.1595295     | 0.9142088     | 0.6026335     | 0.7766371     | 1.196729      | ...           | 0             | 0             | 0             | 0             | 6             | 0             | 0             | 0             | 1             | 0             |\n",
       "| CPCT02040216T | Lung          | 0             | 1             | 84            | 0.3218165     | 1.8098092     | 1.2774540     | 1.6368080     | 1.199122      | ...           | 0             | 0             | 0             | 0             | 0             | 0             | 0             | 0             | 0             | 0             |\n",
       "| CPCT02060092T | Skin          | 0             | 1             | 64            | 2.2910122     | 3.8102067     | 3.1570836     | 2.7687624     | 1.872390      | ...           | 0             | 0             | 0             | 0             | 0             | 0             | 0             | 0             | 0             | 0             |\n",
       "\n"
      ],
      "text/plain": [
       "  sampleId      clinical_meta_primaryTumorLocation Y_best_response_binary\n",
       "1 CPCT02011035T Lung                               0                     \n",
       "2 CPCT02011047T Lung                               0                     \n",
       "3 CPCT02030294T Head and neck                      0                     \n",
       "4 CPCT02040039T Lung                               0                     \n",
       "5 CPCT02040216T Lung                               0                     \n",
       "6 CPCT02060092T Skin                               0                     \n",
       "  Survival_progression Survival_time_to_progression isofox_gene_set_cyt\n",
       "1 1                    45                           0.9231200          \n",
       "2 1                    39                           0.7059537          \n",
       "3 1                    62                           0.2881818          \n",
       "4 1                    70                           0.1595295          \n",
       "5 1                    84                           0.3218165          \n",
       "6 1                    64                           2.2910122          \n",
       "  isofox_gene_set_t_cell_gep_6 isofox_gene_set_t_cel_gep_10\n",
       "1 2.2570049                    1.7056539                   \n",
       "2 2.1631151                    1.6081289                   \n",
       "3 2.1428328                    1.5585975                   \n",
       "4 0.9142088                    0.6026335                   \n",
       "5 1.8098092                    1.2774540                   \n",
       "6 3.8102067                    3.1570836                   \n",
       "  isofox_gene_set_t_cell_gep_18 isofox_gene_set_prolif. ...\n",
       "1 1.8997466                     2.621186                ...\n",
       "2 1.7847269                     1.658841                ...\n",
       "3 1.5189376                     2.426667                ...\n",
       "4 0.7766371                     1.196729                ...\n",
       "5 1.6368080                     1.199122                ...\n",
       "6 2.7687624                     1.872390                ...\n",
       "  somatic.gene_SETD4.mutations somatic.gene_SETD6.mutations\n",
       "1 0                            0                           \n",
       "2 0                            0                           \n",
       "3 0                            0                           \n",
       "4 0                            0                           \n",
       "5 0                            0                           \n",
       "6 0                            0                           \n",
       "  somatic.gene_SETMAR.mutations somatic.gene_SETD1B.mutations\n",
       "1 0                             0                            \n",
       "2 0                             0                            \n",
       "3 0                             0                            \n",
       "4 0                             0                            \n",
       "5 0                             0                            \n",
       "6 0                             0                            \n",
       "  somatic.gene_SETBP1.mutations somatic.gene_SETX.mutations\n",
       "1 3                             1                          \n",
       "2 7                             0                          \n",
       "3 2                             0                          \n",
       "4 6                             0                          \n",
       "5 0                             0                          \n",
       "6 0                             0                          \n",
       "  somatic.gene_SETD2.mutations somatic.gene_SETD5.mutations\n",
       "1 0                            0                           \n",
       "2 0                            0                           \n",
       "3 0                            0                           \n",
       "4 0                            0                           \n",
       "5 0                            0                           \n",
       "6 0                            0                           \n",
       "  somatic.gene_SETDB2.mutations somatic.gene_SETD1A.mutations\n",
       "1 0                             0                            \n",
       "2 0                             0                            \n",
       "3 1                             0                            \n",
       "4 1                             0                            \n",
       "5 0                             0                            \n",
       "6 0                             0                            "
      ]
     },
     "metadata": {},
     "output_type": "display_data"
    }
   ],
   "source": [
    "(biomarkers \n",
    "    %>% filter(clinical_post_contains_Chemotherapy == \"True\") \n",
    "    %>% select(sampleId, \n",
    "               clinical_meta_primaryTumorLocation,\n",
    "               Y_best_response_binary, \n",
    "               Survival_progression, \n",
    "               Survival_time_to_progression,\n",
    "               contains(\"gene_set\"))\n",
    "    %>% drop_na(isofox_gene_set_cyt)\n",
    "    %>% head())"
   ]
  }
 ],
 "metadata": {
  "kernelspec": {
   "display_name": "R",
   "language": "R",
   "name": "ir"
  },
  "language_info": {
   "codemirror_mode": "r",
   "file_extension": ".r",
   "mimetype": "text/x-r-source",
   "name": "R",
   "pygments_lexer": "r",
   "version": "3.6.1"
  }
 },
 "nbformat": 4,
 "nbformat_minor": 5
}
