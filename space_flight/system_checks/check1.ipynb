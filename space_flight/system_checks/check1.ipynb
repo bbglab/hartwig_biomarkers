{
 "cells": [
  {
   "cell_type": "code",
   "execution_count": 5,
   "id": "0a178f5c",
   "metadata": {},
   "outputs": [],
   "source": [
    "mission_control = \"/workspace/projects/hartwig/biomarkers/pipeline/20211021/mission_control/\"\n",
    "source(paste0(mission_control,\"treasure_map.R\"))\n",
    "library(dplyr)"
   ]
  },
  {
   "cell_type": "code",
   "execution_count": 13,
   "id": "09e13d1d",
   "metadata": {},
   "outputs": [
    {
     "data": {
      "text/html": [
       "'/workspace/datasets/hartwig/20211021/biomarkers/tmp/'"
      ],
      "text/latex": [
       "'/workspace/datasets/hartwig/20211021/biomarkers/tmp/'"
      ],
      "text/markdown": [
       "'/workspace/datasets/hartwig/20211021/biomarkers/tmp/'"
      ],
      "text/plain": [
       "[1] \"/workspace/datasets/hartwig/20211021/biomarkers/tmp/\""
      ]
     },
     "metadata": {},
     "output_type": "display_data"
    }
   ],
   "source": [
    "tmp_dir"
   ]
  },
  {
   "cell_type": "code",
   "execution_count": 6,
   "id": "d8e018cc",
   "metadata": {},
   "outputs": [],
   "source": [
    "get_df <- function(name){\n",
    "    read.csv(paste0(tmp_dir, name), header = TRUE, sep = \",\", stringsAsFactors = FALSE)\n",
    "}"
   ]
  },
  {
   "cell_type": "code",
   "execution_count": 4,
   "id": "3e89642b",
   "metadata": {},
   "outputs": [],
   "source": [
    "setwd(tmp_dir)"
   ]
  },
  {
   "cell_type": "code",
   "execution_count": 5,
   "id": "31c4656e",
   "metadata": {},
   "outputs": [
    {
     "data": {
      "text/html": [
       "<ol class=list-inline>\n",
       "\t<li>'cibersort_features.csv'</li>\n",
       "\t<li>'clinical_short_de_dup.csv'</li>\n",
       "\t<li>'clinical_short.csv'</li>\n",
       "\t<li>'cnv_features.csv'</li>\n",
       "\t<li>'cnv_gene_features.csv'</li>\n",
       "\t<li>'hla_features.csv'</li>\n",
       "\t<li>'isofox_AdjTPM.csv'</li>\n",
       "\t<li>'isofox_full_RawTPM.csv'</li>\n",
       "\t<li>'isofox_RawTPM.csv'</li>\n",
       "\t<li>'lilac_features.csv'</li>\n",
       "\t<li>'neoepitope_features.csv'</li>\n",
       "\t<li>'sigs'</li>\n",
       "\t<li>'somatic_features.csv'</li>\n",
       "\t<li>'summary_features.csv'</li>\n",
       "\t<li>'sv_features.csv'</li>\n",
       "</ol>\n"
      ],
      "text/latex": [
       "\\begin{enumerate*}\n",
       "\\item 'cibersort\\_features.csv'\n",
       "\\item 'clinical\\_short\\_de\\_dup.csv'\n",
       "\\item 'clinical\\_short.csv'\n",
       "\\item 'cnv\\_features.csv'\n",
       "\\item 'cnv\\_gene\\_features.csv'\n",
       "\\item 'hla\\_features.csv'\n",
       "\\item 'isofox\\_AdjTPM.csv'\n",
       "\\item 'isofox\\_full\\_RawTPM.csv'\n",
       "\\item 'isofox\\_RawTPM.csv'\n",
       "\\item 'lilac\\_features.csv'\n",
       "\\item 'neoepitope\\_features.csv'\n",
       "\\item 'sigs'\n",
       "\\item 'somatic\\_features.csv'\n",
       "\\item 'summary\\_features.csv'\n",
       "\\item 'sv\\_features.csv'\n",
       "\\end{enumerate*}\n"
      ],
      "text/markdown": [
       "1. 'cibersort_features.csv'\n",
       "2. 'clinical_short_de_dup.csv'\n",
       "3. 'clinical_short.csv'\n",
       "4. 'cnv_features.csv'\n",
       "5. 'cnv_gene_features.csv'\n",
       "6. 'hla_features.csv'\n",
       "7. 'isofox_AdjTPM.csv'\n",
       "8. 'isofox_full_RawTPM.csv'\n",
       "9. 'isofox_RawTPM.csv'\n",
       "10. 'lilac_features.csv'\n",
       "11. 'neoepitope_features.csv'\n",
       "12. 'sigs'\n",
       "13. 'somatic_features.csv'\n",
       "14. 'summary_features.csv'\n",
       "15. 'sv_features.csv'\n",
       "\n",
       "\n"
      ],
      "text/plain": [
       " [1] \"cibersort_features.csv\"    \"clinical_short_de_dup.csv\"\n",
       " [3] \"clinical_short.csv\"        \"cnv_features.csv\"         \n",
       " [5] \"cnv_gene_features.csv\"     \"hla_features.csv\"         \n",
       " [7] \"isofox_AdjTPM.csv\"         \"isofox_full_RawTPM.csv\"   \n",
       " [9] \"isofox_RawTPM.csv\"         \"lilac_features.csv\"       \n",
       "[11] \"neoepitope_features.csv\"   \"sigs\"                     \n",
       "[13] \"somatic_features.csv\"      \"summary_features.csv\"     \n",
       "[15] \"sv_features.csv\"          "
      ]
     },
     "metadata": {},
     "output_type": "display_data"
    }
   ],
   "source": [
    "list.files()"
   ]
  },
  {
   "cell_type": "code",
   "execution_count": 11,
   "id": "24761622",
   "metadata": {},
   "outputs": [],
   "source": [
    "dd <- read.csv(\"/home/jusset/immune_biomarkers/hartwig_pipeline/data/somatic_features.csv\",header=TRUE,sep=\",\",stringsAsFactors=FALSE)"
   ]
  },
  {
   "cell_type": "code",
   "execution_count": 12,
   "id": "70648291",
   "metadata": {},
   "outputs": [
    {
     "data": {
      "text/html": [
       "<ol class=list-inline>\n",
       "\t<li>3101</li>\n",
       "\t<li>472</li>\n",
       "</ol>\n"
      ],
      "text/latex": [
       "\\begin{enumerate*}\n",
       "\\item 3101\n",
       "\\item 472\n",
       "\\end{enumerate*}\n"
      ],
      "text/markdown": [
       "1. 3101\n",
       "2. 472\n",
       "\n",
       "\n"
      ],
      "text/plain": [
       "[1] 3101  472"
      ]
     },
     "metadata": {},
     "output_type": "display_data"
    }
   ],
   "source": [
    "dim(dd)"
   ]
  },
  {
   "cell_type": "code",
   "execution_count": 8,
   "id": "3dd5c39b",
   "metadata": {},
   "outputs": [
    {
     "data": {
      "text/html": [
       "<ol class=list-inline>\n",
       "\t<li>3101</li>\n",
       "\t<li>79</li>\n",
       "</ol>\n"
      ],
      "text/latex": [
       "\\begin{enumerate*}\n",
       "\\item 3101\n",
       "\\item 79\n",
       "\\end{enumerate*}\n"
      ],
      "text/markdown": [
       "1. 3101\n",
       "2. 79\n",
       "\n",
       "\n"
      ],
      "text/plain": [
       "[1] 3101   79"
      ]
     },
     "metadata": {},
     "output_type": "display_data"
    }
   ],
   "source": [
    "sigs <- get_df('sigs_features.csv'); dim(sigs)"
   ]
  },
  {
   "cell_type": "code",
   "execution_count": 9,
   "id": "f58335bf",
   "metadata": {},
   "outputs": [
    {
     "data": {
      "text/html": [
       "<ol class=list-inline>\n",
       "\t<li>3002</li>\n",
       "\t<li>129</li>\n",
       "</ol>\n"
      ],
      "text/latex": [
       "\\begin{enumerate*}\n",
       "\\item 3002\n",
       "\\item 129\n",
       "\\end{enumerate*}\n"
      ],
      "text/markdown": [
       "1. 3002\n",
       "2. 129\n",
       "\n",
       "\n"
      ],
      "text/plain": [
       "[1] 3002  129"
      ]
     },
     "metadata": {},
     "output_type": "display_data"
    }
   ],
   "source": [
    "drivers <- get_df('driver_features.csv'); dim(drivers)"
   ]
  },
  {
   "cell_type": "code",
   "execution_count": 10,
   "id": "77f0529b",
   "metadata": {},
   "outputs": [
    {
     "data": {
      "text/html": [
       "<table>\n",
       "<thead><tr><th scope=col>sampleId</th><th scope=col>driver_TP53_MUTATION</th><th scope=col>driver_CDKN2A_DEL</th><th scope=col>driver_PIK3CA_MUTATION</th><th scope=col>driver_TERT_MUTATION</th><th scope=col>driver_KRAS_MUTATION</th><th scope=col>driver_APC_MUTATION</th><th scope=col>driver_PTEN_DEL</th><th scope=col>driver_BRAF_MUTATION</th><th scope=col>driver_MYC_AMP</th><th scope=col>...</th><th scope=col>driver_SPOP_AMP</th><th scope=col>driver_B2M_MUTATION</th><th scope=col>driver_BRCA2_DEL</th><th scope=col>driver_FOXA1_AMP</th><th scope=col>driver_HIST2H3D_AMP</th><th scope=col>driver_HRAS_MUTATION</th><th scope=col>driver_TGFBR2_DEL</th><th scope=col>driver_TMPRSS2_DEL</th><th scope=col>driver_TPTE_DEL</th><th scope=col>driver_VEGFA_AMP</th></tr></thead>\n",
       "<tbody>\n",
       "\t<tr><td>CPCT02010003T</td><td>0            </td><td>0            </td><td>0            </td><td>0            </td><td>0            </td><td>0            </td><td>0            </td><td>0            </td><td>0            </td><td>...          </td><td>0            </td><td>0            </td><td>0            </td><td>0            </td><td>0            </td><td>0            </td><td>0            </td><td>0            </td><td>0            </td><td>0            </td></tr>\n",
       "\t<tr><td>CPCT02010022T</td><td>1            </td><td>1            </td><td>0            </td><td>0            </td><td>0            </td><td>0            </td><td>0            </td><td>0            </td><td>0            </td><td>...          </td><td>0            </td><td>0            </td><td>0            </td><td>0            </td><td>0            </td><td>0            </td><td>0            </td><td>0            </td><td>0            </td><td>0            </td></tr>\n",
       "\t<tr><td>CPCT02010031T</td><td>0            </td><td>0            </td><td>0            </td><td>0            </td><td>0            </td><td>0            </td><td>0            </td><td>0            </td><td>0            </td><td>...          </td><td>0            </td><td>0            </td><td>0            </td><td>0            </td><td>0            </td><td>0            </td><td>0            </td><td>0            </td><td>0            </td><td>0            </td></tr>\n",
       "\t<tr><td>CPCT02010035T</td><td>1            </td><td>0            </td><td>0            </td><td>0            </td><td>0            </td><td>0            </td><td>0            </td><td>0            </td><td>0            </td><td>...          </td><td>0            </td><td>1            </td><td>0            </td><td>0            </td><td>0            </td><td>0            </td><td>0            </td><td>0            </td><td>0            </td><td>0            </td></tr>\n",
       "\t<tr><td>CPCT02010037T</td><td>0            </td><td>1            </td><td>0            </td><td>0            </td><td>1            </td><td>0            </td><td>0            </td><td>0            </td><td>0            </td><td>...          </td><td>0            </td><td>0            </td><td>0            </td><td>0            </td><td>0            </td><td>0            </td><td>0            </td><td>0            </td><td>0            </td><td>0            </td></tr>\n",
       "\t<tr><td>CPCT02010043T</td><td>0            </td><td>0            </td><td>1            </td><td>0            </td><td>1            </td><td>0            </td><td>0            </td><td>0            </td><td>0            </td><td>...          </td><td>0            </td><td>0            </td><td>0            </td><td>0            </td><td>0            </td><td>0            </td><td>0            </td><td>0            </td><td>0            </td><td>0            </td></tr>\n",
       "</tbody>\n",
       "</table>\n"
      ],
      "text/latex": [
       "\\begin{tabular}{r|lllllllllllllllllllllllllllllllllllllllllllllllllllllllllllllllllllllllllllllllllllllllllllllllllllllllllllllllllllllllllllllllll}\n",
       " sampleId & driver\\_TP53\\_MUTATION & driver\\_CDKN2A\\_DEL & driver\\_PIK3CA\\_MUTATION & driver\\_TERT\\_MUTATION & driver\\_KRAS\\_MUTATION & driver\\_APC\\_MUTATION & driver\\_PTEN\\_DEL & driver\\_BRAF\\_MUTATION & driver\\_MYC\\_AMP & ... & driver\\_SPOP\\_AMP & driver\\_B2M\\_MUTATION & driver\\_BRCA2\\_DEL & driver\\_FOXA1\\_AMP & driver\\_HIST2H3D\\_AMP & driver\\_HRAS\\_MUTATION & driver\\_TGFBR2\\_DEL & driver\\_TMPRSS2\\_DEL & driver\\_TPTE\\_DEL & driver\\_VEGFA\\_AMP\\\\\n",
       "\\hline\n",
       "\t CPCT02010003T & 0             & 0             & 0             & 0             & 0             & 0             & 0             & 0             & 0             & ...           & 0             & 0             & 0             & 0             & 0             & 0             & 0             & 0             & 0             & 0            \\\\\n",
       "\t CPCT02010022T & 1             & 1             & 0             & 0             & 0             & 0             & 0             & 0             & 0             & ...           & 0             & 0             & 0             & 0             & 0             & 0             & 0             & 0             & 0             & 0            \\\\\n",
       "\t CPCT02010031T & 0             & 0             & 0             & 0             & 0             & 0             & 0             & 0             & 0             & ...           & 0             & 0             & 0             & 0             & 0             & 0             & 0             & 0             & 0             & 0            \\\\\n",
       "\t CPCT02010035T & 1             & 0             & 0             & 0             & 0             & 0             & 0             & 0             & 0             & ...           & 0             & 1             & 0             & 0             & 0             & 0             & 0             & 0             & 0             & 0            \\\\\n",
       "\t CPCT02010037T & 0             & 1             & 0             & 0             & 1             & 0             & 0             & 0             & 0             & ...           & 0             & 0             & 0             & 0             & 0             & 0             & 0             & 0             & 0             & 0            \\\\\n",
       "\t CPCT02010043T & 0             & 0             & 1             & 0             & 1             & 0             & 0             & 0             & 0             & ...           & 0             & 0             & 0             & 0             & 0             & 0             & 0             & 0             & 0             & 0            \\\\\n",
       "\\end{tabular}\n"
      ],
      "text/markdown": [
       "\n",
       "| sampleId | driver_TP53_MUTATION | driver_CDKN2A_DEL | driver_PIK3CA_MUTATION | driver_TERT_MUTATION | driver_KRAS_MUTATION | driver_APC_MUTATION | driver_PTEN_DEL | driver_BRAF_MUTATION | driver_MYC_AMP | ... | driver_SPOP_AMP | driver_B2M_MUTATION | driver_BRCA2_DEL | driver_FOXA1_AMP | driver_HIST2H3D_AMP | driver_HRAS_MUTATION | driver_TGFBR2_DEL | driver_TMPRSS2_DEL | driver_TPTE_DEL | driver_VEGFA_AMP |\n",
       "|---|---|---|---|---|---|---|---|---|---|---|---|---|---|---|---|---|---|---|---|---|\n",
       "| CPCT02010003T | 0             | 0             | 0             | 0             | 0             | 0             | 0             | 0             | 0             | ...           | 0             | 0             | 0             | 0             | 0             | 0             | 0             | 0             | 0             | 0             |\n",
       "| CPCT02010022T | 1             | 1             | 0             | 0             | 0             | 0             | 0             | 0             | 0             | ...           | 0             | 0             | 0             | 0             | 0             | 0             | 0             | 0             | 0             | 0             |\n",
       "| CPCT02010031T | 0             | 0             | 0             | 0             | 0             | 0             | 0             | 0             | 0             | ...           | 0             | 0             | 0             | 0             | 0             | 0             | 0             | 0             | 0             | 0             |\n",
       "| CPCT02010035T | 1             | 0             | 0             | 0             | 0             | 0             | 0             | 0             | 0             | ...           | 0             | 1             | 0             | 0             | 0             | 0             | 0             | 0             | 0             | 0             |\n",
       "| CPCT02010037T | 0             | 1             | 0             | 0             | 1             | 0             | 0             | 0             | 0             | ...           | 0             | 0             | 0             | 0             | 0             | 0             | 0             | 0             | 0             | 0             |\n",
       "| CPCT02010043T | 0             | 0             | 1             | 0             | 1             | 0             | 0             | 0             | 0             | ...           | 0             | 0             | 0             | 0             | 0             | 0             | 0             | 0             | 0             | 0             |\n",
       "\n"
      ],
      "text/plain": [
       "  sampleId      driver_TP53_MUTATION driver_CDKN2A_DEL driver_PIK3CA_MUTATION\n",
       "1 CPCT02010003T 0                    0                 0                     \n",
       "2 CPCT02010022T 1                    1                 0                     \n",
       "3 CPCT02010031T 0                    0                 0                     \n",
       "4 CPCT02010035T 1                    0                 0                     \n",
       "5 CPCT02010037T 0                    1                 0                     \n",
       "6 CPCT02010043T 0                    0                 1                     \n",
       "  driver_TERT_MUTATION driver_KRAS_MUTATION driver_APC_MUTATION driver_PTEN_DEL\n",
       "1 0                    0                    0                   0              \n",
       "2 0                    0                    0                   0              \n",
       "3 0                    0                    0                   0              \n",
       "4 0                    0                    0                   0              \n",
       "5 0                    1                    0                   0              \n",
       "6 0                    1                    0                   0              \n",
       "  driver_BRAF_MUTATION driver_MYC_AMP ... driver_SPOP_AMP driver_B2M_MUTATION\n",
       "1 0                    0              ... 0               0                  \n",
       "2 0                    0              ... 0               0                  \n",
       "3 0                    0              ... 0               0                  \n",
       "4 0                    0              ... 0               1                  \n",
       "5 0                    0              ... 0               0                  \n",
       "6 0                    0              ... 0               0                  \n",
       "  driver_BRCA2_DEL driver_FOXA1_AMP driver_HIST2H3D_AMP driver_HRAS_MUTATION\n",
       "1 0                0                0                   0                   \n",
       "2 0                0                0                   0                   \n",
       "3 0                0                0                   0                   \n",
       "4 0                0                0                   0                   \n",
       "5 0                0                0                   0                   \n",
       "6 0                0                0                   0                   \n",
       "  driver_TGFBR2_DEL driver_TMPRSS2_DEL driver_TPTE_DEL driver_VEGFA_AMP\n",
       "1 0                 0                  0               0               \n",
       "2 0                 0                  0               0               \n",
       "3 0                 0                  0               0               \n",
       "4 0                 0                  0               0               \n",
       "5 0                 0                  0               0               \n",
       "6 0                 0                  0               0               "
      ]
     },
     "metadata": {},
     "output_type": "display_data"
    }
   ],
   "source": [
    "head(drivers)"
   ]
  },
  {
   "cell_type": "code",
   "execution_count": 31,
   "id": "c37d8261",
   "metadata": {},
   "outputs": [
    {
     "data": {
      "text/html": [
       "<ol class=list-inline>\n",
       "\t<li>3101</li>\n",
       "\t<li>75</li>\n",
       "</ol>\n"
      ],
      "text/latex": [
       "\\begin{enumerate*}\n",
       "\\item 3101\n",
       "\\item 75\n",
       "\\end{enumerate*}\n"
      ],
      "text/markdown": [
       "1. 3101\n",
       "2. 75\n",
       "\n",
       "\n"
      ],
      "text/plain": [
       "[1] 3101   75"
      ]
     },
     "metadata": {},
     "output_type": "display_data"
    }
   ],
   "source": [
    "clinical <- get_df('clinical_short.csv'); dim(clinical)"
   ]
  },
  {
   "cell_type": "code",
   "execution_count": 32,
   "id": "dd272538",
   "metadata": {},
   "outputs": [
    {
     "data": {
      "text/html": [
       "<ol class=list-inline>\n",
       "\t<li>2</li>\n",
       "\t<li>19358</li>\n",
       "</ol>\n"
      ],
      "text/latex": [
       "\\begin{enumerate*}\n",
       "\\item 2\n",
       "\\item 19358\n",
       "\\end{enumerate*}\n"
      ],
      "text/markdown": [
       "1. 2\n",
       "2. 19358\n",
       "\n",
       "\n"
      ],
      "text/plain": [
       "[1]     2 19358"
      ]
     },
     "metadata": {},
     "output_type": "display_data"
    }
   ],
   "source": [
    "somatic <- get_df('somatic_features.csv'); dim(somatic)"
   ]
  },
  {
   "cell_type": "code",
   "execution_count": 10,
   "id": "886cd22b",
   "metadata": {},
   "outputs": [
    {
     "data": {
      "text/html": [
       "<ol class=list-inline>\n",
       "\t<li>3101</li>\n",
       "\t<li>2</li>\n",
       "</ol>\n"
      ],
      "text/latex": [
       "\\begin{enumerate*}\n",
       "\\item 3101\n",
       "\\item 2\n",
       "\\end{enumerate*}\n"
      ],
      "text/markdown": [
       "1. 3101\n",
       "2. 2\n",
       "\n",
       "\n"
      ],
      "text/plain": [
       "[1] 3101    2"
      ]
     },
     "metadata": {},
     "output_type": "display_data"
    }
   ],
   "source": [
    "cnv <- get_df('cnv_features.csv'); dim(cnv)"
   ]
  },
  {
   "cell_type": "code",
   "execution_count": 12,
   "id": "9a48b605",
   "metadata": {},
   "outputs": [
    {
     "data": {
      "text/html": [
       "<ol class=list-inline>\n",
       "\t<li>3074</li>\n",
       "\t<li>16</li>\n",
       "</ol>\n"
      ],
      "text/latex": [
       "\\begin{enumerate*}\n",
       "\\item 3074\n",
       "\\item 16\n",
       "\\end{enumerate*}\n"
      ],
      "text/markdown": [
       "1. 3074\n",
       "2. 16\n",
       "\n",
       "\n"
      ],
      "text/plain": [
       "[1] 3074   16"
      ]
     },
     "metadata": {},
     "output_type": "display_data"
    }
   ],
   "source": [
    "hla <- get_df('hla_features.csv'); dim(hla)"
   ]
  },
  {
   "cell_type": "code",
   "execution_count": 13,
   "id": "84c2fb24",
   "metadata": {},
   "outputs": [
    {
     "data": {
      "text/html": [
       "<ol class=list-inline>\n",
       "\t<li>18436</li>\n",
       "\t<li>1941</li>\n",
       "</ol>\n"
      ],
      "text/latex": [
       "\\begin{enumerate*}\n",
       "\\item 18436\n",
       "\\item 1941\n",
       "\\end{enumerate*}\n"
      ],
      "text/markdown": [
       "1. 18436\n",
       "2. 1941\n",
       "\n",
       "\n"
      ],
      "text/plain": [
       "[1] 18436  1941"
      ]
     },
     "metadata": {},
     "output_type": "display_data"
    }
   ],
   "source": [
    "iso1 <- get_df('isofox_AdjTPM.csv'); dim(iso1)"
   ]
  },
  {
   "cell_type": "code",
   "execution_count": 14,
   "id": "306fb2fe",
   "metadata": {},
   "outputs": [
    {
     "data": {
      "text/html": [
       "<ol class=list-inline>\n",
       "\t<li>18436</li>\n",
       "\t<li>1941</li>\n",
       "</ol>\n"
      ],
      "text/latex": [
       "\\begin{enumerate*}\n",
       "\\item 18436\n",
       "\\item 1941\n",
       "\\end{enumerate*}\n"
      ],
      "text/markdown": [
       "1. 18436\n",
       "2. 1941\n",
       "\n",
       "\n"
      ],
      "text/plain": [
       "[1] 18436  1941"
      ]
     },
     "metadata": {},
     "output_type": "display_data"
    }
   ],
   "source": [
    "iso2 <- get_df('isofox_RawTPM.csv'); dim(iso2)"
   ]
  },
  {
   "cell_type": "code",
   "execution_count": 20,
   "id": "a8695681",
   "metadata": {},
   "outputs": [
    {
     "data": {
      "text/html": [
       "<ol class=list-inline>\n",
       "\t<li>3101</li>\n",
       "\t<li>25</li>\n",
       "</ol>\n"
      ],
      "text/latex": [
       "\\begin{enumerate*}\n",
       "\\item 3101\n",
       "\\item 25\n",
       "\\end{enumerate*}\n"
      ],
      "text/markdown": [
       "1. 3101\n",
       "2. 25\n",
       "\n",
       "\n"
      ],
      "text/plain": [
       "[1] 3101   25"
      ]
     },
     "metadata": {},
     "output_type": "display_data"
    }
   ],
   "source": [
    "summ <- get_df('summary_features.csv'); dim(summ)"
   ]
  },
  {
   "cell_type": "code",
   "execution_count": 21,
   "id": "573f7140",
   "metadata": {},
   "outputs": [
    {
     "data": {
      "text/html": [
       "<ol class=list-inline>\n",
       "\t<li>3101</li>\n",
       "\t<li>7</li>\n",
       "</ol>\n"
      ],
      "text/latex": [
       "\\begin{enumerate*}\n",
       "\\item 3101\n",
       "\\item 7\n",
       "\\end{enumerate*}\n"
      ],
      "text/markdown": [
       "1. 3101\n",
       "2. 7\n",
       "\n",
       "\n"
      ],
      "text/plain": [
       "[1] 3101    7"
      ]
     },
     "metadata": {},
     "output_type": "display_data"
    }
   ],
   "source": [
    "sv <- get_df('sv_features.csv'); dim(sv)"
   ]
  },
  {
   "cell_type": "code",
   "execution_count": 22,
   "id": "887f5afd",
   "metadata": {},
   "outputs": [
    {
     "data": {
      "text/html": [
       "<ol class=list-inline>\n",
       "\t<li>6457</li>\n",
       "\t<li>8</li>\n",
       "</ol>\n"
      ],
      "text/latex": [
       "\\begin{enumerate*}\n",
       "\\item 6457\n",
       "\\item 8\n",
       "\\end{enumerate*}\n"
      ],
      "text/markdown": [
       "1. 6457\n",
       "2. 8\n",
       "\n",
       "\n"
      ],
      "text/plain": [
       "[1] 6457    8"
      ]
     },
     "metadata": {},
     "output_type": "display_data"
    }
   ],
   "source": [
    "lilac <- get_df('lilac_features.csv'); dim(lilac)"
   ]
  },
  {
   "cell_type": "code",
   "execution_count": 30,
   "id": "5b535604",
   "metadata": {},
   "outputs": [
    {
     "data": {
      "text/html": [
       "<table>\n",
       "<thead><tr><th scope=col>ID_meta_hmfSampleId</th><th scope=col>lilac_imbalance</th><th scope=col>lilac_germline_alleles</th><th scope=col>lilac_mut_hla</th><th scope=col>lilac_del_hla</th><th scope=col>lilac_targeted_escape</th><th scope=col>lilac_non_targeted_escape</th><th scope=col>lilac_genetic_immune_escape</th></tr></thead>\n",
       "<tbody>\n",
       "\t<tr><td>DO51048</td><td>FALSE  </td><td>6      </td><td>FALSE  </td><td>FALSE  </td><td>FALSE  </td><td>FALSE  </td><td>FALSE  </td></tr>\n",
       "\t<tr><td>DO46838</td><td>FALSE  </td><td>5      </td><td>FALSE  </td><td>FALSE  </td><td>FALSE  </td><td>FALSE  </td><td>FALSE  </td></tr>\n",
       "\t<tr><td>DO52717</td><td>FALSE  </td><td>6      </td><td>FALSE  </td><td>FALSE  </td><td>FALSE  </td><td>FALSE  </td><td>FALSE  </td></tr>\n",
       "\t<tr><td>DO31729</td><td>FALSE  </td><td>6      </td><td>FALSE  </td><td>FALSE  </td><td>FALSE  </td><td>FALSE  </td><td>FALSE  </td></tr>\n",
       "\t<tr><td>DO51535</td><td>FALSE  </td><td>6      </td><td>FALSE  </td><td>FALSE  </td><td>FALSE  </td><td>FALSE  </td><td>FALSE  </td></tr>\n",
       "\t<tr><td>DO44919</td><td>FALSE  </td><td>6      </td><td>FALSE  </td><td>FALSE  </td><td>FALSE  </td><td>FALSE  </td><td>FALSE  </td></tr>\n",
       "</tbody>\n",
       "</table>\n"
      ],
      "text/latex": [
       "\\begin{tabular}{r|llllllll}\n",
       " ID\\_meta\\_hmfSampleId & lilac\\_imbalance & lilac\\_germline\\_alleles & lilac\\_mut\\_hla & lilac\\_del\\_hla & lilac\\_targeted\\_escape & lilac\\_non\\_targeted\\_escape & lilac\\_genetic\\_immune\\_escape\\\\\n",
       "\\hline\n",
       "\t DO51048 & FALSE   & 6       & FALSE   & FALSE   & FALSE   & FALSE   & FALSE  \\\\\n",
       "\t DO46838 & FALSE   & 5       & FALSE   & FALSE   & FALSE   & FALSE   & FALSE  \\\\\n",
       "\t DO52717 & FALSE   & 6       & FALSE   & FALSE   & FALSE   & FALSE   & FALSE  \\\\\n",
       "\t DO31729 & FALSE   & 6       & FALSE   & FALSE   & FALSE   & FALSE   & FALSE  \\\\\n",
       "\t DO51535 & FALSE   & 6       & FALSE   & FALSE   & FALSE   & FALSE   & FALSE  \\\\\n",
       "\t DO44919 & FALSE   & 6       & FALSE   & FALSE   & FALSE   & FALSE   & FALSE  \\\\\n",
       "\\end{tabular}\n"
      ],
      "text/markdown": [
       "\n",
       "| ID_meta_hmfSampleId | lilac_imbalance | lilac_germline_alleles | lilac_mut_hla | lilac_del_hla | lilac_targeted_escape | lilac_non_targeted_escape | lilac_genetic_immune_escape |\n",
       "|---|---|---|---|---|---|---|---|\n",
       "| DO51048 | FALSE   | 6       | FALSE   | FALSE   | FALSE   | FALSE   | FALSE   |\n",
       "| DO46838 | FALSE   | 5       | FALSE   | FALSE   | FALSE   | FALSE   | FALSE   |\n",
       "| DO52717 | FALSE   | 6       | FALSE   | FALSE   | FALSE   | FALSE   | FALSE   |\n",
       "| DO31729 | FALSE   | 6       | FALSE   | FALSE   | FALSE   | FALSE   | FALSE   |\n",
       "| DO51535 | FALSE   | 6       | FALSE   | FALSE   | FALSE   | FALSE   | FALSE   |\n",
       "| DO44919 | FALSE   | 6       | FALSE   | FALSE   | FALSE   | FALSE   | FALSE   |\n",
       "\n"
      ],
      "text/plain": [
       "  ID_meta_hmfSampleId lilac_imbalance lilac_germline_alleles lilac_mut_hla\n",
       "1 DO51048             FALSE           6                      FALSE        \n",
       "2 DO46838             FALSE           5                      FALSE        \n",
       "3 DO52717             FALSE           6                      FALSE        \n",
       "4 DO31729             FALSE           6                      FALSE        \n",
       "5 DO51535             FALSE           6                      FALSE        \n",
       "6 DO44919             FALSE           6                      FALSE        \n",
       "  lilac_del_hla lilac_targeted_escape lilac_non_targeted_escape\n",
       "1 FALSE         FALSE                 FALSE                    \n",
       "2 FALSE         FALSE                 FALSE                    \n",
       "3 FALSE         FALSE                 FALSE                    \n",
       "4 FALSE         FALSE                 FALSE                    \n",
       "5 FALSE         FALSE                 FALSE                    \n",
       "6 FALSE         FALSE                 FALSE                    \n",
       "  lilac_genetic_immune_escape\n",
       "1 FALSE                      \n",
       "2 FALSE                      \n",
       "3 FALSE                      \n",
       "4 FALSE                      \n",
       "5 FALSE                      \n",
       "6 FALSE                      "
      ]
     },
     "metadata": {},
     "output_type": "display_data"
    }
   ],
   "source": [
    "head(lilac)"
   ]
  },
  {
   "cell_type": "code",
   "execution_count": 3,
   "id": "e3989857",
   "metadata": {},
   "outputs": [
    {
     "data": {
      "text/html": [
       "<ol class=list-inline>\n",
       "\t<li>3101</li>\n",
       "\t<li>2458</li>\n",
       "</ol>\n"
      ],
      "text/latex": [
       "\\begin{enumerate*}\n",
       "\\item 3101\n",
       "\\item 2458\n",
       "\\end{enumerate*}\n"
      ],
      "text/markdown": [
       "1. 3101\n",
       "2. 2458\n",
       "\n",
       "\n"
      ],
      "text/plain": [
       "[1] 3101 2458"
      ]
     },
     "metadata": {},
     "output_type": "display_data"
    }
   ],
   "source": [
    "cnv_gene <- get_df('cnv_gene_features.csv'); dim(cnv_gene)"
   ]
  },
  {
   "cell_type": "code",
   "execution_count": 33,
   "id": "c3f2234c",
   "metadata": {},
   "outputs": [
    {
     "data": {
      "text/html": [
       "<ol class=list-inline>\n",
       "\t<li>1940</li>\n",
       "\t<li>25</li>\n",
       "</ol>\n"
      ],
      "text/latex": [
       "\\begin{enumerate*}\n",
       "\\item 1940\n",
       "\\item 25\n",
       "\\end{enumerate*}\n"
      ],
      "text/markdown": [
       "1. 1940\n",
       "2. 25\n",
       "\n",
       "\n"
      ],
      "text/plain": [
       "[1] 1940   25"
      ]
     },
     "metadata": {},
     "output_type": "display_data"
    }
   ],
   "source": [
    "cibersort <- get_df('cibersort_features.csv'); dim(cibersort)"
   ]
  }
 ],
 "metadata": {
  "kernelspec": {
   "display_name": "R",
   "language": "R",
   "name": "ir"
  },
  "language_info": {
   "codemirror_mode": "r",
   "file_extension": ".r",
   "mimetype": "text/x-r-source",
   "name": "R",
   "pygments_lexer": "r",
   "version": "3.6.1"
  }
 },
 "nbformat": 4,
 "nbformat_minor": 5
}
